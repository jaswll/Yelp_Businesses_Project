{
 "cells": [
  {
   "cell_type": "code",
   "execution_count": 12,
   "metadata": {},
   "outputs": [
    {
     "name": "stderr",
     "output_type": "stream",
     "text": [
      "C:\\Users\\Jason\\AppData\\Local\\conda\\conda\\envs\\DSI-6\\lib\\site-packages\\sklearn\\ensemble\\weight_boosting.py:29: DeprecationWarning: numpy.core.umath_tests is an internal NumPy module and should not be imported. It will be removed in a future NumPy release.\n",
      "  from numpy.core.umath_tests import inner1d\n"
     ]
    }
   ],
   "source": [
    "%run imports_and_functions.ipynb\n",
    "import geojson\n",
    "\n",
    "gmaps.configure(api_key=joblib.load('GooglemapsAPI_KEY.joblib')) # Jason's API key"
   ]
  },
  {
   "cell_type": "code",
   "execution_count": 26,
   "metadata": {},
   "outputs": [
    {
     "name": "stdout",
     "output_type": "stream",
     "text": [
      "Requirement already satisfied: geojson in c:\\users\\jason\\appdata\\local\\conda\\conda\\envs\\dsi-6\\lib\\site-packages (2.4.1)\n"
     ]
    }
   ],
   "source": [
    "# !pip install geojson"
   ]
  },
  {
   "cell_type": "markdown",
   "metadata": {
    "heading_collapsed": true
   },
   "source": [
    "## Installing GoogleMaps API and Testing"
   ]
  },
  {
   "cell_type": "code",
   "execution_count": 2,
   "metadata": {
    "collapsed": true,
    "hidden": true
   },
   "outputs": [
    {
     "name": "stderr",
     "output_type": "stream",
     "text": [
      "Enabling notebook extension jupyter-js-widgets/extension...\n",
      "      - Validating: ok\n"
     ]
    },
    {
     "name": "stdout",
     "output_type": "stream",
     "text": [
      "Collecting gmaps\n",
      "  Downloading https://files.pythonhosted.org/packages/56/bc/e1738b636f752fa399459e2461e4620e80f4640372c10b76aa2e259b5a16/gmaps-0.8.2.tar.gz (1.4MB)\n",
      "Requirement already satisfied: ipython>=5.3.0 in c:\\users\\jason\\appdata\\local\\conda\\conda\\envs\\dsi-6\\lib\\site-packages (from gmaps) (6.5.0)\n",
      "Requirement already satisfied: ipywidgets>=7.0.0 in c:\\users\\jason\\appdata\\local\\conda\\conda\\envs\\dsi-6\\lib\\site-packages (from gmaps) (7.4.1)\n",
      "Requirement already satisfied: traitlets>=4.3.0 in c:\\users\\jason\\appdata\\local\\conda\\conda\\envs\\dsi-6\\lib\\site-packages (from gmaps) (4.3.2)\n",
      "Collecting geojson>=2.0.0 (from gmaps)\n",
      "  Downloading https://files.pythonhosted.org/packages/f1/34/bc3a65faabce27a7faa755ab08d811207a4fc438f77ef09c229fc022d778/geojson-2.4.1-py2.py3-none-any.whl\n",
      "Requirement already satisfied: six in c:\\users\\jason\\appdata\\local\\conda\\conda\\envs\\dsi-6\\lib\\site-packages (from gmaps) (1.11.0)\n",
      "Requirement already satisfied: prompt-toolkit<2.0.0,>=1.0.15 in c:\\users\\jason\\appdata\\local\\conda\\conda\\envs\\dsi-6\\lib\\site-packages (from ipython>=5.3.0->gmaps) (1.0.15)\n",
      "Requirement already satisfied: backcall in c:\\users\\jason\\appdata\\local\\conda\\conda\\envs\\dsi-6\\lib\\site-packages (from ipython>=5.3.0->gmaps) (0.1.0)\n",
      "Requirement already satisfied: decorator in c:\\users\\jason\\appdata\\local\\conda\\conda\\envs\\dsi-6\\lib\\site-packages (from ipython>=5.3.0->gmaps) (4.3.0)\n",
      "Requirement already satisfied: pygments in c:\\users\\jason\\appdata\\local\\conda\\conda\\envs\\dsi-6\\lib\\site-packages (from ipython>=5.3.0->gmaps) (2.2.0)\n",
      "Requirement already satisfied: pickleshare in c:\\users\\jason\\appdata\\local\\conda\\conda\\envs\\dsi-6\\lib\\site-packages (from ipython>=5.3.0->gmaps) (0.7.4)\n",
      "Requirement already satisfied: jedi>=0.10 in c:\\users\\jason\\appdata\\local\\conda\\conda\\envs\\dsi-6\\lib\\site-packages (from ipython>=5.3.0->gmaps) (0.12.1)\n",
      "Requirement already satisfied: simplegeneric>0.8 in c:\\users\\jason\\appdata\\local\\conda\\conda\\envs\\dsi-6\\lib\\site-packages (from ipython>=5.3.0->gmaps) (0.8.1)\n",
      "Requirement already satisfied: setuptools>=18.5 in c:\\users\\jason\\appdata\\local\\conda\\conda\\envs\\dsi-6\\lib\\site-packages (from ipython>=5.3.0->gmaps) (40.2.0)\n",
      "Requirement already satisfied: colorama; sys_platform == \"win32\" in c:\\users\\jason\\appdata\\local\\conda\\conda\\envs\\dsi-6\\lib\\site-packages (from ipython>=5.3.0->gmaps) (0.3.9)\n",
      "Requirement already satisfied: ipykernel>=4.5.1 in c:\\users\\jason\\appdata\\local\\conda\\conda\\envs\\dsi-6\\lib\\site-packages (from ipywidgets>=7.0.0->gmaps) (4.9.0)\n",
      "Requirement already satisfied: nbformat>=4.2.0 in c:\\users\\jason\\appdata\\local\\conda\\conda\\envs\\dsi-6\\lib\\site-packages (from ipywidgets>=7.0.0->gmaps) (4.4.0)\n",
      "Requirement already satisfied: widgetsnbextension~=3.4.0 in c:\\users\\jason\\appdata\\local\\conda\\conda\\envs\\dsi-6\\lib\\site-packages (from ipywidgets>=7.0.0->gmaps) (3.4.1)\n",
      "Requirement already satisfied: ipython_genutils in c:\\users\\jason\\appdata\\local\\conda\\conda\\envs\\dsi-6\\lib\\site-packages (from traitlets>=4.3.0->gmaps) (0.2.0)\n",
      "Requirement already satisfied: wcwidth in c:\\users\\jason\\appdata\\local\\conda\\conda\\envs\\dsi-6\\lib\\site-packages (from prompt-toolkit<2.0.0,>=1.0.15->ipython>=5.3.0->gmaps) (0.1.7)\n",
      "Requirement already satisfied: parso>=0.3.0 in c:\\users\\jason\\appdata\\local\\conda\\conda\\envs\\dsi-6\\lib\\site-packages (from jedi>=0.10->ipython>=5.3.0->gmaps) (0.3.1)\n",
      "Requirement already satisfied: jupyter_client in c:\\users\\jason\\appdata\\local\\conda\\conda\\envs\\dsi-6\\lib\\site-packages (from ipykernel>=4.5.1->ipywidgets>=7.0.0->gmaps) (5.2.3)\n",
      "Requirement already satisfied: tornado>=4.0 in c:\\users\\jason\\appdata\\local\\conda\\conda\\envs\\dsi-6\\lib\\site-packages (from ipykernel>=4.5.1->ipywidgets>=7.0.0->gmaps) (5.1)\n",
      "Requirement already satisfied: jsonschema!=2.5.0,>=2.4 in c:\\users\\jason\\appdata\\local\\conda\\conda\\envs\\dsi-6\\lib\\site-packages (from nbformat>=4.2.0->ipywidgets>=7.0.0->gmaps) (2.6.0)\n",
      "Requirement already satisfied: jupyter_core in c:\\users\\jason\\appdata\\local\\conda\\conda\\envs\\dsi-6\\lib\\site-packages (from nbformat>=4.2.0->ipywidgets>=7.0.0->gmaps) (4.4.0)\n",
      "Requirement already satisfied: notebook>=4.4.1 in c:\\users\\jason\\appdata\\roaming\\python\\python36\\site-packages (from widgetsnbextension~=3.4.0->ipywidgets>=7.0.0->gmaps) (5.7.2)\n",
      "Requirement already satisfied: pyzmq>=13 in c:\\users\\jason\\appdata\\local\\conda\\conda\\envs\\dsi-6\\lib\\site-packages (from jupyter_client->ipykernel>=4.5.1->ipywidgets>=7.0.0->gmaps) (17.1.2)\n",
      "Requirement already satisfied: python-dateutil>=2.1 in c:\\users\\jason\\appdata\\local\\conda\\conda\\envs\\dsi-6\\lib\\site-packages (from jupyter_client->ipykernel>=4.5.1->ipywidgets>=7.0.0->gmaps) (2.7.3)\n",
      "Requirement already satisfied: jinja2 in c:\\users\\jason\\appdata\\local\\conda\\conda\\envs\\dsi-6\\lib\\site-packages (from notebook>=4.4.1->widgetsnbextension~=3.4.0->ipywidgets>=7.0.0->gmaps) (2.10)\n",
      "Requirement already satisfied: terminado>=0.8.1 in c:\\users\\jason\\appdata\\local\\conda\\conda\\envs\\dsi-6\\lib\\site-packages (from notebook>=4.4.1->widgetsnbextension~=3.4.0->ipywidgets>=7.0.0->gmaps) (0.8.1)\n",
      "Requirement already satisfied: Send2Trash in c:\\users\\jason\\appdata\\local\\conda\\conda\\envs\\dsi-6\\lib\\site-packages (from notebook>=4.4.1->widgetsnbextension~=3.4.0->ipywidgets>=7.0.0->gmaps) (1.5.0)\n",
      "Requirement already satisfied: prometheus-client in c:\\users\\jason\\appdata\\local\\conda\\conda\\envs\\dsi-6\\lib\\site-packages (from notebook>=4.4.1->widgetsnbextension~=3.4.0->ipywidgets>=7.0.0->gmaps) (0.3.1)\n",
      "Requirement already satisfied: nbconvert in c:\\users\\jason\\appdata\\local\\conda\\conda\\envs\\dsi-6\\lib\\site-packages (from notebook>=4.4.1->widgetsnbextension~=3.4.0->ipywidgets>=7.0.0->gmaps) (5.4.0)\n",
      "Requirement already satisfied: MarkupSafe>=0.23 in c:\\users\\jason\\appdata\\local\\conda\\conda\\envs\\dsi-6\\lib\\site-packages (from jinja2->notebook>=4.4.1->widgetsnbextension~=3.4.0->ipywidgets>=7.0.0->gmaps) (1.0)\n",
      "Requirement already satisfied: mistune>=0.8.1 in c:\\users\\jason\\appdata\\local\\conda\\conda\\envs\\dsi-6\\lib\\site-packages (from nbconvert->notebook>=4.4.1->widgetsnbextension~=3.4.0->ipywidgets>=7.0.0->gmaps) (0.8.3)\n",
      "Requirement already satisfied: entrypoints>=0.2.2 in c:\\users\\jason\\appdata\\local\\conda\\conda\\envs\\dsi-6\\lib\\site-packages (from nbconvert->notebook>=4.4.1->widgetsnbextension~=3.4.0->ipywidgets>=7.0.0->gmaps) (0.2.3)\n",
      "Requirement already satisfied: bleach in c:\\users\\jason\\appdata\\local\\conda\\conda\\envs\\dsi-6\\lib\\site-packages (from nbconvert->notebook>=4.4.1->widgetsnbextension~=3.4.0->ipywidgets>=7.0.0->gmaps) (2.1.4)\n",
      "Requirement already satisfied: pandocfilters>=1.4.1 in c:\\users\\jason\\appdata\\local\\conda\\conda\\envs\\dsi-6\\lib\\site-packages (from nbconvert->notebook>=4.4.1->widgetsnbextension~=3.4.0->ipywidgets>=7.0.0->gmaps) (1.4.2)\n",
      "Requirement already satisfied: testpath in c:\\users\\jason\\appdata\\local\\conda\\conda\\envs\\dsi-6\\lib\\site-packages (from nbconvert->notebook>=4.4.1->widgetsnbextension~=3.4.0->ipywidgets>=7.0.0->gmaps) (0.3.1)\n",
      "Requirement already satisfied: defusedxml in c:\\users\\jason\\appdata\\local\\conda\\conda\\envs\\dsi-6\\lib\\site-packages (from nbconvert->notebook>=4.4.1->widgetsnbextension~=3.4.0->ipywidgets>=7.0.0->gmaps) (0.5.0)\n",
      "Requirement already satisfied: html5lib!=1.0b1,!=1.0b2,!=1.0b3,!=1.0b4,!=1.0b5,!=1.0b6,!=1.0b7,!=1.0b8,>=0.99999999pre in c:\\users\\jason\\appdata\\local\\conda\\conda\\envs\\dsi-6\\lib\\site-packages (from bleach->nbconvert->notebook>=4.4.1->widgetsnbextension~=3.4.0->ipywidgets>=7.0.0->gmaps) (1.0.1)\n",
      "Requirement already satisfied: webencodings in c:\\users\\jason\\appdata\\local\\conda\\conda\\envs\\dsi-6\\lib\\site-packages (from html5lib!=1.0b1,!=1.0b2,!=1.0b3,!=1.0b4,!=1.0b5,!=1.0b6,!=1.0b7,!=1.0b8,>=0.99999999pre->bleach->nbconvert->notebook>=4.4.1->widgetsnbextension~=3.4.0->ipywidgets>=7.0.0->gmaps) (0.5.1)\n",
      "Building wheels for collected packages: gmaps\n",
      "  Running setup.py bdist_wheel for gmaps: started\n",
      "  Running setup.py bdist_wheel for gmaps: finished with status 'done'\n",
      "  Stored in directory: C:\\Users\\Jason\\AppData\\Local\\pip\\Cache\\wheels\\16\\1a\\74\\02d670b357d38f78e68c9044c070f8d1cfad15833e135fda3a\n",
      "Successfully built gmaps\n",
      "Installing collected packages: geojson, gmaps\n",
      "Successfully installed geojson-2.4.1 gmaps-0.8.2\n"
     ]
    },
    {
     "name": "stderr",
     "output_type": "stream",
     "text": [
      "Enabling notebook extension jupyter-gmaps/extension...\n",
      "      - Validating: ok\n"
     ]
    }
   ],
   "source": [
    "# These need to be installed for the interactive googlemaps to work properly\n",
    "!jupyter nbextension enable --py --sys-prefix widgetsnbextension\n",
    "!pip install gmaps\n",
    "!jupyter nbextension enable --py --sys-prefix gmaps"
   ]
  },
  {
   "cell_type": "code",
   "execution_count": 2,
   "metadata": {
    "hidden": true
   },
   "outputs": [
    {
     "name": "stderr",
     "output_type": "stream",
     "text": [
      "Enabling notebook extension jupyter-gmaps/extension...\n",
      "      - Validating: ok\n",
      "Enabling notebook extension jupyter-js-widgets/extension...\n",
      "      - Validating: ok\n"
     ]
    }
   ],
   "source": [
    "import gmaps.datasets\n",
    "\n",
    "!jupyter nbextension enable --py gmaps\n",
    "!jupyter nbextension enable --py widgetsnbextension"
   ]
  },
  {
   "cell_type": "code",
   "execution_count": 3,
   "metadata": {
    "hidden": true
   },
   "outputs": [
    {
     "data": {
      "text/html": [
       "<div>\n",
       "<style scoped>\n",
       "    .dataframe tbody tr th:only-of-type {\n",
       "        vertical-align: middle;\n",
       "    }\n",
       "\n",
       "    .dataframe tbody tr th {\n",
       "        vertical-align: top;\n",
       "    }\n",
       "\n",
       "    .dataframe thead th {\n",
       "        text-align: right;\n",
       "    }\n",
       "</style>\n",
       "<table border=\"1\" class=\"dataframe\">\n",
       "  <thead>\n",
       "    <tr style=\"text-align: right;\">\n",
       "      <th></th>\n",
       "      <th>latitude</th>\n",
       "      <th>longitude</th>\n",
       "      <th>magnitude</th>\n",
       "    </tr>\n",
       "  </thead>\n",
       "  <tbody>\n",
       "    <tr>\n",
       "      <th>0</th>\n",
       "      <td>65.193300</td>\n",
       "      <td>-149.072500</td>\n",
       "      <td>1.70</td>\n",
       "    </tr>\n",
       "    <tr>\n",
       "      <th>1</th>\n",
       "      <td>38.791832</td>\n",
       "      <td>-122.780830</td>\n",
       "      <td>2.10</td>\n",
       "    </tr>\n",
       "    <tr>\n",
       "      <th>2</th>\n",
       "      <td>38.818001</td>\n",
       "      <td>-122.792168</td>\n",
       "      <td>0.48</td>\n",
       "    </tr>\n",
       "    <tr>\n",
       "      <th>3</th>\n",
       "      <td>33.601667</td>\n",
       "      <td>-116.727667</td>\n",
       "      <td>0.78</td>\n",
       "    </tr>\n",
       "    <tr>\n",
       "      <th>4</th>\n",
       "      <td>37.378334</td>\n",
       "      <td>-118.520836</td>\n",
       "      <td>3.64</td>\n",
       "    </tr>\n",
       "  </tbody>\n",
       "</table>\n",
       "</div>"
      ],
      "text/plain": [
       "    latitude   longitude  magnitude\n",
       "0  65.193300 -149.072500       1.70\n",
       "1  38.791832 -122.780830       2.10\n",
       "2  38.818001 -122.792168       0.48\n",
       "3  33.601667 -116.727667       0.78\n",
       "4  37.378334 -118.520836       3.64"
      ]
     },
     "execution_count": 3,
     "metadata": {},
     "output_type": "execute_result"
    }
   ],
   "source": [
    "earthquake_df = gmaps.datasets.load_dataset_as_df('earthquakes')\n",
    "earthquake_df.head()"
   ]
  },
  {
   "cell_type": "code",
   "execution_count": 6,
   "metadata": {
    "hidden": true
   },
   "outputs": [],
   "source": [
    "# test on default earthquake dataset\n",
    "locations = earthquake_df[['latitude', 'longitude']]\n",
    "weights = earthquake_df['magnitude']\n",
    "# fig = gmaps.figure()\n",
    "# fig.add_layer(gmaps.heatmap_layer(locations, weights=weights))\n",
    "# fig"
   ]
  },
  {
   "cell_type": "markdown",
   "metadata": {
    "heading_collapsed": true
   },
   "source": [
    "## Main GoogleMaps Visualizations for Las Vegas"
   ]
  },
  {
   "cell_type": "code",
   "execution_count": 2,
   "metadata": {
    "hidden": true
   },
   "outputs": [
    {
     "name": "stdout",
     "output_type": "stream",
     "text": [
      "<class 'pandas.core.frame.DataFrame'>\n",
      "RangeIndex: 1784 entries, 0 to 1783\n",
      "Data columns (total 13 columns):\n",
      "geoid            1784 non-null int64\n",
      "distance         1784 non-null float64\n",
      "urban            1784 non-null object\n",
      "latitude         1784 non-null float64\n",
      "longitude        1784 non-null float64\n",
      "blockgroup       1784 non-null int64\n",
      "income           1784 non-null int64\n",
      "blockgrouppop    1784 non-null int64\n",
      "population       1784 non-null int64\n",
      "landarea         1784 non-null int64\n",
      "waterarea        1784 non-null int64\n",
      "block            1784 non-null int64\n",
      "corpus           1784 non-null object\n",
      "dtypes: float64(3), int64(8), object(2)\n",
      "memory usage: 181.3+ KB\n"
     ]
    }
   ],
   "source": [
    "trainrowcoords = pd.read_csv('CorpusLasVegasTrainRowCoords.csv',sep=';',compression='gzip')\n",
    "trainrowcoords.info()"
   ]
  },
  {
   "cell_type": "code",
   "execution_count": 3,
   "metadata": {
    "hidden": true
   },
   "outputs": [],
   "source": [
    "gmaps.configure(api_key=joblib.load('GooglemapsAPI_KEY.joblib')) # Jason's API key\n"
   ]
  },
  {
   "cell_type": "code",
   "execution_count": 4,
   "metadata": {
    "hidden": true
   },
   "outputs": [
    {
     "data": {
      "application/vnd.jupyter.widget-view+json": {
       "model_id": "e46ec7a9130749188c4243ba4d719b20",
       "version_major": 2,
       "version_minor": 0
      },
      "text/plain": [
       "Figure(layout=FigureLayout(height='420px'))"
      ]
     },
     "metadata": {},
     "output_type": "display_data"
    }
   ],
   "source": [
    "locations = trainrowcoords[['latitude', 'longitude']]\n",
    "fig = gmaps.figure()\n",
    "fig.add_layer(gmaps.heatmap_layer(locations))\n",
    "fig.add_layer(gmaps.transit_layer())\n",
    "fig"
   ]
  },
  {
   "cell_type": "code",
   "execution_count": 12,
   "metadata": {
    "hidden": true
   },
   "outputs": [
    {
     "name": "stdout",
     "output_type": "stream",
     "text": [
      "<class 'pandas.core.frame.DataFrame'>\n",
      "MultiIndex: 12882 entries, (36.058, -115.1820861) to (36.183, -115.179353601)\n",
      "Data columns (total 18 columns):\n",
      "lat_index.1      12882 non-null float64\n",
      "long_index.1     12882 non-null float64\n",
      "name             12882 non-null object\n",
      "address          12470 non-null object\n",
      "attributes       11131 non-null object\n",
      "categories       12851 non-null object\n",
      "city             12882 non-null object\n",
      "latitude         12882 non-null float64\n",
      "longitude        12882 non-null float64\n",
      "neighborhood     10489 non-null object\n",
      "postal_code      12882 non-null int64\n",
      "review_count     12882 non-null int64\n",
      "stars            12882 non-null float64\n",
      "state            12882 non-null object\n",
      "price            12882 non-null int64\n",
      "main_category    12845 non-null object\n",
      "distance         12882 non-null float64\n",
      "alias            12882 non-null object\n",
      "dtypes: float64(6), int64(3), object(9)\n",
      "memory usage: 1.9+ MB\n"
     ]
    }
   ],
   "source": [
    "df = pd.read_csv('LasVegasBusinessesFinal.csv',sep=';',compression='gzip',\n",
    "                 index_col=['lat_index','long_index'])\n",
    "df.info()"
   ]
  },
  {
   "cell_type": "code",
   "execution_count": 13,
   "metadata": {
    "hidden": true
   },
   "outputs": [
    {
     "data": {
      "application/vnd.jupyter.widget-view+json": {
       "model_id": "6da929769a76418d9a9d5e099ad2db86",
       "version_major": 2,
       "version_minor": 0
      },
      "text/plain": [
       "Figure(layout=FigureLayout(height='420px'))"
      ]
     },
     "metadata": {},
     "output_type": "display_data"
    }
   ],
   "source": [
    "locations = df[['latitude', 'longitude']]\n",
    "fig = gmaps.figure()\n",
    "fig.add_layer(gmaps.heatmap_layer(locations))\n",
    "fig"
   ]
  },
  {
   "cell_type": "code",
   "execution_count": 14,
   "metadata": {
    "hidden": true
   },
   "outputs": [
    {
     "data": {
      "application/vnd.jupyter.widget-view+json": {
       "model_id": "95e0cd64e04d4767a2aaaa4888d4e917",
       "version_major": 2,
       "version_minor": 0
      },
      "text/plain": [
       "Figure(layout=FigureLayout(height='420px'))"
      ]
     },
     "metadata": {},
     "output_type": "display_data"
    }
   ],
   "source": [
    "df_4dollar = df[df['price']==4][['latitude', 'longitude']]\n",
    "\n",
    "df_1dollar = df[df['price']==1][['latitude', 'longitude']]\n",
    "\n",
    "df_1dollar = gmaps.symbol_layer(\n",
    "df_1dollar, fill_color='rgba(0, 150, 0, 0.4)',\n",
    "stroke_color='rgba(0, 150, 0, 0.4)', scale=2\n",
    ")\n",
    "df_4dollar = gmaps.symbol_layer(\n",
    "df_4dollar, fill_color='rgba(200, 0, 0, 0.4)',\n",
    "stroke_color='rgba(200, 0, 0, 0.4)', scale=2\n",
    ")\n",
    "fig = gmaps.figure()\n",
    "fig.add_layer(df_1dollar)\n",
    "fig.add_layer(df_4dollar)\n",
    "fig"
   ]
  },
  {
   "cell_type": "markdown",
   "metadata": {},
   "source": [
    "## Phoenix EDA with GoogleMaps"
   ]
  },
  {
   "cell_type": "code",
   "execution_count": 3,
   "metadata": {},
   "outputs": [
    {
     "name": "stdout",
     "output_type": "stream",
     "text": [
      "<class 'pandas.core.frame.DataFrame'>\n",
      "MultiIndex: 7807 entries, (33.367, -112.055788) to (33.525, -112.0471247)\n",
      "Data columns (total 18 columns):\n",
      "lat_index        7807 non-null float64\n",
      "long_index       7807 non-null float64\n",
      "address          7186 non-null object\n",
      "attributes       6495 non-null object\n",
      "categories       7771 non-null object\n",
      "city             7807 non-null object\n",
      "latitude         7807 non-null float64\n",
      "longitude        7807 non-null float64\n",
      "name             7807 non-null object\n",
      "neighborhood     0 non-null float64\n",
      "postal_code      7718 non-null float64\n",
      "review_count     7807 non-null int64\n",
      "stars            7807 non-null float64\n",
      "state            7807 non-null object\n",
      "price            7807 non-null int64\n",
      "main_category    7760 non-null object\n",
      "distance         7807 non-null float64\n",
      "alias            7807 non-null object\n",
      "dtypes: float64(8), int64(2), object(8)\n",
      "memory usage: 1.1+ MB\n"
     ]
    }
   ],
   "source": [
    "df = pd.read_csv('PhoenixBusinessesFinal.csv',sep=';',compression='gzip',\n",
    "                 index_col=['lat_index.1','long_index.1'])\n",
    "df.info()"
   ]
  },
  {
   "cell_type": "code",
   "execution_count": 4,
   "metadata": {},
   "outputs": [
    {
     "data": {
      "application/vnd.jupyter.widget-view+json": {
       "model_id": "ca1fd60e33444565b649dd4a3ccd6351",
       "version_major": 2,
       "version_minor": 0
      },
      "text/plain": [
       "Figure(layout=FigureLayout(height='420px'))"
      ]
     },
     "metadata": {},
     "output_type": "display_data"
    }
   ],
   "source": [
    "locations = df[['latitude', 'longitude']]\n",
    "fig = gmaps.figure()\n",
    "fig.add_layer(gmaps.heatmap_layer(locations))\n",
    "fig"
   ]
  },
  {
   "cell_type": "code",
   "execution_count": 8,
   "metadata": {},
   "outputs": [
    {
     "data": {
      "application/vnd.jupyter.widget-view+json": {
       "model_id": "f022478eaec04098b60792d030975643",
       "version_major": 2,
       "version_minor": 0
      },
      "text/plain": [
       "Figure(layout=FigureLayout(height='420px'))"
      ]
     },
     "metadata": {},
     "output_type": "display_data"
    }
   ],
   "source": [
    "df_4dollar = df[df['price']==4][['latitude', 'longitude']]\n",
    "\n",
    "df_1dollar = df[df['price']==3][['latitude', 'longitude']]\n",
    "\n",
    "df_1dollar = gmaps.symbol_layer(\n",
    "df_1dollar, fill_color='rgba(0, 150, 0, 0.4)',\n",
    "stroke_color='rgba(0, 150, 0, 0.4)', scale=2\n",
    ")\n",
    "df_4dollar = gmaps.symbol_layer(\n",
    "df_4dollar, fill_color='rgba(200, 0, 0, 0.4)',\n",
    "stroke_color='rgba(200, 0, 0, 0.4)', scale=2\n",
    ")\n",
    "fig = gmaps.figure()\n",
    "fig.add_layer(df_1dollar)\n",
    "fig.add_layer(df_4dollar)\n",
    "fig"
   ]
  },
  {
   "cell_type": "code",
   "execution_count": 10,
   "metadata": {},
   "outputs": [
    {
     "name": "stdout",
     "output_type": "stream",
     "text": [
      "<class 'pandas.core.frame.DataFrame'>\n",
      "RangeIndex: 3349 entries, 0 to 3348\n",
      "Data columns (total 11 columns):\n",
      "Unnamed: 0            3349 non-null int64\n",
      "distance_from_city    3349 non-null float64\n",
      "urban                 3349 non-null object\n",
      "latitude              3349 non-null float64\n",
      "longitude             3349 non-null float64\n",
      "blockgroup            3349 non-null int64\n",
      "income                3349 non-null float64\n",
      "blockgrouppop         3349 non-null int64\n",
      "population            3349 non-null int64\n",
      "landarea              3349 non-null int64\n",
      "waterarea             3349 non-null int64\n",
      "dtypes: float64(4), int64(6), object(1)\n",
      "memory usage: 287.9+ KB\n"
     ]
    }
   ],
   "source": [
    "df = pd.read_csv('PhoenixTrainRowCoords.csv',sep=';',compression='gzip'\n",
    "                 )\n",
    "df.info()\n",
    "\n",
    "locations = df[['latitude', 'longitude']]\n",
    "fig = gmaps.figure()\n",
    "fig.add_layer(gmaps.heatmap_layer(locations))\n",
    "fig"
   ]
  },
  {
   "cell_type": "markdown",
   "metadata": {},
   "source": [
    "## Charlotte EDA with GoogleMaps"
   ]
  },
  {
   "cell_type": "code",
   "execution_count": 12,
   "metadata": {},
   "outputs": [
    {
     "name": "stdout",
     "output_type": "stream",
     "text": [
      "<class 'pandas.core.frame.DataFrame'>\n",
      "MultiIndex: 3816 entries, (35.163000000000004, -80.849808) to (35.284, -80.85747629999999)\n",
      "Data columns (total 18 columns):\n",
      "lat_index        3816 non-null float64\n",
      "long_index       3816 non-null float64\n",
      "address          3656 non-null object\n",
      "attributes       3323 non-null object\n",
      "categories       3806 non-null object\n",
      "city             3816 non-null object\n",
      "latitude         3816 non-null float64\n",
      "longitude        3816 non-null float64\n",
      "name             3816 non-null object\n",
      "neighborhood     2999 non-null object\n",
      "postal_code      3782 non-null float64\n",
      "review_count     3816 non-null int64\n",
      "stars            3816 non-null float64\n",
      "state            3816 non-null object\n",
      "price            3816 non-null int64\n",
      "main_category    3799 non-null object\n",
      "distance         3816 non-null float64\n",
      "alias            3816 non-null object\n",
      "dtypes: float64(7), int64(2), object(9)\n",
      "memory usage: 572.1+ KB\n"
     ]
    }
   ],
   "source": [
    "df = pd.read_csv('CharlotteBusinessesFinal.csv',sep=';',compression='gzip',\n",
    "                 index_col=['lat_index.1','long_index.1'])\n",
    "df.info()"
   ]
  },
  {
   "cell_type": "code",
   "execution_count": 13,
   "metadata": {},
   "outputs": [
    {
     "data": {
      "application/vnd.jupyter.widget-view+json": {
       "model_id": "49d21bd5bdcc4bfcb17cbcb185a9c024",
       "version_major": 2,
       "version_minor": 0
      },
      "text/plain": [
       "Figure(layout=FigureLayout(height='420px'))"
      ]
     },
     "metadata": {},
     "output_type": "display_data"
    }
   ],
   "source": [
    "locations = df[['latitude', 'longitude']]\n",
    "fig = gmaps.figure()\n",
    "fig.add_layer(gmaps.heatmap_layer(locations))\n",
    "fig"
   ]
  },
  {
   "cell_type": "code",
   "execution_count": 14,
   "metadata": {},
   "outputs": [
    {
     "data": {
      "application/vnd.jupyter.widget-view+json": {
       "model_id": "24009078d3294454876582a45fb33676",
       "version_major": 2,
       "version_minor": 0
      },
      "text/plain": [
       "Figure(layout=FigureLayout(height='420px'))"
      ]
     },
     "metadata": {},
     "output_type": "display_data"
    }
   ],
   "source": [
    "df_4dollar = df[df['price']==4][['latitude', 'longitude']]\n",
    "\n",
    "df_1dollar = df[df['price']==1][['latitude', 'longitude']]\n",
    "\n",
    "df_1dollar = gmaps.symbol_layer(\n",
    "df_1dollar, fill_color='rgba(0, 150, 0, 0.4)',\n",
    "stroke_color='rgba(0, 150, 0, 0.4)', scale=2\n",
    ")\n",
    "df_4dollar = gmaps.symbol_layer(\n",
    "df_4dollar, fill_color='rgba(200, 0, 0, 0.4)',\n",
    "stroke_color='rgba(200, 0, 0, 0.4)', scale=2\n",
    ")\n",
    "fig = gmaps.figure()\n",
    "fig.add_layer(df_1dollar)\n",
    "fig.add_layer(df_4dollar)\n",
    "fig"
   ]
  },
  {
   "cell_type": "code",
   "execution_count": 16,
   "metadata": {},
   "outputs": [
    {
     "name": "stdout",
     "output_type": "stream",
     "text": [
      "<class 'pandas.core.frame.DataFrame'>\n",
      "RangeIndex: 2739 entries, 0 to 2738\n",
      "Data columns (total 12 columns):\n",
      "Unnamed: 0            2739 non-null int64\n",
      "distance_from_city    2739 non-null float64\n",
      "urban                 2739 non-null object\n",
      "latitude              2739 non-null float64\n",
      "longitude             2739 non-null float64\n",
      "blockgroup            2739 non-null int64\n",
      "income                2739 non-null object\n",
      "blockgrouppop         2739 non-null int64\n",
      "population            2739 non-null int64\n",
      "landarea              2739 non-null int64\n",
      "waterarea             2739 non-null int64\n",
      "corpus                2739 non-null object\n",
      "dtypes: float64(3), int64(6), object(3)\n",
      "memory usage: 256.9+ KB\n"
     ]
    },
    {
     "data": {
      "application/vnd.jupyter.widget-view+json": {
       "model_id": "09978740b5424ef1ba17bd3914a3f320",
       "version_major": 2,
       "version_minor": 0
      },
      "text/plain": [
       "Figure(layout=FigureLayout(height='420px'))"
      ]
     },
     "metadata": {},
     "output_type": "display_data"
    }
   ],
   "source": [
    "df = pd.read_csv('CorpusCharlotteTrainRowCoords.csv',sep=';',compression='gzip'\n",
    "                 )\n",
    "df.info()\n",
    "\n",
    "locations = df[['latitude', 'longitude']]\n",
    "fig = gmaps.figure()\n",
    "fig.add_layer(gmaps.heatmap_layer(locations))\n",
    "fig"
   ]
  },
  {
   "cell_type": "code",
   "execution_count": null,
   "metadata": {},
   "outputs": [],
   "source": []
  },
  {
   "cell_type": "markdown",
   "metadata": {},
   "source": [
    "## Pittsburgh EDA with GoogleMaps"
   ]
  },
  {
   "cell_type": "code",
   "execution_count": 22,
   "metadata": {},
   "outputs": [
    {
     "name": "stdout",
     "output_type": "stream",
     "text": [
      "<class 'pandas.core.frame.DataFrame'>\n",
      "RangeIndex: 3297 entries, 0 to 3296\n",
      "Data columns (total 12 columns):\n",
      "Unnamed: 0            3297 non-null int64\n",
      "distance_from_city    3297 non-null float64\n",
      "urban                 3297 non-null object\n",
      "latitude              3297 non-null float64\n",
      "longitude             3297 non-null float64\n",
      "blockgroup            3297 non-null int64\n",
      "income                3270 non-null float64\n",
      "blockgrouppop         3297 non-null int64\n",
      "population            3297 non-null int64\n",
      "landarea              3297 non-null int64\n",
      "waterarea             3297 non-null int64\n",
      "corpus                3297 non-null object\n",
      "dtypes: float64(4), int64(6), object(2)\n",
      "memory usage: 309.2+ KB\n"
     ]
    }
   ],
   "source": [
    "df = pd.read_csv('CorpusPittsburghTrainRowCoords.csv',sep=';',compression='gzip'\n",
    "                 )\n",
    "df.info()"
   ]
  },
  {
   "cell_type": "code",
   "execution_count": 17,
   "metadata": {},
   "outputs": [
    {
     "name": "stdout",
     "output_type": "stream",
     "text": [
      "<class 'pandas.core.frame.DataFrame'>\n",
      "RangeIndex: 3297 entries, 0 to 3296\n",
      "Data columns (total 12 columns):\n",
      "Unnamed: 0            3297 non-null int64\n",
      "distance_from_city    3297 non-null float64\n",
      "urban                 3297 non-null object\n",
      "latitude              3297 non-null float64\n",
      "longitude             3297 non-null float64\n",
      "blockgroup            3297 non-null int64\n",
      "income                3270 non-null float64\n",
      "blockgrouppop         3297 non-null int64\n",
      "population            3297 non-null int64\n",
      "landarea              3297 non-null int64\n",
      "waterarea             3297 non-null int64\n",
      "corpus                3297 non-null object\n",
      "dtypes: float64(4), int64(6), object(2)\n",
      "memory usage: 309.2+ KB\n"
     ]
    },
    {
     "data": {
      "application/vnd.jupyter.widget-view+json": {
       "model_id": "e570c42b8b294204a4510c7e1f3f02aa",
       "version_major": 2,
       "version_minor": 0
      },
      "text/plain": [
       "Figure(layout=FigureLayout(height='420px'))"
      ]
     },
     "metadata": {},
     "output_type": "display_data"
    }
   ],
   "source": [
    "locations = df[['latitude', 'longitude']]\n",
    "fig = gmaps.figure()\n",
    "fig.add_layer(gmaps.heatmap_layer(locations))\n",
    "fig"
   ]
  },
  {
   "cell_type": "code",
   "execution_count": 23,
   "metadata": {},
   "outputs": [
    {
     "data": {
      "application/vnd.jupyter.widget-view+json": {
       "model_id": "f16ead593a6445da919db72091ed9ead",
       "version_major": 2,
       "version_minor": 0
      },
      "text/plain": [
       "Figure(layout=FigureLayout(height='420px'))"
      ]
     },
     "metadata": {},
     "output_type": "display_data"
    }
   ],
   "source": [
    "locations = df[df['income']>60000][['latitude', 'longitude']]\n",
    "fig = gmaps.figure()\n",
    "fig.add_layer(gmaps.heatmap_layer(locations))\n",
    "fig"
   ]
  },
  {
   "cell_type": "code",
   "execution_count": 25,
   "metadata": {},
   "outputs": [
    {
     "data": {
      "application/vnd.jupyter.widget-view+json": {
       "model_id": "44f0d5c495e24a288915d27d71ea5943",
       "version_major": 2,
       "version_minor": 0
      },
      "text/plain": [
       "Figure(layout=FigureLayout(height='420px'))"
      ]
     },
     "metadata": {},
     "output_type": "display_data"
    }
   ],
   "source": [
    "locations = df[df['income']<20000][['latitude', 'longitude']]\n",
    "fig = gmaps.figure()\n",
    "fig.add_layer(gmaps.heatmap_layer(locations))\n",
    "fig"
   ]
  },
  {
   "cell_type": "code",
   "execution_count": 18,
   "metadata": {},
   "outputs": [
    {
     "name": "stdout",
     "output_type": "stream",
     "text": [
      "<class 'pandas.core.frame.DataFrame'>\n",
      "MultiIndex: 4166 entries, (40.384, -79.9955023) to (40.508, -79.99061329999998)\n",
      "Data columns (total 18 columns):\n",
      "lat_index        4166 non-null float64\n",
      "long_index       4166 non-null float64\n",
      "address          4044 non-null object\n",
      "attributes       3721 non-null object\n",
      "categories       4159 non-null object\n",
      "city             4166 non-null object\n",
      "latitude         4166 non-null float64\n",
      "longitude        4166 non-null float64\n",
      "name             4166 non-null object\n",
      "neighborhood     4057 non-null object\n",
      "postal_code      4149 non-null float64\n",
      "review_count     4166 non-null int64\n",
      "stars            4166 non-null float64\n",
      "state            4166 non-null object\n",
      "price            4166 non-null int64\n",
      "main_category    4146 non-null object\n",
      "distance         4166 non-null float64\n",
      "alias            4166 non-null object\n",
      "dtypes: float64(7), int64(2), object(9)\n",
      "memory usage: 628.1+ KB\n"
     ]
    }
   ],
   "source": [
    "df = pd.read_csv('PittsburghBusinessesFinal.csv',sep=';',compression='gzip',\n",
    "                 index_col=['lat_index.1','long_index.1'])\n",
    "df.info()"
   ]
  },
  {
   "cell_type": "code",
   "execution_count": 19,
   "metadata": {},
   "outputs": [
    {
     "data": {
      "application/vnd.jupyter.widget-view+json": {
       "model_id": "25ab6a0011b34bceadc4846eab3bcfa8",
       "version_major": 2,
       "version_minor": 0
      },
      "text/plain": [
       "Figure(layout=FigureLayout(height='420px'))"
      ]
     },
     "metadata": {},
     "output_type": "display_data"
    }
   ],
   "source": [
    "locations = df[['latitude', 'longitude']]\n",
    "fig = gmaps.figure()\n",
    "fig.add_layer(gmaps.heatmap_layer(locations))\n",
    "fig"
   ]
  },
  {
   "cell_type": "code",
   "execution_count": 20,
   "metadata": {},
   "outputs": [
    {
     "data": {
      "application/vnd.jupyter.widget-view+json": {
       "model_id": "aee1bec85f1e4defaa580fef844e09d7",
       "version_major": 2,
       "version_minor": 0
      },
      "text/plain": [
       "Figure(layout=FigureLayout(height='420px'))"
      ]
     },
     "metadata": {},
     "output_type": "display_data"
    }
   ],
   "source": [
    "df_4dollar = df[df['price']==4][['latitude', 'longitude']]\n",
    "\n",
    "df_1dollar = df[df['price']==1][['latitude', 'longitude']]\n",
    "\n",
    "df_1dollar = gmaps.symbol_layer(\n",
    "df_1dollar, fill_color='rgba(0, 150, 0, 0.4)',\n",
    "stroke_color='rgba(0, 150, 0, 0.4)', scale=2\n",
    ")\n",
    "df_4dollar = gmaps.symbol_layer(\n",
    "df_4dollar, fill_color='rgba(200, 0, 0, 0.4)',\n",
    "stroke_color='rgba(200, 0, 0, 0.4)', scale=2\n",
    ")\n",
    "fig = gmaps.figure()\n",
    "fig.add_layer(df_1dollar)\n",
    "fig.add_layer(df_4dollar)\n",
    "fig"
   ]
  },
  {
   "cell_type": "code",
   "execution_count": 21,
   "metadata": {},
   "outputs": [
    {
     "data": {
      "application/vnd.jupyter.widget-view+json": {
       "model_id": "e0d374e8c75449cc8642ef579e23218e",
       "version_major": 2,
       "version_minor": 0
      },
      "text/plain": [
       "Figure(layout=FigureLayout(height='420px'))"
      ]
     },
     "metadata": {},
     "output_type": "display_data"
    }
   ],
   "source": [
    "df_4dollar = df[df['price']==3][['latitude', 'longitude']]\n",
    "\n",
    "df_1dollar = df[df['price']==0][['latitude', 'longitude']]\n",
    "\n",
    "df_1dollar = gmaps.symbol_layer(\n",
    "df_1dollar, fill_color='rgba(0, 150, 0, 0.4)',\n",
    "stroke_color='rgba(0, 150, 0, 0.4)', scale=2\n",
    ")\n",
    "df_4dollar = gmaps.symbol_layer(\n",
    "df_4dollar, fill_color='rgba(200, 0, 0, 0.4)',\n",
    "stroke_color='rgba(200, 0, 0, 0.4)', scale=2\n",
    ")\n",
    "fig = gmaps.figure()\n",
    "fig.add_layer(df_1dollar)\n",
    "fig.add_layer(df_4dollar)\n",
    "fig"
   ]
  },
  {
   "cell_type": "code",
   "execution_count": null,
   "metadata": {},
   "outputs": [],
   "source": []
  }
 ],
 "metadata": {
  "kernelspec": {
   "display_name": "Python 3",
   "language": "python",
   "name": "python3"
  },
  "language_info": {
   "codemirror_mode": {
    "name": "ipython",
    "version": 3
   },
   "file_extension": ".py",
   "mimetype": "text/x-python",
   "name": "python",
   "nbconvert_exporter": "python",
   "pygments_lexer": "ipython3",
   "version": "3.6.6"
  }
 },
 "nbformat": 4,
 "nbformat_minor": 2
}
