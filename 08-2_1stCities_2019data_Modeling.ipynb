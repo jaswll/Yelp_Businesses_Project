{
 "cells": [
  {
   "cell_type": "code",
   "execution_count": 1,
   "metadata": {},
   "outputs": [
    {
     "name": "stderr",
     "output_type": "stream",
     "text": [
      "C:\\Users\\Jason\\AppData\\Local\\conda\\conda\\envs\\DSI-6\\lib\\site-packages\\sklearn\\ensemble\\weight_boosting.py:29: DeprecationWarning: numpy.core.umath_tests is an internal NumPy module and should not be imported. It will be removed in a future NumPy release.\n",
      "  from numpy.core.umath_tests import inner1d\n"
     ]
    }
   ],
   "source": [
    "%run imports_and_functions.ipynb"
   ]
  },
  {
   "cell_type": "markdown",
   "metadata": {},
   "source": [
    "## Constructing All 1st Cities Dataset (Charlotte, Las Vegas, Phoenix, Pittsburgh)"
   ]
  },
  {
   "cell_type": "code",
   "execution_count": 2,
   "metadata": {},
   "outputs": [],
   "source": [
    "X1 = joblib.load('X_trainCharlotteUpdated.joblib')\n",
    "X2 = joblib.load('X_trainLasVegasUpdated.joblib')\n",
    "X3 = joblib.load('X_trainPhoenixUpdated.joblib')\n",
    "X4 = joblib.load('X_trainPittsburghUpdated.joblib')"
   ]
  },
  {
   "cell_type": "code",
   "execution_count": 3,
   "metadata": {},
   "outputs": [
    {
     "name": "stdout",
     "output_type": "stream",
     "text": [
      "(3131, 1482) (2713, 1482) (4401, 1482) (3297, 1482)\n"
     ]
    }
   ],
   "source": [
    "print(X1.shape, X2.shape, X3.shape, X4.shape)"
   ]
  },
  {
   "cell_type": "code",
   "execution_count": 4,
   "metadata": {},
   "outputs": [
    {
     "data": {
      "text/plain": [
       "(4401, 11)"
      ]
     },
     "execution_count": 4,
     "metadata": {},
     "output_type": "execute_result"
    }
   ],
   "source": [
    "blocks = pd.read_csv('PhoenixTrainRowCoords.csv', sep=';', compression='gzip')\n",
    "blocks.shape"
   ]
  },
  {
   "cell_type": "code",
   "execution_count": 5,
   "metadata": {},
   "outputs": [],
   "source": [
    "y3 = blocks['income']"
   ]
  },
  {
   "cell_type": "code",
   "execution_count": 6,
   "metadata": {},
   "outputs": [],
   "source": [
    "y1 = joblib.load('y_trainCharlotteUpdated.joblib')\n",
    "y2 = joblib.load('y_trainLasVegasUpdated.joblib')\n",
    "y4 = joblib.load('y_trainPittsburgh.joblib')"
   ]
  },
  {
   "cell_type": "code",
   "execution_count": 7,
   "metadata": {},
   "outputs": [
    {
     "name": "stdout",
     "output_type": "stream",
     "text": [
      "(3131,) (2713,) (4401,) (3297,)\n"
     ]
    }
   ],
   "source": [
    "print(y1.shape, y2.shape, y3.shape, y4.shape)"
   ]
  },
  {
   "cell_type": "code",
   "execution_count": 8,
   "metadata": {},
   "outputs": [
    {
     "data": {
      "text/plain": [
       "(13542, 1482)"
      ]
     },
     "execution_count": 8,
     "metadata": {},
     "output_type": "execute_result"
    }
   ],
   "source": [
    "X_allcities = X1.append(X2).append(X3).append(X4)\n",
    "X_allcities.shape"
   ]
  },
  {
   "cell_type": "code",
   "execution_count": 9,
   "metadata": {},
   "outputs": [
    {
     "data": {
      "text/plain": [
       "(13542,)"
      ]
     },
     "execution_count": 9,
     "metadata": {},
     "output_type": "execute_result"
    }
   ],
   "source": [
    "# Old 1st cities length is 9502\n",
    "y_allcities = y1.append(y2).append(y3).append(y4)\n",
    "y_allcities.shape"
   ]
  },
  {
   "cell_type": "code",
   "execution_count": 10,
   "metadata": {},
   "outputs": [
    {
     "data": {
      "text/html": [
       "<div>\n",
       "<style scoped>\n",
       "    .dataframe tbody tr th:only-of-type {\n",
       "        vertical-align: middle;\n",
       "    }\n",
       "\n",
       "    .dataframe tbody tr th {\n",
       "        vertical-align: top;\n",
       "    }\n",
       "\n",
       "    .dataframe thead th {\n",
       "        text-align: right;\n",
       "    }\n",
       "</style>\n",
       "<table border=\"1\" class=\"dataframe\">\n",
       "  <thead>\n",
       "    <tr style=\"text-align: right;\">\n",
       "      <th></th>\n",
       "      <th>landarea</th>\n",
       "      <th>waterarea</th>\n",
       "      <th>0_restaurants_near</th>\n",
       "      <th>0_restaurants_far</th>\n",
       "      <th>1_restaurants_near</th>\n",
       "      <th>1_restaurants_far</th>\n",
       "      <th>2_restaurants_near</th>\n",
       "      <th>2_restaurants_far</th>\n",
       "      <th>3_restaurants_near</th>\n",
       "      <th>3_restaurants_far</th>\n",
       "      <th>4_restaurants_near</th>\n",
       "      <th>4_restaurants_far</th>\n",
       "      <th>0_shopping_near</th>\n",
       "      <th>0_shopping_far</th>\n",
       "      <th>1_shopping_near</th>\n",
       "      <th>1_shopping_far</th>\n",
       "      <th>2_shopping_near</th>\n",
       "      <th>2_shopping_far</th>\n",
       "      <th>3_shopping_near</th>\n",
       "      <th>3_shopping_far</th>\n",
       "      <th>4_shopping_near</th>\n",
       "      <th>4_shopping_far</th>\n",
       "      <th>0_food_near</th>\n",
       "      <th>0_food_far</th>\n",
       "      <th>1_food_near</th>\n",
       "      <th>1_food_far</th>\n",
       "      <th>2_food_near</th>\n",
       "      <th>2_food_far</th>\n",
       "      <th>3_food_near</th>\n",
       "      <th>3_food_far</th>\n",
       "      <th>4_food_near</th>\n",
       "      <th>4_food_far</th>\n",
       "      <th>0_beautysvc_near</th>\n",
       "      <th>0_beautysvc_far</th>\n",
       "      <th>1_beautysvc_near</th>\n",
       "      <th>1_beautysvc_far</th>\n",
       "      <th>2_beautysvc_near</th>\n",
       "      <th>2_beautysvc_far</th>\n",
       "      <th>3_beautysvc_near</th>\n",
       "      <th>3_beautysvc_far</th>\n",
       "      <th>4_beautysvc_near</th>\n",
       "      <th>4_beautysvc_far</th>\n",
       "      <th>0_homeservices_near</th>\n",
       "      <th>0_homeservices_far</th>\n",
       "      <th>1_homeservices_near</th>\n",
       "      <th>...</th>\n",
       "      <th>2_hair_extensions_far</th>\n",
       "      <th>3_hair_extensions_near</th>\n",
       "      <th>3_hair_extensions_far</th>\n",
       "      <th>4_hair_extensions_near</th>\n",
       "      <th>4_hair_extensions_far</th>\n",
       "      <th>0_lawyers_near</th>\n",
       "      <th>0_lawyers_far</th>\n",
       "      <th>1_lawyers_near</th>\n",
       "      <th>1_lawyers_far</th>\n",
       "      <th>2_lawyers_near</th>\n",
       "      <th>2_lawyers_far</th>\n",
       "      <th>3_lawyers_near</th>\n",
       "      <th>3_lawyers_far</th>\n",
       "      <th>4_lawyers_near</th>\n",
       "      <th>4_lawyers_far</th>\n",
       "      <th>0_french_near</th>\n",
       "      <th>0_french_far</th>\n",
       "      <th>1_french_near</th>\n",
       "      <th>1_french_far</th>\n",
       "      <th>2_french_near</th>\n",
       "      <th>2_french_far</th>\n",
       "      <th>3_french_near</th>\n",
       "      <th>3_french_far</th>\n",
       "      <th>4_french_near</th>\n",
       "      <th>4_french_far</th>\n",
       "      <th>0_selfstorage_near</th>\n",
       "      <th>0_selfstorage_far</th>\n",
       "      <th>1_selfstorage_near</th>\n",
       "      <th>1_selfstorage_far</th>\n",
       "      <th>2_selfstorage_near</th>\n",
       "      <th>2_selfstorage_far</th>\n",
       "      <th>3_selfstorage_near</th>\n",
       "      <th>3_selfstorage_far</th>\n",
       "      <th>4_selfstorage_near</th>\n",
       "      <th>4_selfstorage_far</th>\n",
       "      <th>0_physicaltherapy_near</th>\n",
       "      <th>0_physicaltherapy_far</th>\n",
       "      <th>1_physicaltherapy_near</th>\n",
       "      <th>1_physicaltherapy_far</th>\n",
       "      <th>2_physicaltherapy_near</th>\n",
       "      <th>2_physicaltherapy_far</th>\n",
       "      <th>3_physicaltherapy_near</th>\n",
       "      <th>3_physicaltherapy_far</th>\n",
       "      <th>4_physicaltherapy_near</th>\n",
       "      <th>4_physicaltherapy_far</th>\n",
       "    </tr>\n",
       "  </thead>\n",
       "  <tbody>\n",
       "    <tr>\n",
       "      <th>3.711900e+14</th>\n",
       "      <td>0</td>\n",
       "      <td>0</td>\n",
       "      <td>36</td>\n",
       "      <td>101</td>\n",
       "      <td>28</td>\n",
       "      <td>142</td>\n",
       "      <td>8</td>\n",
       "      <td>93</td>\n",
       "      <td>0</td>\n",
       "      <td>14</td>\n",
       "      <td>0</td>\n",
       "      <td>3</td>\n",
       "      <td>40</td>\n",
       "      <td>125</td>\n",
       "      <td>1</td>\n",
       "      <td>21</td>\n",
       "      <td>2</td>\n",
       "      <td>44</td>\n",
       "      <td>1</td>\n",
       "      <td>17</td>\n",
       "      <td>0</td>\n",
       "      <td>3</td>\n",
       "      <td>53</td>\n",
       "      <td>151</td>\n",
       "      <td>43</td>\n",
       "      <td>88</td>\n",
       "      <td>5</td>\n",
       "      <td>100</td>\n",
       "      <td>0</td>\n",
       "      <td>2</td>\n",
       "      <td>0</td>\n",
       "      <td>0</td>\n",
       "      <td>19</td>\n",
       "      <td>12</td>\n",
       "      <td>0</td>\n",
       "      <td>2</td>\n",
       "      <td>8</td>\n",
       "      <td>38</td>\n",
       "      <td>2</td>\n",
       "      <td>10</td>\n",
       "      <td>0</td>\n",
       "      <td>38</td>\n",
       "      <td>575</td>\n",
       "      <td>633</td>\n",
       "      <td>0</td>\n",
       "      <td>...</td>\n",
       "      <td>3</td>\n",
       "      <td>0</td>\n",
       "      <td>0</td>\n",
       "      <td>0</td>\n",
       "      <td>0</td>\n",
       "      <td>3</td>\n",
       "      <td>2</td>\n",
       "      <td>0</td>\n",
       "      <td>0</td>\n",
       "      <td>0</td>\n",
       "      <td>0</td>\n",
       "      <td>0</td>\n",
       "      <td>0</td>\n",
       "      <td>0</td>\n",
       "      <td>0</td>\n",
       "      <td>0</td>\n",
       "      <td>0</td>\n",
       "      <td>0</td>\n",
       "      <td>0</td>\n",
       "      <td>0</td>\n",
       "      <td>0</td>\n",
       "      <td>0</td>\n",
       "      <td>1</td>\n",
       "      <td>0</td>\n",
       "      <td>3</td>\n",
       "      <td>3</td>\n",
       "      <td>0</td>\n",
       "      <td>0</td>\n",
       "      <td>0</td>\n",
       "      <td>0</td>\n",
       "      <td>0</td>\n",
       "      <td>0</td>\n",
       "      <td>0</td>\n",
       "      <td>0</td>\n",
       "      <td>0</td>\n",
       "      <td>0</td>\n",
       "      <td>1</td>\n",
       "      <td>0</td>\n",
       "      <td>0</td>\n",
       "      <td>0</td>\n",
       "      <td>0</td>\n",
       "      <td>0</td>\n",
       "      <td>0</td>\n",
       "      <td>0</td>\n",
       "      <td>0</td>\n",
       "    </tr>\n",
       "    <tr>\n",
       "      <th>3.711900e+14</th>\n",
       "      <td>0</td>\n",
       "      <td>0</td>\n",
       "      <td>98</td>\n",
       "      <td>42</td>\n",
       "      <td>72</td>\n",
       "      <td>99</td>\n",
       "      <td>32</td>\n",
       "      <td>71</td>\n",
       "      <td>6</td>\n",
       "      <td>9</td>\n",
       "      <td>0</td>\n",
       "      <td>3</td>\n",
       "      <td>119</td>\n",
       "      <td>47</td>\n",
       "      <td>1</td>\n",
       "      <td>21</td>\n",
       "      <td>2</td>\n",
       "      <td>44</td>\n",
       "      <td>6</td>\n",
       "      <td>12</td>\n",
       "      <td>1</td>\n",
       "      <td>2</td>\n",
       "      <td>173</td>\n",
       "      <td>31</td>\n",
       "      <td>55</td>\n",
       "      <td>76</td>\n",
       "      <td>54</td>\n",
       "      <td>51</td>\n",
       "      <td>1</td>\n",
       "      <td>1</td>\n",
       "      <td>0</td>\n",
       "      <td>0</td>\n",
       "      <td>21</td>\n",
       "      <td>10</td>\n",
       "      <td>2</td>\n",
       "      <td>0</td>\n",
       "      <td>26</td>\n",
       "      <td>24</td>\n",
       "      <td>2</td>\n",
       "      <td>10</td>\n",
       "      <td>38</td>\n",
       "      <td>0</td>\n",
       "      <td>1161</td>\n",
       "      <td>49</td>\n",
       "      <td>0</td>\n",
       "      <td>...</td>\n",
       "      <td>3</td>\n",
       "      <td>0</td>\n",
       "      <td>0</td>\n",
       "      <td>0</td>\n",
       "      <td>0</td>\n",
       "      <td>3</td>\n",
       "      <td>2</td>\n",
       "      <td>0</td>\n",
       "      <td>0</td>\n",
       "      <td>0</td>\n",
       "      <td>0</td>\n",
       "      <td>0</td>\n",
       "      <td>0</td>\n",
       "      <td>0</td>\n",
       "      <td>0</td>\n",
       "      <td>0</td>\n",
       "      <td>0</td>\n",
       "      <td>0</td>\n",
       "      <td>0</td>\n",
       "      <td>0</td>\n",
       "      <td>0</td>\n",
       "      <td>1</td>\n",
       "      <td>0</td>\n",
       "      <td>0</td>\n",
       "      <td>3</td>\n",
       "      <td>3</td>\n",
       "      <td>0</td>\n",
       "      <td>0</td>\n",
       "      <td>0</td>\n",
       "      <td>0</td>\n",
       "      <td>0</td>\n",
       "      <td>0</td>\n",
       "      <td>0</td>\n",
       "      <td>0</td>\n",
       "      <td>0</td>\n",
       "      <td>1</td>\n",
       "      <td>0</td>\n",
       "      <td>0</td>\n",
       "      <td>0</td>\n",
       "      <td>0</td>\n",
       "      <td>0</td>\n",
       "      <td>0</td>\n",
       "      <td>0</td>\n",
       "      <td>0</td>\n",
       "      <td>0</td>\n",
       "    </tr>\n",
       "    <tr>\n",
       "      <th>3.711900e+14</th>\n",
       "      <td>0</td>\n",
       "      <td>0</td>\n",
       "      <td>95</td>\n",
       "      <td>45</td>\n",
       "      <td>71</td>\n",
       "      <td>99</td>\n",
       "      <td>25</td>\n",
       "      <td>77</td>\n",
       "      <td>6</td>\n",
       "      <td>9</td>\n",
       "      <td>0</td>\n",
       "      <td>3</td>\n",
       "      <td>119</td>\n",
       "      <td>48</td>\n",
       "      <td>1</td>\n",
       "      <td>21</td>\n",
       "      <td>2</td>\n",
       "      <td>45</td>\n",
       "      <td>5</td>\n",
       "      <td>13</td>\n",
       "      <td>1</td>\n",
       "      <td>2</td>\n",
       "      <td>173</td>\n",
       "      <td>32</td>\n",
       "      <td>55</td>\n",
       "      <td>78</td>\n",
       "      <td>54</td>\n",
       "      <td>50</td>\n",
       "      <td>1</td>\n",
       "      <td>2</td>\n",
       "      <td>0</td>\n",
       "      <td>0</td>\n",
       "      <td>21</td>\n",
       "      <td>6</td>\n",
       "      <td>2</td>\n",
       "      <td>0</td>\n",
       "      <td>26</td>\n",
       "      <td>20</td>\n",
       "      <td>2</td>\n",
       "      <td>10</td>\n",
       "      <td>38</td>\n",
       "      <td>0</td>\n",
       "      <td>1152</td>\n",
       "      <td>56</td>\n",
       "      <td>0</td>\n",
       "      <td>...</td>\n",
       "      <td>3</td>\n",
       "      <td>0</td>\n",
       "      <td>0</td>\n",
       "      <td>0</td>\n",
       "      <td>0</td>\n",
       "      <td>3</td>\n",
       "      <td>2</td>\n",
       "      <td>0</td>\n",
       "      <td>0</td>\n",
       "      <td>0</td>\n",
       "      <td>0</td>\n",
       "      <td>0</td>\n",
       "      <td>0</td>\n",
       "      <td>0</td>\n",
       "      <td>0</td>\n",
       "      <td>0</td>\n",
       "      <td>0</td>\n",
       "      <td>0</td>\n",
       "      <td>0</td>\n",
       "      <td>0</td>\n",
       "      <td>0</td>\n",
       "      <td>1</td>\n",
       "      <td>0</td>\n",
       "      <td>0</td>\n",
       "      <td>3</td>\n",
       "      <td>3</td>\n",
       "      <td>0</td>\n",
       "      <td>0</td>\n",
       "      <td>0</td>\n",
       "      <td>0</td>\n",
       "      <td>0</td>\n",
       "      <td>0</td>\n",
       "      <td>0</td>\n",
       "      <td>0</td>\n",
       "      <td>0</td>\n",
       "      <td>1</td>\n",
       "      <td>0</td>\n",
       "      <td>0</td>\n",
       "      <td>0</td>\n",
       "      <td>0</td>\n",
       "      <td>0</td>\n",
       "      <td>0</td>\n",
       "      <td>0</td>\n",
       "      <td>0</td>\n",
       "      <td>0</td>\n",
       "    </tr>\n",
       "    <tr>\n",
       "      <th>3.711900e+14</th>\n",
       "      <td>0</td>\n",
       "      <td>0</td>\n",
       "      <td>48</td>\n",
       "      <td>92</td>\n",
       "      <td>58</td>\n",
       "      <td>96</td>\n",
       "      <td>24</td>\n",
       "      <td>76</td>\n",
       "      <td>3</td>\n",
       "      <td>11</td>\n",
       "      <td>0</td>\n",
       "      <td>3</td>\n",
       "      <td>43</td>\n",
       "      <td>124</td>\n",
       "      <td>0</td>\n",
       "      <td>14</td>\n",
       "      <td>2</td>\n",
       "      <td>36</td>\n",
       "      <td>1</td>\n",
       "      <td>9</td>\n",
       "      <td>0</td>\n",
       "      <td>3</td>\n",
       "      <td>58</td>\n",
       "      <td>142</td>\n",
       "      <td>44</td>\n",
       "      <td>66</td>\n",
       "      <td>11</td>\n",
       "      <td>79</td>\n",
       "      <td>1</td>\n",
       "      <td>2</td>\n",
       "      <td>0</td>\n",
       "      <td>0</td>\n",
       "      <td>20</td>\n",
       "      <td>6</td>\n",
       "      <td>2</td>\n",
       "      <td>0</td>\n",
       "      <td>22</td>\n",
       "      <td>23</td>\n",
       "      <td>2</td>\n",
       "      <td>10</td>\n",
       "      <td>0</td>\n",
       "      <td>38</td>\n",
       "      <td>581</td>\n",
       "      <td>625</td>\n",
       "      <td>0</td>\n",
       "      <td>...</td>\n",
       "      <td>3</td>\n",
       "      <td>0</td>\n",
       "      <td>0</td>\n",
       "      <td>0</td>\n",
       "      <td>0</td>\n",
       "      <td>3</td>\n",
       "      <td>2</td>\n",
       "      <td>0</td>\n",
       "      <td>0</td>\n",
       "      <td>0</td>\n",
       "      <td>0</td>\n",
       "      <td>0</td>\n",
       "      <td>0</td>\n",
       "      <td>0</td>\n",
       "      <td>0</td>\n",
       "      <td>0</td>\n",
       "      <td>0</td>\n",
       "      <td>0</td>\n",
       "      <td>0</td>\n",
       "      <td>0</td>\n",
       "      <td>0</td>\n",
       "      <td>1</td>\n",
       "      <td>0</td>\n",
       "      <td>0</td>\n",
       "      <td>3</td>\n",
       "      <td>3</td>\n",
       "      <td>0</td>\n",
       "      <td>0</td>\n",
       "      <td>0</td>\n",
       "      <td>0</td>\n",
       "      <td>0</td>\n",
       "      <td>0</td>\n",
       "      <td>0</td>\n",
       "      <td>0</td>\n",
       "      <td>0</td>\n",
       "      <td>0</td>\n",
       "      <td>1</td>\n",
       "      <td>0</td>\n",
       "      <td>0</td>\n",
       "      <td>0</td>\n",
       "      <td>0</td>\n",
       "      <td>0</td>\n",
       "      <td>0</td>\n",
       "      <td>0</td>\n",
       "      <td>0</td>\n",
       "    </tr>\n",
       "    <tr>\n",
       "      <th>3.711900e+14</th>\n",
       "      <td>0</td>\n",
       "      <td>0</td>\n",
       "      <td>52</td>\n",
       "      <td>88</td>\n",
       "      <td>63</td>\n",
       "      <td>92</td>\n",
       "      <td>25</td>\n",
       "      <td>76</td>\n",
       "      <td>5</td>\n",
       "      <td>10</td>\n",
       "      <td>0</td>\n",
       "      <td>3</td>\n",
       "      <td>44</td>\n",
       "      <td>124</td>\n",
       "      <td>0</td>\n",
       "      <td>14</td>\n",
       "      <td>2</td>\n",
       "      <td>37</td>\n",
       "      <td>5</td>\n",
       "      <td>5</td>\n",
       "      <td>1</td>\n",
       "      <td>3</td>\n",
       "      <td>58</td>\n",
       "      <td>143</td>\n",
       "      <td>51</td>\n",
       "      <td>61</td>\n",
       "      <td>11</td>\n",
       "      <td>78</td>\n",
       "      <td>1</td>\n",
       "      <td>2</td>\n",
       "      <td>0</td>\n",
       "      <td>0</td>\n",
       "      <td>20</td>\n",
       "      <td>6</td>\n",
       "      <td>2</td>\n",
       "      <td>0</td>\n",
       "      <td>22</td>\n",
       "      <td>24</td>\n",
       "      <td>2</td>\n",
       "      <td>10</td>\n",
       "      <td>0</td>\n",
       "      <td>38</td>\n",
       "      <td>577</td>\n",
       "      <td>625</td>\n",
       "      <td>0</td>\n",
       "      <td>...</td>\n",
       "      <td>3</td>\n",
       "      <td>0</td>\n",
       "      <td>0</td>\n",
       "      <td>0</td>\n",
       "      <td>0</td>\n",
       "      <td>3</td>\n",
       "      <td>2</td>\n",
       "      <td>0</td>\n",
       "      <td>0</td>\n",
       "      <td>0</td>\n",
       "      <td>0</td>\n",
       "      <td>0</td>\n",
       "      <td>0</td>\n",
       "      <td>0</td>\n",
       "      <td>0</td>\n",
       "      <td>0</td>\n",
       "      <td>0</td>\n",
       "      <td>0</td>\n",
       "      <td>0</td>\n",
       "      <td>0</td>\n",
       "      <td>0</td>\n",
       "      <td>1</td>\n",
       "      <td>0</td>\n",
       "      <td>0</td>\n",
       "      <td>3</td>\n",
       "      <td>3</td>\n",
       "      <td>0</td>\n",
       "      <td>0</td>\n",
       "      <td>0</td>\n",
       "      <td>0</td>\n",
       "      <td>0</td>\n",
       "      <td>0</td>\n",
       "      <td>0</td>\n",
       "      <td>0</td>\n",
       "      <td>0</td>\n",
       "      <td>1</td>\n",
       "      <td>0</td>\n",
       "      <td>0</td>\n",
       "      <td>0</td>\n",
       "      <td>0</td>\n",
       "      <td>0</td>\n",
       "      <td>0</td>\n",
       "      <td>0</td>\n",
       "      <td>0</td>\n",
       "      <td>0</td>\n",
       "    </tr>\n",
       "  </tbody>\n",
       "</table>\n",
       "<p>5 rows × 1482 columns</p>\n",
       "</div>"
      ],
      "text/plain": [
       "              landarea  waterarea  0_restaurants_near  0_restaurants_far  \\\n",
       "3.711900e+14         0          0                  36                101   \n",
       "3.711900e+14         0          0                  98                 42   \n",
       "3.711900e+14         0          0                  95                 45   \n",
       "3.711900e+14         0          0                  48                 92   \n",
       "3.711900e+14         0          0                  52                 88   \n",
       "\n",
       "              1_restaurants_near  1_restaurants_far  2_restaurants_near  \\\n",
       "3.711900e+14                  28                142                   8   \n",
       "3.711900e+14                  72                 99                  32   \n",
       "3.711900e+14                  71                 99                  25   \n",
       "3.711900e+14                  58                 96                  24   \n",
       "3.711900e+14                  63                 92                  25   \n",
       "\n",
       "              2_restaurants_far  3_restaurants_near  3_restaurants_far  \\\n",
       "3.711900e+14                 93                   0                 14   \n",
       "3.711900e+14                 71                   6                  9   \n",
       "3.711900e+14                 77                   6                  9   \n",
       "3.711900e+14                 76                   3                 11   \n",
       "3.711900e+14                 76                   5                 10   \n",
       "\n",
       "              4_restaurants_near  4_restaurants_far  0_shopping_near  \\\n",
       "3.711900e+14                   0                  3               40   \n",
       "3.711900e+14                   0                  3              119   \n",
       "3.711900e+14                   0                  3              119   \n",
       "3.711900e+14                   0                  3               43   \n",
       "3.711900e+14                   0                  3               44   \n",
       "\n",
       "              0_shopping_far  1_shopping_near  1_shopping_far  \\\n",
       "3.711900e+14             125                1              21   \n",
       "3.711900e+14              47                1              21   \n",
       "3.711900e+14              48                1              21   \n",
       "3.711900e+14             124                0              14   \n",
       "3.711900e+14             124                0              14   \n",
       "\n",
       "              2_shopping_near  2_shopping_far  3_shopping_near  \\\n",
       "3.711900e+14                2              44                1   \n",
       "3.711900e+14                2              44                6   \n",
       "3.711900e+14                2              45                5   \n",
       "3.711900e+14                2              36                1   \n",
       "3.711900e+14                2              37                5   \n",
       "\n",
       "              3_shopping_far  4_shopping_near  4_shopping_far  0_food_near  \\\n",
       "3.711900e+14              17                0               3           53   \n",
       "3.711900e+14              12                1               2          173   \n",
       "3.711900e+14              13                1               2          173   \n",
       "3.711900e+14               9                0               3           58   \n",
       "3.711900e+14               5                1               3           58   \n",
       "\n",
       "              0_food_far  1_food_near  1_food_far  2_food_near  2_food_far  \\\n",
       "3.711900e+14         151           43          88            5         100   \n",
       "3.711900e+14          31           55          76           54          51   \n",
       "3.711900e+14          32           55          78           54          50   \n",
       "3.711900e+14         142           44          66           11          79   \n",
       "3.711900e+14         143           51          61           11          78   \n",
       "\n",
       "              3_food_near  3_food_far  4_food_near  4_food_far  \\\n",
       "3.711900e+14            0           2            0           0   \n",
       "3.711900e+14            1           1            0           0   \n",
       "3.711900e+14            1           2            0           0   \n",
       "3.711900e+14            1           2            0           0   \n",
       "3.711900e+14            1           2            0           0   \n",
       "\n",
       "              0_beautysvc_near  0_beautysvc_far  1_beautysvc_near  \\\n",
       "3.711900e+14                19               12                 0   \n",
       "3.711900e+14                21               10                 2   \n",
       "3.711900e+14                21                6                 2   \n",
       "3.711900e+14                20                6                 2   \n",
       "3.711900e+14                20                6                 2   \n",
       "\n",
       "              1_beautysvc_far  2_beautysvc_near  2_beautysvc_far  \\\n",
       "3.711900e+14                2                 8               38   \n",
       "3.711900e+14                0                26               24   \n",
       "3.711900e+14                0                26               20   \n",
       "3.711900e+14                0                22               23   \n",
       "3.711900e+14                0                22               24   \n",
       "\n",
       "              3_beautysvc_near  3_beautysvc_far  4_beautysvc_near  \\\n",
       "3.711900e+14                 2               10                 0   \n",
       "3.711900e+14                 2               10                38   \n",
       "3.711900e+14                 2               10                38   \n",
       "3.711900e+14                 2               10                 0   \n",
       "3.711900e+14                 2               10                 0   \n",
       "\n",
       "              4_beautysvc_far  0_homeservices_near  0_homeservices_far  \\\n",
       "3.711900e+14               38                  575                 633   \n",
       "3.711900e+14                0                 1161                  49   \n",
       "3.711900e+14                0                 1152                  56   \n",
       "3.711900e+14               38                  581                 625   \n",
       "3.711900e+14               38                  577                 625   \n",
       "\n",
       "              1_homeservices_near          ...            \\\n",
       "3.711900e+14                    0          ...             \n",
       "3.711900e+14                    0          ...             \n",
       "3.711900e+14                    0          ...             \n",
       "3.711900e+14                    0          ...             \n",
       "3.711900e+14                    0          ...             \n",
       "\n",
       "              2_hair_extensions_far  3_hair_extensions_near  \\\n",
       "3.711900e+14                      3                       0   \n",
       "3.711900e+14                      3                       0   \n",
       "3.711900e+14                      3                       0   \n",
       "3.711900e+14                      3                       0   \n",
       "3.711900e+14                      3                       0   \n",
       "\n",
       "              3_hair_extensions_far  4_hair_extensions_near  \\\n",
       "3.711900e+14                      0                       0   \n",
       "3.711900e+14                      0                       0   \n",
       "3.711900e+14                      0                       0   \n",
       "3.711900e+14                      0                       0   \n",
       "3.711900e+14                      0                       0   \n",
       "\n",
       "              4_hair_extensions_far  0_lawyers_near  0_lawyers_far  \\\n",
       "3.711900e+14                      0               3              2   \n",
       "3.711900e+14                      0               3              2   \n",
       "3.711900e+14                      0               3              2   \n",
       "3.711900e+14                      0               3              2   \n",
       "3.711900e+14                      0               3              2   \n",
       "\n",
       "              1_lawyers_near  1_lawyers_far  2_lawyers_near  2_lawyers_far  \\\n",
       "3.711900e+14               0              0               0              0   \n",
       "3.711900e+14               0              0               0              0   \n",
       "3.711900e+14               0              0               0              0   \n",
       "3.711900e+14               0              0               0              0   \n",
       "3.711900e+14               0              0               0              0   \n",
       "\n",
       "              3_lawyers_near  3_lawyers_far  4_lawyers_near  4_lawyers_far  \\\n",
       "3.711900e+14               0              0               0              0   \n",
       "3.711900e+14               0              0               0              0   \n",
       "3.711900e+14               0              0               0              0   \n",
       "3.711900e+14               0              0               0              0   \n",
       "3.711900e+14               0              0               0              0   \n",
       "\n",
       "              0_french_near  0_french_far  1_french_near  1_french_far  \\\n",
       "3.711900e+14              0             0              0             0   \n",
       "3.711900e+14              0             0              0             0   \n",
       "3.711900e+14              0             0              0             0   \n",
       "3.711900e+14              0             0              0             0   \n",
       "3.711900e+14              0             0              0             0   \n",
       "\n",
       "              2_french_near  2_french_far  3_french_near  3_french_far  \\\n",
       "3.711900e+14              0             0              0             1   \n",
       "3.711900e+14              0             0              1             0   \n",
       "3.711900e+14              0             0              1             0   \n",
       "3.711900e+14              0             0              1             0   \n",
       "3.711900e+14              0             0              1             0   \n",
       "\n",
       "              4_french_near  4_french_far  0_selfstorage_near  \\\n",
       "3.711900e+14              0             3                   3   \n",
       "3.711900e+14              0             3                   3   \n",
       "3.711900e+14              0             3                   3   \n",
       "3.711900e+14              0             3                   3   \n",
       "3.711900e+14              0             3                   3   \n",
       "\n",
       "              0_selfstorage_far  1_selfstorage_near  1_selfstorage_far  \\\n",
       "3.711900e+14                  0                   0                  0   \n",
       "3.711900e+14                  0                   0                  0   \n",
       "3.711900e+14                  0                   0                  0   \n",
       "3.711900e+14                  0                   0                  0   \n",
       "3.711900e+14                  0                   0                  0   \n",
       "\n",
       "              2_selfstorage_near  2_selfstorage_far  3_selfstorage_near  \\\n",
       "3.711900e+14                   0                  0                   0   \n",
       "3.711900e+14                   0                  0                   0   \n",
       "3.711900e+14                   0                  0                   0   \n",
       "3.711900e+14                   0                  0                   0   \n",
       "3.711900e+14                   0                  0                   0   \n",
       "\n",
       "              3_selfstorage_far  4_selfstorage_near  4_selfstorage_far  \\\n",
       "3.711900e+14                  0                   0                  0   \n",
       "3.711900e+14                  0                   0                  0   \n",
       "3.711900e+14                  0                   0                  0   \n",
       "3.711900e+14                  0                   0                  0   \n",
       "3.711900e+14                  0                   0                  0   \n",
       "\n",
       "              0_physicaltherapy_near  0_physicaltherapy_far  \\\n",
       "3.711900e+14                       0                      1   \n",
       "3.711900e+14                       1                      0   \n",
       "3.711900e+14                       1                      0   \n",
       "3.711900e+14                       0                      1   \n",
       "3.711900e+14                       1                      0   \n",
       "\n",
       "              1_physicaltherapy_near  1_physicaltherapy_far  \\\n",
       "3.711900e+14                       0                      0   \n",
       "3.711900e+14                       0                      0   \n",
       "3.711900e+14                       0                      0   \n",
       "3.711900e+14                       0                      0   \n",
       "3.711900e+14                       0                      0   \n",
       "\n",
       "              2_physicaltherapy_near  2_physicaltherapy_far  \\\n",
       "3.711900e+14                       0                      0   \n",
       "3.711900e+14                       0                      0   \n",
       "3.711900e+14                       0                      0   \n",
       "3.711900e+14                       0                      0   \n",
       "3.711900e+14                       0                      0   \n",
       "\n",
       "              3_physicaltherapy_near  3_physicaltherapy_far  \\\n",
       "3.711900e+14                       0                      0   \n",
       "3.711900e+14                       0                      0   \n",
       "3.711900e+14                       0                      0   \n",
       "3.711900e+14                       0                      0   \n",
       "3.711900e+14                       0                      0   \n",
       "\n",
       "              4_physicaltherapy_near  4_physicaltherapy_far  \n",
       "3.711900e+14                       0                      0  \n",
       "3.711900e+14                       0                      0  \n",
       "3.711900e+14                       0                      0  \n",
       "3.711900e+14                       0                      0  \n",
       "3.711900e+14                       0                      0  \n",
       "\n",
       "[5 rows x 1482 columns]"
      ]
     },
     "execution_count": 10,
     "metadata": {},
     "output_type": "execute_result"
    }
   ],
   "source": [
    "X_allcities.index = y_allcities.index\n",
    "X_allcities.head()"
   ]
  },
  {
   "cell_type": "code",
   "execution_count": 11,
   "metadata": {},
   "outputs": [
    {
     "name": "stdout",
     "output_type": "stream",
     "text": [
      "<class 'pandas.core.frame.DataFrame'>\n",
      "Float64Index: 13542 entries, 371190001001000.0 to 1.5420039822001016e+16\n",
      "Columns: 1482 entries, landarea to 4_physicaltherapy_far\n",
      "dtypes: uint16(1482)\n",
      "memory usage: 38.4 MB\n"
     ]
    }
   ],
   "source": [
    "X_allcities.info()"
   ]
  },
  {
   "cell_type": "code",
   "execution_count": 12,
   "metadata": {},
   "outputs": [],
   "source": [
    "rowstodrop = y_allcities[y_allcities.astype(str) == '-'].index"
   ]
  },
  {
   "cell_type": "code",
   "execution_count": 13,
   "metadata": {},
   "outputs": [
    {
     "name": "stdout",
     "output_type": "stream",
     "text": [
      "(13542,)\n"
     ]
    },
    {
     "data": {
      "text/plain": [
       "(13526,)"
      ]
     },
     "execution_count": 13,
     "metadata": {},
     "output_type": "execute_result"
    }
   ],
   "source": [
    "print(y_allcities.shape)\n",
    "y_allcities.drop(rowstodrop, axis=0, inplace=True)\n",
    "y_allcities.shape"
   ]
  },
  {
   "cell_type": "code",
   "execution_count": 14,
   "metadata": {},
   "outputs": [
    {
     "name": "stdout",
     "output_type": "stream",
     "text": [
      "(13542, 1482)\n"
     ]
    },
    {
     "data": {
      "text/plain": [
       "(13526, 1482)"
      ]
     },
     "execution_count": 14,
     "metadata": {},
     "output_type": "execute_result"
    }
   ],
   "source": [
    "print(X_allcities.shape)\n",
    "X_allcities.drop(rowstodrop, axis=0, inplace=True)\n",
    "X_allcities.shape"
   ]
  },
  {
   "cell_type": "code",
   "execution_count": 15,
   "metadata": {},
   "outputs": [
    {
     "name": "stdout",
     "output_type": "stream",
     "text": [
      "(13526,)\n"
     ]
    },
    {
     "data": {
      "text/plain": [
       "(13499,)"
      ]
     },
     "execution_count": 15,
     "metadata": {},
     "output_type": "execute_result"
    }
   ],
   "source": [
    "nantodrop = y_allcities[y_allcities.isnull()].index\n",
    "print(y_allcities.shape)\n",
    "y_allcities.drop(nantodrop, axis=0, inplace=True)\n",
    "y_allcities.shape"
   ]
  },
  {
   "cell_type": "code",
   "execution_count": 16,
   "metadata": {},
   "outputs": [
    {
     "name": "stdout",
     "output_type": "stream",
     "text": [
      "(13526, 1482)\n"
     ]
    },
    {
     "data": {
      "text/plain": [
       "(13499, 1482)"
      ]
     },
     "execution_count": 16,
     "metadata": {},
     "output_type": "execute_result"
    }
   ],
   "source": [
    "print(X_allcities.shape)\n",
    "X_allcities.drop(nantodrop, axis=0, inplace=True)\n",
    "X_allcities.shape"
   ]
  },
  {
   "cell_type": "code",
   "execution_count": 17,
   "metadata": {},
   "outputs": [
    {
     "data": {
      "text/plain": [
       "Float64Index([], dtype='float64')"
      ]
     },
     "execution_count": 17,
     "metadata": {},
     "output_type": "execute_result"
    }
   ],
   "source": [
    "nantodrop = y_allcities[y_allcities.isna()].index\n",
    "nantodrop"
   ]
  },
  {
   "cell_type": "code",
   "execution_count": 18,
   "metadata": {},
   "outputs": [
    {
     "data": {
      "text/plain": [
       "3.711900e+14    107319.0\n",
       "3.711900e+14    107319.0\n",
       "3.711900e+14    107319.0\n",
       "3.711900e+14    107319.0\n",
       "3.711900e+14    107319.0\n",
       "Name: income, dtype: float64"
      ]
     },
     "execution_count": 18,
     "metadata": {},
     "output_type": "execute_result"
    }
   ],
   "source": [
    "y_allcities = y_allcities.map(float)\n",
    "\n",
    "y_allcities.head()"
   ]
  },
  {
   "cell_type": "code",
   "execution_count": 42,
   "metadata": {},
   "outputs": [
    {
     "data": {
      "text/plain": [
       "['Xtrain_1stcities_2019.joblib']"
      ]
     },
     "execution_count": 42,
     "metadata": {},
     "output_type": "execute_result"
    }
   ],
   "source": [
    "joblib.dump(X_allcities, 'Xtrain_1stcities_2019.joblib', compress=9)"
   ]
  },
  {
   "cell_type": "code",
   "execution_count": 43,
   "metadata": {},
   "outputs": [
    {
     "data": {
      "text/plain": [
       "['ytrain_1stcities_2019.joblib']"
      ]
     },
     "execution_count": 43,
     "metadata": {},
     "output_type": "execute_result"
    }
   ],
   "source": [
    "joblib.dump(y_allcities, 'ytrain_1stcities_2019.joblib', compress=9)"
   ]
  },
  {
   "cell_type": "markdown",
   "metadata": {},
   "source": [
    "## Testing Varied ML Models on All Cities Dataset"
   ]
  },
  {
   "cell_type": "code",
   "execution_count": 34,
   "metadata": {},
   "outputs": [],
   "source": [
    "from sklearn.linear_model import LinearRegression\n",
    "from sklearn.neighbors import KNeighborsRegressor\n",
    "from sklearn.tree import DecisionTreeRegressor\n",
    "from sklearn.ensemble import BaggingRegressor, AdaBoostRegressor, RandomForestRegressor, BaggingClassifier\n",
    "from sklearn.svm import SVR\n",
    "from sklearn.metrics import f1_score, mean_squared_error"
   ]
  },
  {
   "cell_type": "code",
   "execution_count": 20,
   "metadata": {},
   "outputs": [],
   "source": [
    "X_features = joblib.load('X_features.joblib')"
   ]
  },
  {
   "cell_type": "code",
   "execution_count": 32,
   "metadata": {},
   "outputs": [],
   "source": [
    "def accuracy_scorer(model, X_train, X_test, y_train, y_test):\n",
    "    \n",
    "    y_pred = pd.Series(data=model.predict(X_train),dtype=int)\n",
    "    accuracy_train = f1_score(y_true = y_train,\n",
    "                        y_pred = y_pred, average=None)\n",
    "    \n",
    "    y_pred = pd.Series(data=model.predict(X_test),dtype=int)\n",
    "    accuracy_test = f1_score(y_true = y_test,\n",
    "                       y_pred = y_pred, average=None)\n",
    "    \n",
    "    r2_scores = (model.score(X_train, y_train), model.score(X_test, y_test))\n",
    "    \n",
    "    print(\"R2 scores for \" + str(type(model)) + \" train set: \" + str(r2_scores[0]))\n",
    "    print(\"R2 scores for \" + str(type(model)) + \" test set: \" + str(r2_scores[1]))\n",
    "    print(\"The training accuracy-score for \" + str(type(model)) + \" is: \")\n",
    "    print(str(accuracy_train))\n",
    "    print(\"The testing accuracy-score for \" + str(type(model)) + \" is: \")\n",
    "    print(str(accuracy_test))\n",
    "    print()\n",
    "    return (accuracy_train, accuracy_test)"
   ]
  },
  {
   "cell_type": "markdown",
   "metadata": {},
   "source": [
    "### Comparing 2019 Trained Models Scores for 2nd Cities Datasets to 2014 Kaggle Trained 1st Cities Models "
   ]
  },
  {
   "cell_type": "code",
   "execution_count": null,
   "metadata": {},
   "outputs": [],
   "source": []
  },
  {
   "cell_type": "code",
   "execution_count": 19,
   "metadata": {},
   "outputs": [
    {
     "name": "stdout",
     "output_type": "stream",
     "text": [
      "(2400, 1482) (4355, 1482) (2747, 1482)\n"
     ]
    }
   ],
   "source": [
    "X1 = joblib.load('./2nd_citiesFinalsets/X_trainBoston.joblib')\n",
    "X2 = joblib.load('./2nd_citiesFinalsets/X_trainMiami.joblib')\n",
    "X3 = joblib.load('./2nd_citiesFinalsets/X_trainSeattle.joblib')\n",
    "print(X1.shape, X2.shape, X3.shape)"
   ]
  },
  {
   "cell_type": "code",
   "execution_count": 20,
   "metadata": {},
   "outputs": [
    {
     "name": "stdout",
     "output_type": "stream",
     "text": [
      "(2400,) (4355,) (2747,)\n"
     ]
    }
   ],
   "source": [
    "y1 = joblib.load('./2nd_citiesFinalsets/y_trainBoston.joblib')\n",
    "y2 = joblib.load('./2nd_citiesFinalsets/y_trainMiami.joblib')\n",
    "y3 = joblib.load('./2nd_citiesFinalsets/y_trainSeattle.joblib')\n",
    "print(y1.shape, y2.shape, y3.shape)"
   ]
  },
  {
   "cell_type": "code",
   "execution_count": 21,
   "metadata": {},
   "outputs": [
    {
     "name": "stdout",
     "output_type": "stream",
     "text": [
      "(9502, 1482) (9502,)\n"
     ]
    }
   ],
   "source": [
    "Xtrain_2nd_cities = joblib.load('./2nd_citiesFinalsets/Xtrain_2nd_cities.joblib')\n",
    "ytrain_2nd_cities = joblib.load('./2nd_citiesFinalsets/ytrain_2nd_cities.joblib')\n",
    "print(Xtrain_2nd_cities.shape, ytrain_2nd_cities.shape)"
   ]
  },
  {
   "cell_type": "code",
   "execution_count": 34,
   "metadata": {},
   "outputs": [
    {
     "data": {
      "text/plain": [
       "14914.0     44\n",
       "12533.0     43\n",
       "11878.0     41\n",
       "24508.0     39\n",
       "14459.0     38\n",
       "8383.0      38\n",
       "8573.0      37\n",
       "7965.0      36\n",
       "14208.0     36\n",
       "86364.0     36\n",
       "84438.0     36\n",
       "18861.0     36\n",
       "13876.0     35\n",
       "14783.0     35\n",
       "13827.0     34\n",
       "28463.0     33\n",
       "7459.0      33\n",
       "46853.0     33\n",
       "13567.0     33\n",
       "36434.0     33\n",
       "14357.0     32\n",
       "19157.0     32\n",
       "14631.0     32\n",
       "15237.0     32\n",
       "11851.0     32\n",
       "75025.0     32\n",
       "53984.0     31\n",
       "11535.0     31\n",
       "15772.0     31\n",
       "22333.0     31\n",
       "31908.0     30\n",
       "12828.0     30\n",
       "72854.0     30\n",
       "13973.0     30\n",
       "13264.0     30\n",
       "17376.0     30\n",
       "30957.0     30\n",
       "12535.0     30\n",
       "81966.0     29\n",
       "37625.0     29\n",
       "71597.0     29\n",
       "17704.0     28\n",
       "5958.0      28\n",
       "12592.0     28\n",
       "17897.0     28\n",
       "20261.0     28\n",
       "12134.0     28\n",
       "16838.0     28\n",
       "23042.0     28\n",
       "20117.0     28\n",
       "9710.0      28\n",
       "19004.0     27\n",
       "17200.0     27\n",
       "78089.0     27\n",
       "32085.0     27\n",
       "12258.0     27\n",
       "16671.0     27\n",
       "15652.0     27\n",
       "35636.0     27\n",
       "47316.0     27\n",
       "24873.0     27\n",
       "14929.0     27\n",
       "15932.0     27\n",
       "13428.0     27\n",
       "33877.0     26\n",
       "55082.0     26\n",
       "16129.0     26\n",
       "69762.0     26\n",
       "70351.0     26\n",
       "37484.0     26\n",
       "74947.0     26\n",
       "21567.0     26\n",
       "43796.0     26\n",
       "34740.0     26\n",
       "16971.0     26\n",
       "23412.0     26\n",
       "41413.0     25\n",
       "23780.0     25\n",
       "44023.0     25\n",
       "18715.0     25\n",
       "21653.0     25\n",
       "13231.0     25\n",
       "12206.0     25\n",
       "9783.0      25\n",
       "16575.0     25\n",
       "20231.0     25\n",
       "61961.0     25\n",
       "13078.0     25\n",
       "6924.0      25\n",
       "13808.0     25\n",
       "25499.0     25\n",
       "72031.0     25\n",
       "17683.0     24\n",
       "73317.0     24\n",
       "43017.0     24\n",
       "13505.0     24\n",
       "14401.0     24\n",
       "12061.0     24\n",
       "64231.0     24\n",
       "44087.0     24\n",
       "            ..\n",
       "9842.0      10\n",
       "54074.0     10\n",
       "33114.0     10\n",
       "18578.0     10\n",
       "10801.0     10\n",
       "96941.0     10\n",
       "113562.0    10\n",
       "33283.0     10\n",
       "17212.0     10\n",
       "17538.0     10\n",
       "39327.0     10\n",
       "24398.0     10\n",
       "85616.0      9\n",
       "12737.0      9\n",
       "85261.0      9\n",
       "43679.0      9\n",
       "16779.0      9\n",
       "33688.0      9\n",
       "17609.0      9\n",
       "13277.0      8\n",
       "16313.0      8\n",
       "46825.0      8\n",
       "9917.0       8\n",
       "14189.0      8\n",
       "105121.0     8\n",
       "89477.0      8\n",
       "69640.0      8\n",
       "70696.0      8\n",
       "41421.0      8\n",
       "59684.0      8\n",
       "31680.0      8\n",
       "30063.0      8\n",
       "44075.0      8\n",
       "17439.0      7\n",
       "8063.0       7\n",
       "69766.0      7\n",
       "57905.0      7\n",
       "142765.0     7\n",
       "50400.0      7\n",
       "17073.0      7\n",
       "17739.0      7\n",
       "38923.0      7\n",
       "34564.0      7\n",
       "64881.0      7\n",
       "55592.0      7\n",
       "103821.0     7\n",
       "64913.0      7\n",
       "15280.0      7\n",
       "19514.0      7\n",
       "41631.0      7\n",
       "52230.0      6\n",
       "61587.0      6\n",
       "122106.0     6\n",
       "107082.0     6\n",
       "165356.0     6\n",
       "11964.0      6\n",
       "9255.0       6\n",
       "10413.0      5\n",
       "70395.0      5\n",
       "73272.0      5\n",
       "23377.0      5\n",
       "34070.0      5\n",
       "13989.0      5\n",
       "110602.0     5\n",
       "82748.0      4\n",
       "114320.0     4\n",
       "16166.0      4\n",
       "24782.0      4\n",
       "29422.0      4\n",
       "27185.0      4\n",
       "16025.0      4\n",
       "68505.0      4\n",
       "64018.0      3\n",
       "12184.0      3\n",
       "19896.0      3\n",
       "50272.0      3\n",
       "46691.0      3\n",
       "39622.0      3\n",
       "49123.0      3\n",
       "45835.0      3\n",
       "88901.0      3\n",
       "12874.0      2\n",
       "41108.0      2\n",
       "90503.0      2\n",
       "64911.0      2\n",
       "36081.0      2\n",
       "141183.0     2\n",
       "23547.0      2\n",
       "18848.0      1\n",
       "39783.0      1\n",
       "57106.0      1\n",
       "40239.0      1\n",
       "201460.0     1\n",
       "57528.0      1\n",
       "49679.0      1\n",
       "33179.0      1\n",
       "104150.0     1\n",
       "75693.0      1\n",
       "30008.0      1\n",
       "7980.0       1\n",
       "Name: income, Length: 558, dtype: int64"
      ]
     },
     "execution_count": 34,
     "metadata": {},
     "output_type": "execute_result"
    }
   ],
   "source": [
    "ytrain_2nd_cities.value_counts()"
   ]
  },
  {
   "cell_type": "code",
   "execution_count": 35,
   "metadata": {},
   "outputs": [],
   "source": [
    "# Scaler and pca transform already fit with 2014 Kaggle X_train\n",
    "X_test_scaled0 = ss.transform(Xtrain_2nd_cities)\n",
    "X_test_scaled3 = ss.transform(X3)\n",
    "\n",
    "Z_test0 = pca.transform(X_test_scaled0)\n",
    "Z_test3 = pca.transform(X_test_scaled3)"
   ]
  },
  {
   "cell_type": "code",
   "execution_count": 62,
   "metadata": {
    "collapsed": true
   },
   "outputs": [
    {
     "name": "stdout",
     "output_type": "stream",
     "text": [
      "R2 scores for <class 'sklearn.linear_model.logistic.LogisticRegression'> train set: 0.18848663439275942\n",
      "R2 scores for <class 'sklearn.linear_model.logistic.LogisticRegression'> test set: 0.11576265016381507\n",
      "The training accuracy-score for <class 'sklearn.linear_model.logistic.LogisticRegression'> is: \n",
      "[0.10513296 0.32686153 0.15142972 0.07467753 0.1469712  0.02889246\n",
      " 0.07142857 0.29559519]\n",
      "The testing accuracy-score for <class 'sklearn.linear_model.logistic.LogisticRegression'> is: \n",
      "[0.         0.         0.17274472 0.15050167 0.19508671 0.04733728\n",
      " 0.07899461 0.13173653]\n",
      "\n",
      "R2 scores for <class 'sklearn.ensemble.forest.RandomForestClassifier'> train set: 0.1474426436539676\n",
      "R2 scores for <class 'sklearn.ensemble.forest.RandomForestClassifier'> test set: 0.04004368401892974\n",
      "The training accuracy-score for <class 'sklearn.ensemble.forest.RandomForestClassifier'> is: \n",
      "[0.11741257 0.26102224 0.15347053 0.07949527 0.03090909 0.0224359\n",
      " 0.05946792 0.10621762]\n",
      "The testing accuracy-score for <class 'sklearn.ensemble.forest.RandomForestClassifier'> is: \n",
      "[0.02439024 0.02409639 0.06410256 0.02264151 0.03857567 0.01801802\n",
      " 0.0625     0.06887052]\n",
      "\n",
      "R2 scores for <class 'sklearn.tree.tree.DecisionTreeClassifier'> train set: 0.15859818985476742\n",
      "R2 scores for <class 'sklearn.tree.tree.DecisionTreeClassifier'> test set: 0.13614852566436111\n",
      "The training accuracy-score for <class 'sklearn.tree.tree.DecisionTreeClassifier'> is: \n",
      "[0.13225058 0.25264125 0.13767851 0.13032827 0.13618458 0.13879251\n",
      " 0.12490242 0.11082341]\n",
      "The testing accuracy-score for <class 'sklearn.tree.tree.DecisionTreeClassifier'> is: \n",
      "[0.         0.02040816 0.13678373 0.15454545 0.22100656 0.23514539\n",
      " 0.1196319  0.12515337]\n",
      "\n",
      "R2 scores for <class 'sklearn.ensemble.bagging.BaggingClassifier'> train set: 0.17554199115975583\n",
      "R2 scores for <class 'sklearn.ensemble.bagging.BaggingClassifier'> test set: 0.08809610484164543\n",
      "The training accuracy-score for <class 'sklearn.ensemble.bagging.BaggingClassifier'> is: \n",
      "[0.14288864 0.29453229 0.16057839 0.1091355  0.07427785 0.05397301\n",
      " 0.05013193 0.17291066]\n",
      "The testing accuracy-score for <class 'sklearn.ensemble.bagging.BaggingClassifier'> is: \n",
      "[0.         0.04255319 0.16403785 0.06040268 0.08128079 0.03010753\n",
      " 0.06813627 0.2320442 ]\n",
      "\n"
     ]
    },
    {
     "ename": "KeyboardInterrupt",
     "evalue": "",
     "output_type": "error",
     "traceback": [
      "\u001b[1;31m---------------------------------------------------------------------------\u001b[0m",
      "\u001b[1;31mKeyboardInterrupt\u001b[0m                         Traceback (most recent call last)",
      "\u001b[1;32m<ipython-input-62-a691a0901ac4>\u001b[0m in \u001b[0;36m<module>\u001b[1;34m()\u001b[0m\n\u001b[0;32m      1\u001b[0m \u001b[1;31m# Models below already trained with 2014 Kaggle X_train and 7 brackets of income\u001b[0m\u001b[1;33m\u001b[0m\u001b[1;33m\u001b[0m\u001b[0m\n\u001b[0;32m      2\u001b[0m \u001b[1;32mfor\u001b[0m \u001b[0mmodel\u001b[0m \u001b[1;32min\u001b[0m \u001b[1;33m[\u001b[0m\u001b[0mlogreg_class_pca\u001b[0m\u001b[1;33m,\u001b[0m \u001b[0mrandom_forest_class_pca\u001b[0m\u001b[1;33m,\u001b[0m \u001b[0mcart_class_pca\u001b[0m\u001b[1;33m,\u001b[0m \u001b[0mbagged_class_pca\u001b[0m\u001b[1;33m,\u001b[0m \u001b[0mknn_class_pca\u001b[0m\u001b[1;33m]\u001b[0m \u001b[1;33m:\u001b[0m\u001b[1;33m\u001b[0m\u001b[0m\n\u001b[1;32m----> 3\u001b[1;33m     \u001b[0maccuracy_scorer\u001b[0m\u001b[1;33m(\u001b[0m\u001b[0mmodel\u001b[0m\u001b[1;33m,\u001b[0m \u001b[0mZ_test0\u001b[0m\u001b[1;33m,\u001b[0m \u001b[0mZ_test3\u001b[0m\u001b[1;33m,\u001b[0m \u001b[0mmake_8brackets\u001b[0m\u001b[1;33m(\u001b[0m\u001b[0mytrain_2nd_cities\u001b[0m\u001b[1;33m)\u001b[0m\u001b[1;33m,\u001b[0m \u001b[0mmake_8brackets\u001b[0m\u001b[1;33m(\u001b[0m\u001b[0my3\u001b[0m\u001b[1;33m)\u001b[0m\u001b[1;33m)\u001b[0m\u001b[1;33m\u001b[0m\u001b[0m\n\u001b[0m",
      "\u001b[1;32m<ipython-input-21-d523d378ab3b>\u001b[0m in \u001b[0;36maccuracy_scorer\u001b[1;34m(model, X_train, X_test, y_train, y_test)\u001b[0m\n\u001b[0;32m      9\u001b[0m                        y_pred = y_pred, average=None)\n\u001b[0;32m     10\u001b[0m \u001b[1;33m\u001b[0m\u001b[0m\n\u001b[1;32m---> 11\u001b[1;33m     \u001b[0mr2_scores\u001b[0m \u001b[1;33m=\u001b[0m \u001b[1;33m(\u001b[0m\u001b[0mmodel\u001b[0m\u001b[1;33m.\u001b[0m\u001b[0mscore\u001b[0m\u001b[1;33m(\u001b[0m\u001b[0mX_train\u001b[0m\u001b[1;33m,\u001b[0m \u001b[0my_train\u001b[0m\u001b[1;33m)\u001b[0m\u001b[1;33m,\u001b[0m \u001b[0mmodel\u001b[0m\u001b[1;33m.\u001b[0m\u001b[0mscore\u001b[0m\u001b[1;33m(\u001b[0m\u001b[0mX_test\u001b[0m\u001b[1;33m,\u001b[0m \u001b[0my_test\u001b[0m\u001b[1;33m)\u001b[0m\u001b[1;33m)\u001b[0m\u001b[1;33m\u001b[0m\u001b[0m\n\u001b[0m\u001b[0;32m     12\u001b[0m \u001b[1;33m\u001b[0m\u001b[0m\n\u001b[0;32m     13\u001b[0m     \u001b[0mprint\u001b[0m\u001b[1;33m(\u001b[0m\u001b[1;34m\"R2 scores for \"\u001b[0m \u001b[1;33m+\u001b[0m \u001b[0mstr\u001b[0m\u001b[1;33m(\u001b[0m\u001b[0mtype\u001b[0m\u001b[1;33m(\u001b[0m\u001b[0mmodel\u001b[0m\u001b[1;33m)\u001b[0m\u001b[1;33m)\u001b[0m \u001b[1;33m+\u001b[0m \u001b[1;34m\" train set: \"\u001b[0m \u001b[1;33m+\u001b[0m \u001b[0mstr\u001b[0m\u001b[1;33m(\u001b[0m\u001b[0mr2_scores\u001b[0m\u001b[1;33m[\u001b[0m\u001b[1;36m0\u001b[0m\u001b[1;33m]\u001b[0m\u001b[1;33m)\u001b[0m\u001b[1;33m)\u001b[0m\u001b[1;33m\u001b[0m\u001b[0m\n",
      "\u001b[1;32m~\\AppData\\Local\\conda\\conda\\envs\\DSI-6\\lib\\site-packages\\sklearn\\base.py\u001b[0m in \u001b[0;36mscore\u001b[1;34m(self, X, y, sample_weight)\u001b[0m\n\u001b[0;32m    347\u001b[0m         \"\"\"\n\u001b[0;32m    348\u001b[0m         \u001b[1;32mfrom\u001b[0m \u001b[1;33m.\u001b[0m\u001b[0mmetrics\u001b[0m \u001b[1;32mimport\u001b[0m \u001b[0maccuracy_score\u001b[0m\u001b[1;33m\u001b[0m\u001b[0m\n\u001b[1;32m--> 349\u001b[1;33m         \u001b[1;32mreturn\u001b[0m \u001b[0maccuracy_score\u001b[0m\u001b[1;33m(\u001b[0m\u001b[0my\u001b[0m\u001b[1;33m,\u001b[0m \u001b[0mself\u001b[0m\u001b[1;33m.\u001b[0m\u001b[0mpredict\u001b[0m\u001b[1;33m(\u001b[0m\u001b[0mX\u001b[0m\u001b[1;33m)\u001b[0m\u001b[1;33m,\u001b[0m \u001b[0msample_weight\u001b[0m\u001b[1;33m=\u001b[0m\u001b[0msample_weight\u001b[0m\u001b[1;33m)\u001b[0m\u001b[1;33m\u001b[0m\u001b[0m\n\u001b[0m\u001b[0;32m    350\u001b[0m \u001b[1;33m\u001b[0m\u001b[0m\n\u001b[0;32m    351\u001b[0m \u001b[1;33m\u001b[0m\u001b[0m\n",
      "\u001b[1;32m~\\AppData\\Local\\conda\\conda\\envs\\DSI-6\\lib\\site-packages\\sklearn\\neighbors\\classification.py\u001b[0m in \u001b[0;36mpredict\u001b[1;34m(self, X)\u001b[0m\n\u001b[0;32m    143\u001b[0m         \u001b[0mX\u001b[0m \u001b[1;33m=\u001b[0m \u001b[0mcheck_array\u001b[0m\u001b[1;33m(\u001b[0m\u001b[0mX\u001b[0m\u001b[1;33m,\u001b[0m \u001b[0maccept_sparse\u001b[0m\u001b[1;33m=\u001b[0m\u001b[1;34m'csr'\u001b[0m\u001b[1;33m)\u001b[0m\u001b[1;33m\u001b[0m\u001b[0m\n\u001b[0;32m    144\u001b[0m \u001b[1;33m\u001b[0m\u001b[0m\n\u001b[1;32m--> 145\u001b[1;33m         \u001b[0mneigh_dist\u001b[0m\u001b[1;33m,\u001b[0m \u001b[0mneigh_ind\u001b[0m \u001b[1;33m=\u001b[0m \u001b[0mself\u001b[0m\u001b[1;33m.\u001b[0m\u001b[0mkneighbors\u001b[0m\u001b[1;33m(\u001b[0m\u001b[0mX\u001b[0m\u001b[1;33m)\u001b[0m\u001b[1;33m\u001b[0m\u001b[0m\n\u001b[0m\u001b[0;32m    146\u001b[0m \u001b[1;33m\u001b[0m\u001b[0m\n\u001b[0;32m    147\u001b[0m         \u001b[0mclasses_\u001b[0m \u001b[1;33m=\u001b[0m \u001b[0mself\u001b[0m\u001b[1;33m.\u001b[0m\u001b[0mclasses_\u001b[0m\u001b[1;33m\u001b[0m\u001b[0m\n",
      "\u001b[1;32m~\\AppData\\Local\\conda\\conda\\envs\\DSI-6\\lib\\site-packages\\sklearn\\neighbors\\base.py\u001b[0m in \u001b[0;36mkneighbors\u001b[1;34m(self, X, n_neighbors, return_distance)\u001b[0m\n\u001b[0;32m    383\u001b[0m                 delayed(self._tree.query, check_pickle=False)(\n\u001b[0;32m    384\u001b[0m                     X[s], n_neighbors, return_distance)\n\u001b[1;32m--> 385\u001b[1;33m                 \u001b[1;32mfor\u001b[0m \u001b[0ms\u001b[0m \u001b[1;32min\u001b[0m \u001b[0mgen_even_slices\u001b[0m\u001b[1;33m(\u001b[0m\u001b[0mX\u001b[0m\u001b[1;33m.\u001b[0m\u001b[0mshape\u001b[0m\u001b[1;33m[\u001b[0m\u001b[1;36m0\u001b[0m\u001b[1;33m]\u001b[0m\u001b[1;33m,\u001b[0m \u001b[0mn_jobs\u001b[0m\u001b[1;33m)\u001b[0m\u001b[1;33m\u001b[0m\u001b[0m\n\u001b[0m\u001b[0;32m    386\u001b[0m             )\n\u001b[0;32m    387\u001b[0m             \u001b[1;32mif\u001b[0m \u001b[0mreturn_distance\u001b[0m\u001b[1;33m:\u001b[0m\u001b[1;33m\u001b[0m\u001b[0m\n",
      "\u001b[1;32m~\\AppData\\Local\\conda\\conda\\envs\\DSI-6\\lib\\site-packages\\sklearn\\externals\\joblib\\parallel.py\u001b[0m in \u001b[0;36m__call__\u001b[1;34m(self, iterable)\u001b[0m\n\u001b[0;32m    777\u001b[0m             \u001b[1;31m# was dispatched. In particular this covers the edge\u001b[0m\u001b[1;33m\u001b[0m\u001b[1;33m\u001b[0m\u001b[0m\n\u001b[0;32m    778\u001b[0m             \u001b[1;31m# case of Parallel used with an exhausted iterator.\u001b[0m\u001b[1;33m\u001b[0m\u001b[1;33m\u001b[0m\u001b[0m\n\u001b[1;32m--> 779\u001b[1;33m             \u001b[1;32mwhile\u001b[0m \u001b[0mself\u001b[0m\u001b[1;33m.\u001b[0m\u001b[0mdispatch_one_batch\u001b[0m\u001b[1;33m(\u001b[0m\u001b[0miterator\u001b[0m\u001b[1;33m)\u001b[0m\u001b[1;33m:\u001b[0m\u001b[1;33m\u001b[0m\u001b[0m\n\u001b[0m\u001b[0;32m    780\u001b[0m                 \u001b[0mself\u001b[0m\u001b[1;33m.\u001b[0m\u001b[0m_iterating\u001b[0m \u001b[1;33m=\u001b[0m \u001b[1;32mTrue\u001b[0m\u001b[1;33m\u001b[0m\u001b[0m\n\u001b[0;32m    781\u001b[0m             \u001b[1;32melse\u001b[0m\u001b[1;33m:\u001b[0m\u001b[1;33m\u001b[0m\u001b[0m\n",
      "\u001b[1;32m~\\AppData\\Local\\conda\\conda\\envs\\DSI-6\\lib\\site-packages\\sklearn\\externals\\joblib\\parallel.py\u001b[0m in \u001b[0;36mdispatch_one_batch\u001b[1;34m(self, iterator)\u001b[0m\n\u001b[0;32m    623\u001b[0m                 \u001b[1;32mreturn\u001b[0m \u001b[1;32mFalse\u001b[0m\u001b[1;33m\u001b[0m\u001b[0m\n\u001b[0;32m    624\u001b[0m             \u001b[1;32melse\u001b[0m\u001b[1;33m:\u001b[0m\u001b[1;33m\u001b[0m\u001b[0m\n\u001b[1;32m--> 625\u001b[1;33m                 \u001b[0mself\u001b[0m\u001b[1;33m.\u001b[0m\u001b[0m_dispatch\u001b[0m\u001b[1;33m(\u001b[0m\u001b[0mtasks\u001b[0m\u001b[1;33m)\u001b[0m\u001b[1;33m\u001b[0m\u001b[0m\n\u001b[0m\u001b[0;32m    626\u001b[0m                 \u001b[1;32mreturn\u001b[0m \u001b[1;32mTrue\u001b[0m\u001b[1;33m\u001b[0m\u001b[0m\n\u001b[0;32m    627\u001b[0m \u001b[1;33m\u001b[0m\u001b[0m\n",
      "\u001b[1;32m~\\AppData\\Local\\conda\\conda\\envs\\DSI-6\\lib\\site-packages\\sklearn\\externals\\joblib\\parallel.py\u001b[0m in \u001b[0;36m_dispatch\u001b[1;34m(self, batch)\u001b[0m\n\u001b[0;32m    586\u001b[0m         \u001b[0mdispatch_timestamp\u001b[0m \u001b[1;33m=\u001b[0m \u001b[0mtime\u001b[0m\u001b[1;33m.\u001b[0m\u001b[0mtime\u001b[0m\u001b[1;33m(\u001b[0m\u001b[1;33m)\u001b[0m\u001b[1;33m\u001b[0m\u001b[0m\n\u001b[0;32m    587\u001b[0m         \u001b[0mcb\u001b[0m \u001b[1;33m=\u001b[0m \u001b[0mBatchCompletionCallBack\u001b[0m\u001b[1;33m(\u001b[0m\u001b[0mdispatch_timestamp\u001b[0m\u001b[1;33m,\u001b[0m \u001b[0mlen\u001b[0m\u001b[1;33m(\u001b[0m\u001b[0mbatch\u001b[0m\u001b[1;33m)\u001b[0m\u001b[1;33m,\u001b[0m \u001b[0mself\u001b[0m\u001b[1;33m)\u001b[0m\u001b[1;33m\u001b[0m\u001b[0m\n\u001b[1;32m--> 588\u001b[1;33m         \u001b[0mjob\u001b[0m \u001b[1;33m=\u001b[0m \u001b[0mself\u001b[0m\u001b[1;33m.\u001b[0m\u001b[0m_backend\u001b[0m\u001b[1;33m.\u001b[0m\u001b[0mapply_async\u001b[0m\u001b[1;33m(\u001b[0m\u001b[0mbatch\u001b[0m\u001b[1;33m,\u001b[0m \u001b[0mcallback\u001b[0m\u001b[1;33m=\u001b[0m\u001b[0mcb\u001b[0m\u001b[1;33m)\u001b[0m\u001b[1;33m\u001b[0m\u001b[0m\n\u001b[0m\u001b[0;32m    589\u001b[0m         \u001b[0mself\u001b[0m\u001b[1;33m.\u001b[0m\u001b[0m_jobs\u001b[0m\u001b[1;33m.\u001b[0m\u001b[0mappend\u001b[0m\u001b[1;33m(\u001b[0m\u001b[0mjob\u001b[0m\u001b[1;33m)\u001b[0m\u001b[1;33m\u001b[0m\u001b[0m\n\u001b[0;32m    590\u001b[0m \u001b[1;33m\u001b[0m\u001b[0m\n",
      "\u001b[1;32m~\\AppData\\Local\\conda\\conda\\envs\\DSI-6\\lib\\site-packages\\sklearn\\externals\\joblib\\_parallel_backends.py\u001b[0m in \u001b[0;36mapply_async\u001b[1;34m(self, func, callback)\u001b[0m\n\u001b[0;32m    109\u001b[0m     \u001b[1;32mdef\u001b[0m \u001b[0mapply_async\u001b[0m\u001b[1;33m(\u001b[0m\u001b[0mself\u001b[0m\u001b[1;33m,\u001b[0m \u001b[0mfunc\u001b[0m\u001b[1;33m,\u001b[0m \u001b[0mcallback\u001b[0m\u001b[1;33m=\u001b[0m\u001b[1;32mNone\u001b[0m\u001b[1;33m)\u001b[0m\u001b[1;33m:\u001b[0m\u001b[1;33m\u001b[0m\u001b[0m\n\u001b[0;32m    110\u001b[0m         \u001b[1;34m\"\"\"Schedule a func to be run\"\"\"\u001b[0m\u001b[1;33m\u001b[0m\u001b[0m\n\u001b[1;32m--> 111\u001b[1;33m         \u001b[0mresult\u001b[0m \u001b[1;33m=\u001b[0m \u001b[0mImmediateResult\u001b[0m\u001b[1;33m(\u001b[0m\u001b[0mfunc\u001b[0m\u001b[1;33m)\u001b[0m\u001b[1;33m\u001b[0m\u001b[0m\n\u001b[0m\u001b[0;32m    112\u001b[0m         \u001b[1;32mif\u001b[0m \u001b[0mcallback\u001b[0m\u001b[1;33m:\u001b[0m\u001b[1;33m\u001b[0m\u001b[0m\n\u001b[0;32m    113\u001b[0m             \u001b[0mcallback\u001b[0m\u001b[1;33m(\u001b[0m\u001b[0mresult\u001b[0m\u001b[1;33m)\u001b[0m\u001b[1;33m\u001b[0m\u001b[0m\n",
      "\u001b[1;32m~\\AppData\\Local\\conda\\conda\\envs\\DSI-6\\lib\\site-packages\\sklearn\\externals\\joblib\\_parallel_backends.py\u001b[0m in \u001b[0;36m__init__\u001b[1;34m(self, batch)\u001b[0m\n\u001b[0;32m    330\u001b[0m         \u001b[1;31m# Don't delay the application, to avoid keeping the input\u001b[0m\u001b[1;33m\u001b[0m\u001b[1;33m\u001b[0m\u001b[0m\n\u001b[0;32m    331\u001b[0m         \u001b[1;31m# arguments in memory\u001b[0m\u001b[1;33m\u001b[0m\u001b[1;33m\u001b[0m\u001b[0m\n\u001b[1;32m--> 332\u001b[1;33m         \u001b[0mself\u001b[0m\u001b[1;33m.\u001b[0m\u001b[0mresults\u001b[0m \u001b[1;33m=\u001b[0m \u001b[0mbatch\u001b[0m\u001b[1;33m(\u001b[0m\u001b[1;33m)\u001b[0m\u001b[1;33m\u001b[0m\u001b[0m\n\u001b[0m\u001b[0;32m    333\u001b[0m \u001b[1;33m\u001b[0m\u001b[0m\n\u001b[0;32m    334\u001b[0m     \u001b[1;32mdef\u001b[0m \u001b[0mget\u001b[0m\u001b[1;33m(\u001b[0m\u001b[0mself\u001b[0m\u001b[1;33m)\u001b[0m\u001b[1;33m:\u001b[0m\u001b[1;33m\u001b[0m\u001b[0m\n",
      "\u001b[1;32m~\\AppData\\Local\\conda\\conda\\envs\\DSI-6\\lib\\site-packages\\sklearn\\externals\\joblib\\parallel.py\u001b[0m in \u001b[0;36m__call__\u001b[1;34m(self)\u001b[0m\n\u001b[0;32m    129\u001b[0m \u001b[1;33m\u001b[0m\u001b[0m\n\u001b[0;32m    130\u001b[0m     \u001b[1;32mdef\u001b[0m \u001b[0m__call__\u001b[0m\u001b[1;33m(\u001b[0m\u001b[0mself\u001b[0m\u001b[1;33m)\u001b[0m\u001b[1;33m:\u001b[0m\u001b[1;33m\u001b[0m\u001b[0m\n\u001b[1;32m--> 131\u001b[1;33m         \u001b[1;32mreturn\u001b[0m \u001b[1;33m[\u001b[0m\u001b[0mfunc\u001b[0m\u001b[1;33m(\u001b[0m\u001b[1;33m*\u001b[0m\u001b[0margs\u001b[0m\u001b[1;33m,\u001b[0m \u001b[1;33m**\u001b[0m\u001b[0mkwargs\u001b[0m\u001b[1;33m)\u001b[0m \u001b[1;32mfor\u001b[0m \u001b[0mfunc\u001b[0m\u001b[1;33m,\u001b[0m \u001b[0margs\u001b[0m\u001b[1;33m,\u001b[0m \u001b[0mkwargs\u001b[0m \u001b[1;32min\u001b[0m \u001b[0mself\u001b[0m\u001b[1;33m.\u001b[0m\u001b[0mitems\u001b[0m\u001b[1;33m]\u001b[0m\u001b[1;33m\u001b[0m\u001b[0m\n\u001b[0m\u001b[0;32m    132\u001b[0m \u001b[1;33m\u001b[0m\u001b[0m\n\u001b[0;32m    133\u001b[0m     \u001b[1;32mdef\u001b[0m \u001b[0m__len__\u001b[0m\u001b[1;33m(\u001b[0m\u001b[0mself\u001b[0m\u001b[1;33m)\u001b[0m\u001b[1;33m:\u001b[0m\u001b[1;33m\u001b[0m\u001b[0m\n",
      "\u001b[1;32m~\\AppData\\Local\\conda\\conda\\envs\\DSI-6\\lib\\site-packages\\sklearn\\externals\\joblib\\parallel.py\u001b[0m in \u001b[0;36m<listcomp>\u001b[1;34m(.0)\u001b[0m\n\u001b[0;32m    129\u001b[0m \u001b[1;33m\u001b[0m\u001b[0m\n\u001b[0;32m    130\u001b[0m     \u001b[1;32mdef\u001b[0m \u001b[0m__call__\u001b[0m\u001b[1;33m(\u001b[0m\u001b[0mself\u001b[0m\u001b[1;33m)\u001b[0m\u001b[1;33m:\u001b[0m\u001b[1;33m\u001b[0m\u001b[0m\n\u001b[1;32m--> 131\u001b[1;33m         \u001b[1;32mreturn\u001b[0m \u001b[1;33m[\u001b[0m\u001b[0mfunc\u001b[0m\u001b[1;33m(\u001b[0m\u001b[1;33m*\u001b[0m\u001b[0margs\u001b[0m\u001b[1;33m,\u001b[0m \u001b[1;33m**\u001b[0m\u001b[0mkwargs\u001b[0m\u001b[1;33m)\u001b[0m \u001b[1;32mfor\u001b[0m \u001b[0mfunc\u001b[0m\u001b[1;33m,\u001b[0m \u001b[0margs\u001b[0m\u001b[1;33m,\u001b[0m \u001b[0mkwargs\u001b[0m \u001b[1;32min\u001b[0m \u001b[0mself\u001b[0m\u001b[1;33m.\u001b[0m\u001b[0mitems\u001b[0m\u001b[1;33m]\u001b[0m\u001b[1;33m\u001b[0m\u001b[0m\n\u001b[0m\u001b[0;32m    132\u001b[0m \u001b[1;33m\u001b[0m\u001b[0m\n\u001b[0;32m    133\u001b[0m     \u001b[1;32mdef\u001b[0m \u001b[0m__len__\u001b[0m\u001b[1;33m(\u001b[0m\u001b[0mself\u001b[0m\u001b[1;33m)\u001b[0m\u001b[1;33m:\u001b[0m\u001b[1;33m\u001b[0m\u001b[0m\n",
      "\u001b[1;31mKeyboardInterrupt\u001b[0m: "
     ]
    }
   ],
   "source": [
    "# Models below already trained with 2014 Kaggle X_train and 7 brackets of income\n",
    "for model in [logreg_class_pca, random_forest_class_pca, cart_class_pca, bagged_class_pca, knn_class_pca] :\n",
    "    accuracy_scorer(model, Z_test0, Z_test3, make_8brackets(ytrain_2nd_cities), make_8brackets(y3))\n"
   ]
  },
  {
   "cell_type": "code",
   "execution_count": 63,
   "metadata": {},
   "outputs": [],
   "source": [
    "X_test_scaled1 = ss.transform(X1)\n",
    "X_test_scaled2 = ss.transform(X2)\n",
    "\n",
    "Z_test1 = pca.transform(X_test_scaled1)\n",
    "Z_test2 = pca.transform(X_test_scaled2)"
   ]
  },
  {
   "cell_type": "code",
   "execution_count": 64,
   "metadata": {},
   "outputs": [
    {
     "name": "stdout",
     "output_type": "stream",
     "text": [
      "R2 scores for <class 'sklearn.linear_model.logistic.LogisticRegression'> train set: 0.18541666666666667\n",
      "R2 scores for <class 'sklearn.linear_model.logistic.LogisticRegression'> test set: 0.25809414466130887\n",
      "The training accuracy-score for <class 'sklearn.linear_model.logistic.LogisticRegression'> is: \n",
      "[0.10212766 0.24855491 0.13071895 0.05494505 0.12837838 0.13550136\n",
      " 0.         0.39338235]\n",
      "The testing accuracy-score for <class 'sklearn.linear_model.logistic.LogisticRegression'> is: \n",
      "[0.09554551 0.46872682 0.06513106 0.01960784 0.01948052 0.06716418\n",
      " 0.19742489 0.06875   ]\n",
      "\n",
      "R2 scores for <class 'sklearn.ensemble.forest.RandomForestClassifier'> train set: 0.12166666666666667\n",
      "R2 scores for <class 'sklearn.ensemble.forest.RandomForestClassifier'> test set: 0.23237657864523537\n",
      "The training accuracy-score for <class 'sklearn.ensemble.forest.RandomForestClassifier'> is: \n",
      "[0.13918306 0.20869565 0.1301908  0.06419753 0.         0.\n",
      " 0.01162791 0.08311688]\n",
      "The testing accuracy-score for <class 'sklearn.ensemble.forest.RandomForestClassifier'> is: \n",
      "[0.1354127  0.35344367 0.19744318 0.09958506 0.0456621  0.\n",
      " 0.03921569 0.05769231]\n",
      "\n",
      "R2 scores for <class 'sklearn.tree.tree.DecisionTreeClassifier'> train set: 0.10458333333333333\n",
      "R2 scores for <class 'sklearn.tree.tree.DecisionTreeClassifier'> test set: 0.21699196326061998\n",
      "The training accuracy-score for <class 'sklearn.tree.tree.DecisionTreeClassifier'> is: \n",
      "[0.09425626 0.11484594 0.18001978 0.06752412 0.0621118  0.00626959\n",
      " 0.17112299 0.06060606]\n",
      "The testing accuracy-score for <class 'sklearn.tree.tree.DecisionTreeClassifier'> is: \n",
      "[0.17414248 0.346122   0.13546977 0.1025641  0.09569378 0.01108033\n",
      " 0.09187279 0.10094637]\n",
      "\n",
      "R2 scores for <class 'sklearn.ensemble.bagging.BaggingClassifier'> train set: 0.15791666666666668\n",
      "R2 scores for <class 'sklearn.ensemble.bagging.BaggingClassifier'> test set: 0.2431687715269805\n",
      "The training accuracy-score for <class 'sklearn.ensemble.bagging.BaggingClassifier'> is: \n",
      "[0.1471173  0.26173826 0.13834951 0.1393597  0.00760456 0.\n",
      " 0.06930693 0.17539586]\n",
      "The testing accuracy-score for <class 'sklearn.ensemble.bagging.BaggingClassifier'> is: \n",
      "[0.16397973 0.385511   0.14655811 0.08888889 0.09090909 0.03703704\n",
      " 0.         0.00584795]\n",
      "\n",
      "R2 scores for <class 'sklearn.neighbors.classification.KNeighborsClassifier'> train set: 0.16\n",
      "R2 scores for <class 'sklearn.neighbors.classification.KNeighborsClassifier'> test set: 0.24247990815154993\n",
      "The training accuracy-score for <class 'sklearn.neighbors.classification.KNeighborsClassifier'> is: \n",
      "[0.18146341 0.25944842 0.22306717 0.12788632 0.08719346 0.\n",
      " 0.         0.0620155 ]\n",
      "The testing accuracy-score for <class 'sklearn.neighbors.classification.KNeighborsClassifier'> is: \n",
      "[0.13664596 0.4201005  0.05597964 0.07389163 0.00653595 0.\n",
      " 0.09756098 0.07905138]\n",
      "\n"
     ]
    }
   ],
   "source": [
    "for model in [logreg_class_pca, random_forest_class_pca, cart_class_pca, bagged_class_pca, knn_class_pca] :\n",
    "    accuracy_scorer(model, Z_test1, Z_test2, make_8brackets(y1), make_8brackets(y2))\n"
   ]
  },
  {
   "cell_type": "markdown",
   "metadata": {
    "heading_collapsed": true
   },
   "source": [
    "### Testing 7 brackets of Income (0-11k, 11-21k, 21-31k, 31-41k, 41-51k, 51k-61k, 61k+)"
   ]
  },
  {
   "cell_type": "code",
   "execution_count": 29,
   "metadata": {
    "hidden": true
   },
   "outputs": [
    {
     "name": "stdout",
     "output_type": "stream",
     "text": [
      "(4773,)\n",
      "(2979,)\n",
      "(2546,)\n",
      "(1168,)\n",
      "(665,)\n",
      "(456,)\n",
      "(912,)\n"
     ]
    }
   ],
   "source": [
    "print(y_allcities[y_allcities < 11000].shape)\n",
    "print(y_allcities[(y_allcities >= 11000) & (y_allcities < 21000)].shape)\n",
    "print(y_allcities[(y_allcities >= 21000) & (y_allcities < 31000)].shape)\n",
    "print(y_allcities[(y_allcities >= 31000) & (y_allcities < 41000)].shape)\n",
    "print(y_allcities[(y_allcities >= 41000) & (y_allcities < 51000)].shape)\n",
    "print(y_allcities[(y_allcities >= 51000) & (y_allcities < 61000)].shape)\n",
    "print(y_allcities[y_allcities >= 61000].shape)"
   ]
  },
  {
   "cell_type": "code",
   "execution_count": 52,
   "metadata": {
    "hidden": true
   },
   "outputs": [],
   "source": [
    "## Creating column y_train_class\n",
    "\n",
    "y_train = y_allcities\n",
    "\n",
    "def make_8brackets(y_train) :\n",
    "    y_train_class = pd.Series(['NaN' for i in range(len(y_train)) ])\n",
    "\n",
    "    ## Creating y_train for classification\n",
    "\n",
    "    brackets ={'$0-$10.99k': 0,'$11-$20.99k':1, '$21-$30.99k':2, '$31-$40.99k':3, '$41-$50.99k':4, \n",
    "               '$51-$60.99k':5,'$61-$70.99k':6, '$71+k':7}\n",
    "\n",
    "    for index, value in enumerate(y_train):\n",
    "        if y_train.iloc[index] < 11000:\n",
    "            y_train_class.iloc[index] = brackets['$0-$10.99k']\n",
    "        elif y_train.iloc[index] < 21000:\n",
    "            y_train_class.iloc[index] = brackets['$11-$20.99k']\n",
    "        elif y_train.iloc[index] < 31000:\n",
    "            y_train_class.iloc[index] = brackets['$21-$30.99k']\n",
    "        elif y_train.iloc[index] < 41000:\n",
    "            y_train_class.iloc[index] = brackets['$31-$40.99k']   \n",
    "        elif y_train.iloc[index] < 51000:\n",
    "            y_train_class.iloc[index] = brackets['$41-$50.99k']\n",
    "        elif y_train.iloc[index] < 61000:\n",
    "            y_train_class.iloc[index] = brackets['$51-$60.99k']\n",
    "        elif y_train.iloc[index] < 71000:\n",
    "            y_train_class.iloc[index] = brackets['$61-$70.99k']   \n",
    "        elif y_train.iloc[index] >= 71000:\n",
    "            y_train_class.iloc[index] = brackets['$71+k']\n",
    "        else:\n",
    "            y_train_class.iloc[index] = np.nan\n",
    "    return y_train_class"
   ]
  },
  {
   "cell_type": "code",
   "execution_count": 53,
   "metadata": {
    "hidden": true
   },
   "outputs": [],
   "source": [
    "y_train_class = make_8brackets(y_train)"
   ]
  },
  {
   "cell_type": "code",
   "execution_count": 54,
   "metadata": {
    "hidden": true
   },
   "outputs": [
    {
     "data": {
      "text/plain": [
       "(11474, 1482)"
      ]
     },
     "execution_count": 54,
     "metadata": {},
     "output_type": "execute_result"
    }
   ],
   "source": [
    "X_train, X_test, y_train, y_test = train_test_split(X_allcities, y_train_class, \n",
    "                                                    test_size=.15, random_state=42) \n",
    "X_train.shape"
   ]
  },
  {
   "cell_type": "code",
   "execution_count": 55,
   "metadata": {
    "hidden": true
   },
   "outputs": [],
   "source": [
    "\n",
    "ss = StandardScaler()\n",
    "X_train_scaled = ss.fit_transform(X_train)\n",
    "X_test_scaled = ss.transform(X_test)\n",
    "\n",
    "## Applying PCA to Xs\n",
    "pca = PCA(n_components=200)\n",
    "pca = pca.fit(X_train_scaled)\n",
    "Z_train = pca.transform(X_train_scaled)\n",
    "Z_test =pca.transform(X_test_scaled)"
   ]
  },
  {
   "cell_type": "code",
   "execution_count": 56,
   "metadata": {
    "hidden": true
   },
   "outputs": [
    {
     "data": {
      "text/plain": [
       "LogisticRegression(C=1.0, class_weight=None, dual=False, fit_intercept=True,\n",
       "          intercept_scaling=1, max_iter=100, multi_class='ovr', n_jobs=1,\n",
       "          penalty='l2', random_state=None, solver='liblinear', tol=0.0001,\n",
       "          verbose=0, warm_start=False)"
      ]
     },
     "execution_count": 56,
     "metadata": {},
     "output_type": "execute_result"
    }
   ],
   "source": [
    "logreg_class_pca = LogisticRegression()\n",
    "logreg_class_pca.fit(Z_train, y_train)"
   ]
  },
  {
   "cell_type": "code",
   "execution_count": 57,
   "metadata": {
    "hidden": true
   },
   "outputs": [
    {
     "data": {
      "text/plain": [
       "KNeighborsClassifier(algorithm='auto', leaf_size=30, metric='minkowski',\n",
       "           metric_params=None, n_jobs=1, n_neighbors=5, p=2,\n",
       "           weights='uniform')"
      ]
     },
     "execution_count": 57,
     "metadata": {},
     "output_type": "execute_result"
    }
   ],
   "source": [
    "knn_class_pca = KNeighborsClassifier()\n",
    "knn_class_pca.fit(Z_train, y_train)"
   ]
  },
  {
   "cell_type": "code",
   "execution_count": 58,
   "metadata": {
    "hidden": true
   },
   "outputs": [
    {
     "data": {
      "text/plain": [
       "BaggingClassifier(base_estimator=None, bootstrap=True,\n",
       "         bootstrap_features=False, max_features=1.0, max_samples=1.0,\n",
       "         n_estimators=10, n_jobs=1, oob_score=False, random_state=None,\n",
       "         verbose=0, warm_start=False)"
      ]
     },
     "execution_count": 58,
     "metadata": {},
     "output_type": "execute_result"
    }
   ],
   "source": [
    "cart_class_pca = DecisionTreeClassifier()\n",
    "cart_class_pca.fit(Z_train, y_train)\n",
    "\n",
    "bagged_class_pca = BaggingClassifier()\n",
    "bagged_class_pca.fit(Z_train, y_train)"
   ]
  },
  {
   "cell_type": "code",
   "execution_count": 59,
   "metadata": {
    "hidden": true
   },
   "outputs": [
    {
     "data": {
      "text/plain": [
       "RandomForestClassifier(bootstrap=True, class_weight=None, criterion='gini',\n",
       "            max_depth=None, max_features='auto', max_leaf_nodes=None,\n",
       "            min_impurity_decrease=0.0, min_impurity_split=None,\n",
       "            min_samples_leaf=1, min_samples_split=2,\n",
       "            min_weight_fraction_leaf=0.0, n_estimators=10, n_jobs=1,\n",
       "            oob_score=False, random_state=None, verbose=0,\n",
       "            warm_start=False)"
      ]
     },
     "execution_count": 59,
     "metadata": {},
     "output_type": "execute_result"
    }
   ],
   "source": [
    "random_forest_class_pca = RandomForestClassifier()\n",
    "random_forest_class_pca.fit(Z_train, y_train)"
   ]
  },
  {
   "cell_type": "code",
   "execution_count": 28,
   "metadata": {
    "hidden": true
   },
   "outputs": [
    {
     "data": {
      "text/plain": [
       "AdaBoostClassifier(algorithm='SAMME.R', base_estimator=None,\n",
       "          learning_rate=1.0, n_estimators=50, random_state=None)"
      ]
     },
     "execution_count": 28,
     "metadata": {},
     "output_type": "execute_result"
    }
   ],
   "source": [
    "adaboost_class_pca = AdaBoostClassifier()\n",
    "adaboost_class_pca.fit(Z_train, y_train)"
   ]
  },
  {
   "cell_type": "code",
   "execution_count": 55,
   "metadata": {
    "hidden": true
   },
   "outputs": [
    {
     "name": "stdout",
     "output_type": "stream",
     "text": [
      "R2 scores for <class 'sklearn.linear_model.logistic.LogisticRegression'> train set: 0.7591947010632735\n",
      "R2 scores for <class 'sklearn.linear_model.logistic.LogisticRegression'> test set: 0.7333333333333333\n",
      "The training accuracy-score for <class 'sklearn.linear_model.logistic.LogisticRegression'> is: \n",
      "[0.90846736 0.70390456 0.63152851 0.57967529 0.66272189 0.77097506\n",
      " 0.79676441 0.65880039]\n",
      "The testing accuracy-score for <class 'sklearn.linear_model.logistic.LogisticRegression'> is: \n",
      "[0.90296496 0.66798419 0.56971514 0.55483871 0.61068702 0.64615385\n",
      " 0.86255924 0.57647059]\n",
      "\n",
      "R2 scores for <class 'sklearn.ensemble.forest.RandomForestClassifier'> train set: 0.9816977514380338\n",
      "R2 scores for <class 'sklearn.ensemble.forest.RandomForestClassifier'> test set: 0.8755555555555555\n",
      "The training accuracy-score for <class 'sklearn.ensemble.forest.RandomForestClassifier'> is: \n",
      "[0.99592542 0.96381832 0.97611871 0.97828335 0.99222798 0.99790356\n",
      " 0.98661568 0.97029703]\n",
      "The testing accuracy-score for <class 'sklearn.ensemble.forest.RandomForestClassifier'> is: \n",
      "[0.96467391 0.86716259 0.81088825 0.73900293 0.77941176 0.71875\n",
      " 0.90566038 0.79569892]\n",
      "\n",
      "R2 scores for <class 'sklearn.ensemble.weight_boosting.AdaBoostClassifier'> train set: 0.4780373017256406\n",
      "R2 scores for <class 'sklearn.ensemble.weight_boosting.AdaBoostClassifier'> test set: 0.47012345679012346\n",
      "The training accuracy-score for <class 'sklearn.ensemble.weight_boosting.AdaBoostClassifier'> is: \n",
      "[0.67452135 0.43419412 0.33709556 0.14275618 0.21481481 0.3976378\n",
      " 0.40528634 0.30139373]\n",
      "The testing accuracy-score for <class 'sklearn.ensemble.weight_boosting.AdaBoostClassifier'> is: \n",
      "[0.66498741 0.44488978 0.30421687 0.11940299 0.12903226 0.34782609\n",
      " 0.4180791  0.31088083]\n",
      "\n"
     ]
    }
   ],
   "source": [
    "for model in [logreg_class_pca, random_forest_class_pca, adaboost_class_pca] :\n",
    "    accuracy_scorer(model, Z_train, Z_test, y_train, y_test)\n",
    "# AdaBoost is the worst classifier among those tested, with default parameters, and\n",
    "# with this level of income brackets"
   ]
  },
  {
   "cell_type": "code",
   "execution_count": 60,
   "metadata": {
    "hidden": true
   },
   "outputs": [
    {
     "name": "stdout",
     "output_type": "stream",
     "text": [
      "R2 scores for <class 'sklearn.tree.tree.DecisionTreeClassifier'> train set: 0.9856196618441694\n",
      "R2 scores for <class 'sklearn.tree.tree.DecisionTreeClassifier'> test set: 0.8261728395061728\n",
      "The training accuracy-score for <class 'sklearn.tree.tree.DecisionTreeClassifier'> is: \n",
      "[0.99727992 0.96823869 0.9809568  0.98712004 0.980322   0.99870968\n",
      " 1.         0.98758357]\n",
      "The testing accuracy-score for <class 'sklearn.tree.tree.DecisionTreeClassifier'> is: \n",
      "[0.93828892 0.83160083 0.7628866  0.6630137  0.68393782 0.70588235\n",
      " 0.63492063 0.79646018]\n",
      "\n",
      "R2 scores for <class 'sklearn.ensemble.bagging.BaggingClassifier'> train set: 0.980826215792226\n",
      "R2 scores for <class 'sklearn.ensemble.bagging.BaggingClassifier'> test set: 0.8760493827160494\n",
      "The training accuracy-score for <class 'sklearn.ensemble.bagging.BaggingClassifier'> is: \n",
      "[0.99592341 0.96495957 0.97609654 0.97375193 0.96872207 0.99483204\n",
      " 0.98319328 0.97687861]\n",
      "The testing accuracy-score for <class 'sklearn.ensemble.bagging.BaggingClassifier'> is: \n",
      "[0.96125085 0.87056367 0.83775811 0.73714286 0.7486631  0.77037037\n",
      " 0.6779661  0.89622642]\n",
      "\n",
      "R2 scores for <class 'sklearn.neighbors.classification.KNeighborsClassifier'> train set: 0.9069199930277149\n",
      "R2 scores for <class 'sklearn.neighbors.classification.KNeighborsClassifier'> test set: 0.8592592592592593\n",
      "The training accuracy-score for <class 'sklearn.neighbors.classification.KNeighborsClassifier'> is: \n",
      "[0.98115067 0.89784228 0.8766682  0.81027254 0.82051282 0.82446809\n",
      " 0.82275711 0.86429259]\n",
      "The testing accuracy-score for <class 'sklearn.neighbors.classification.KNeighborsClassifier'> is: \n",
      "[0.97375691 0.84842105 0.7860262  0.68523677 0.78723404 0.77241379\n",
      " 0.64615385 0.84615385]\n",
      "\n"
     ]
    }
   ],
   "source": [
    "for model in [cart_class_pca, bagged_class_pca, knn_class_pca] :\n",
    "    accuracy_scorer(model, Z_train, Z_test, y_train, y_test)"
   ]
  },
  {
   "cell_type": "code",
   "execution_count": 32,
   "metadata": {
    "hidden": true
   },
   "outputs": [
    {
     "name": "stdout",
     "output_type": "stream",
     "text": [
      "R2 scores for <class 'sklearn.tree.tree.DecisionTreeClassifier'> train set: 1.0\n",
      "R2 scores for <class 'sklearn.tree.tree.DecisionTreeClassifier'> test set: 0.8660589060308556\n",
      "The training accuracy-score for <class 'sklearn.tree.tree.DecisionTreeClassifier'> is: \n",
      "[1. 1. 1. 1. 1. 1. 1. 1.]\n",
      "The testing accuracy-score for <class 'sklearn.tree.tree.DecisionTreeClassifier'> is: \n",
      "[0.89056604 0.93756614 0.85492228 0.79710145 0.74820144 0.7826087\n",
      " 0.89130435 0.76816609]\n",
      "\n",
      "R2 scores for <class 'sklearn.ensemble.bagging.BaggingClassifier'> train set: 0.9949232293214463\n",
      "R2 scores for <class 'sklearn.ensemble.bagging.BaggingClassifier'> test set: 0.8962131837307152\n",
      "The training accuracy-score for <class 'sklearn.ensemble.bagging.BaggingClassifier'> is: \n",
      "[0.99746407 0.99733901 0.99350046 0.98845893 0.99448732 0.99595142\n",
      " 0.99317251 0.99442033]\n",
      "The testing accuracy-score for <class 'sklearn.ensemble.bagging.BaggingClassifier'> is: \n",
      "[0.90980392 0.94409938 0.89405685 0.81318681 0.77464789 0.86813187\n",
      " 0.92011019 0.85211268]\n",
      "\n",
      "R2 scores for <class 'sklearn.neighbors.classification.KNeighborsClassifier'> train set: 0.9112184249628529\n",
      "R2 scores for <class 'sklearn.neighbors.classification.KNeighborsClassifier'> test set: 0.8211781206171108\n",
      "The training accuracy-score for <class 'sklearn.neighbors.classification.KNeighborsClassifier'> is: \n",
      "[0.91433418 0.95301777 0.89053803 0.83928571 0.84841629 0.87358684\n",
      " 0.92802173 0.88833747]\n",
      "The testing accuracy-score for <class 'sklearn.neighbors.classification.KNeighborsClassifier'> is: \n",
      "[0.81422925 0.89259645 0.79473684 0.72527473 0.66666667 0.78494624\n",
      " 0.85635359 0.77288136]\n",
      "\n"
     ]
    }
   ],
   "source": [
    "# Models run with 2014 Kaggle X_train\n",
    "for model in [cart_class_pca, bagged_class_pca, knn_class_pca] :\n",
    "    accuracy_scorer(model, Z_train, Z_test, y_train, y_test)"
   ]
  },
  {
   "cell_type": "code",
   "execution_count": 33,
   "metadata": {
    "hidden": true
   },
   "outputs": [
    {
     "data": {
      "text/plain": [
       "['log_pca_8brackets.joblib']"
      ]
     },
     "execution_count": 33,
     "metadata": {},
     "output_type": "execute_result"
    }
   ],
   "source": [
    "joblib.dump(logreg_class_pca, 'log_pca_8brackets.joblib', compress=9)\n",
    "\n",
    "joblib.dump(random_forest_class_pca, 'rf_pca_8brackets.joblib', compress=9)"
   ]
  },
  {
   "cell_type": "markdown",
   "metadata": {},
   "source": [
    "### Testing 4 brackets of Income (0-20k, 20-40k, 40k-60k, 61k+)"
   ]
  },
  {
   "cell_type": "code",
   "execution_count": 59,
   "metadata": {},
   "outputs": [
    {
     "name": "stdout",
     "output_type": "stream",
     "text": [
      "(7410,)\n",
      "(3998,)\n",
      "(1148,)\n",
      "(943,)\n"
     ]
    }
   ],
   "source": [
    "print(y_allcities[y_allcities < 20000].shape)\n",
    "print(y_allcities[(y_allcities >= 20000) & (y_allcities < 40000)].shape)\n",
    "print(y_allcities[(y_allcities >= 40000) & (y_allcities < 60000)].shape)\n",
    "print(y_allcities[y_allcities >= 60000].shape)"
   ]
  },
  {
   "cell_type": "code",
   "execution_count": 26,
   "metadata": {},
   "outputs": [],
   "source": [
    "## Creating column y_train_class2\n",
    "\n",
    "y_train = y_allcities\n",
    "\n",
    "def make_4brackets(y_train) :\n",
    "\n",
    "    y_train_class2 = pd.Series(['NaN' for i in range(len(y_train)) ])\n",
    "\n",
    "    ## Creating y_train for classification\n",
    "\n",
    "    brackets ={'$0-$20.99k': 0,'$21-$40.99k':1, '$41-$60.99k':2, '$61+k':3}\n",
    "\n",
    "    for index, value in enumerate(y_train):\n",
    "        if y_train.iloc[index] < 21000:\n",
    "            y_train_class2.iloc[index] = brackets['$0-$20.99k']\n",
    "        elif y_train.iloc[index] < 41000:\n",
    "            y_train_class2.iloc[index] = brackets['$21-$40.99k']\n",
    "        elif y_train.iloc[index] < 61000:\n",
    "            y_train_class2.iloc[index] = brackets['$41-$60.99k']\n",
    "        elif y_train.iloc[index] >= 61000:\n",
    "            y_train_class2.iloc[index] = brackets['$61+k']\n",
    "        else:\n",
    "            y_train_class2.iloc[index] = np.nan\n",
    "    \n",
    "    return y_train_class2"
   ]
  },
  {
   "cell_type": "code",
   "execution_count": 67,
   "metadata": {},
   "outputs": [],
   "source": [
    "y_train_class2 = make_4brackets(y_train)"
   ]
  },
  {
   "cell_type": "code",
   "execution_count": 68,
   "metadata": {},
   "outputs": [
    {
     "data": {
      "text/plain": [
       "(11474, 1482)"
      ]
     },
     "execution_count": 68,
     "metadata": {},
     "output_type": "execute_result"
    }
   ],
   "source": [
    "X_train, X_test, y_train, y_test = train_test_split(X_allcities, y_train_class2, \n",
    "                                                    test_size=.15, random_state=42) \n",
    "X_train.shape"
   ]
  },
  {
   "cell_type": "code",
   "execution_count": 69,
   "metadata": {},
   "outputs": [],
   "source": [
    "ss = StandardScaler()\n",
    "X_train_scaled = ss.fit_transform(X_train)\n",
    "X_test_scaled = ss.transform(X_test)\n",
    "\n",
    "## Applying PCA to Xs\n",
    "pca = PCA(n_components=200)\n",
    "pca = pca.fit(X_train_scaled)\n",
    "Z_train = pca.transform(X_train_scaled)\n",
    "Z_test =pca.transform(X_test_scaled)"
   ]
  },
  {
   "cell_type": "code",
   "execution_count": 30,
   "metadata": {},
   "outputs": [
    {
     "data": {
      "text/plain": [
       "LogisticRegression(C=1.0, class_weight=None, dual=False, fit_intercept=True,\n",
       "          intercept_scaling=1, max_iter=100, multi_class='ovr', n_jobs=1,\n",
       "          penalty='l2', random_state=None, solver='liblinear', tol=0.0001,\n",
       "          verbose=0, warm_start=False)"
      ]
     },
     "execution_count": 30,
     "metadata": {},
     "output_type": "execute_result"
    }
   ],
   "source": [
    "logreg_class_pca = LogisticRegression()\n",
    "logreg_class_pca.fit(Z_train, y_train)"
   ]
  },
  {
   "cell_type": "code",
   "execution_count": 70,
   "metadata": {},
   "outputs": [
    {
     "data": {
      "text/plain": [
       "RandomForestClassifier(bootstrap=True, class_weight=None, criterion='gini',\n",
       "            max_depth=None, max_features='auto', max_leaf_nodes=None,\n",
       "            min_impurity_decrease=0.0, min_impurity_split=None,\n",
       "            min_samples_leaf=1, min_samples_split=2,\n",
       "            min_weight_fraction_leaf=0.0, n_estimators=10, n_jobs=1,\n",
       "            oob_score=False, random_state=None, verbose=0,\n",
       "            warm_start=False)"
      ]
     },
     "execution_count": 70,
     "metadata": {},
     "output_type": "execute_result"
    }
   ],
   "source": [
    "knn_class_pca = KNeighborsClassifier()\n",
    "knn_class_pca.fit(Z_train, y_train)\n",
    "\n",
    "bagged_class_pca = BaggingClassifier()\n",
    "bagged_class_pca.fit(Z_train, y_train)\n",
    "\n",
    "random_forest_class_pca = RandomForestClassifier()\n",
    "random_forest_class_pca.fit(Z_train, y_train)"
   ]
  },
  {
   "cell_type": "code",
   "execution_count": 71,
   "metadata": {},
   "outputs": [
    {
     "name": "stdout",
     "output_type": "stream",
     "text": [
      "R2 scores for <class 'sklearn.linear_model.logistic.LogisticRegression'> train set: 0.7844692347917029\n",
      "R2 scores for <class 'sklearn.linear_model.logistic.LogisticRegression'> test set: 0.7822222222222223\n",
      "The training accuracy-score for <class 'sklearn.linear_model.logistic.LogisticRegression'> is: \n",
      "[0.85875229 0.64377832 0.64171779 0.77358491]\n",
      "The testing accuracy-score for <class 'sklearn.linear_model.logistic.LogisticRegression'> is: \n",
      "[0.86005488 0.61211477 0.61016949 0.82889734]\n",
      "\n",
      "R2 scores for <class 'sklearn.neighbors.classification.KNeighborsClassifier'> train set: 0.9265295450583929\n",
      "R2 scores for <class 'sklearn.neighbors.classification.KNeighborsClassifier'> test set: 0.8923456790123456\n",
      "The training accuracy-score for <class 'sklearn.neighbors.classification.KNeighborsClassifier'> is: \n",
      "[0.95907419 0.89364303 0.84499462 0.88785047]\n",
      "The testing accuracy-score for <class 'sklearn.neighbors.classification.KNeighborsClassifier'> is: \n",
      "[0.93917482 0.82998172 0.79279279 0.86029412]\n",
      "\n",
      "R2 scores for <class 'sklearn.ensemble.bagging.BaggingClassifier'> train set: 0.9830050549067457\n",
      "R2 scores for <class 'sklearn.ensemble.bagging.BaggingClassifier'> test set: 0.8967901234567901\n",
      "The training accuracy-score for <class 'sklearn.ensemble.bagging.BaggingClassifier'> is: \n",
      "[0.98676493 0.97580516 0.97775424 0.98619329]\n",
      "The testing accuracy-score for <class 'sklearn.ensemble.bagging.BaggingClassifier'> is: \n",
      "[0.94257588 0.83675464 0.77258567 0.85820896]\n",
      "\n",
      "R2 scores for <class 'sklearn.ensemble.forest.RandomForestClassifier'> train set: 0.9842252048108767\n",
      "R2 scores for <class 'sklearn.ensemble.forest.RandomForestClassifier'> test set: 0.9071604938271605\n",
      "The training accuracy-score for <class 'sklearn.ensemble.forest.RandomForestClassifier'> is: \n",
      "[0.98737032 0.97771364 0.98095238 0.98749177]\n",
      "The testing accuracy-score for <class 'sklearn.ensemble.forest.RandomForestClassifier'> is: \n",
      "[0.94642127 0.85826772 0.80246914 0.86037736]\n",
      "\n"
     ]
    }
   ],
   "source": [
    "# With 2019 1st Cities Dataset\n",
    "for model in [logreg_class_pca, knn_class_pca, bagged_class_pca, random_forest_class_pca] :\n",
    "    accuracy_scorer(model, Z_train, Z_test, y_train, y_test)"
   ]
  },
  {
   "cell_type": "code",
   "execution_count": 64,
   "metadata": {},
   "outputs": [
    {
     "name": "stdout",
     "output_type": "stream",
     "text": [
      "R2 scores for <class 'sklearn.linear_model.logistic.LogisticRegression'> train set: 0.7839463134042183\n",
      "R2 scores for <class 'sklearn.linear_model.logistic.LogisticRegression'> test set: 0.7812345679012346\n",
      "The training accuracy-score for <class 'sklearn.linear_model.logistic.LogisticRegression'> is: \n",
      "[0.85788476 0.63694268 0.65669856 0.77672727]\n",
      "The testing accuracy-score for <class 'sklearn.linear_model.logistic.LogisticRegression'> is: \n",
      "[0.8583691  0.60108108 0.63545151 0.82889734]\n",
      "\n",
      "R2 scores for <class 'sklearn.neighbors.classification.KNeighborsClassifier'> train set: 0.9283597699145895\n",
      "R2 scores for <class 'sklearn.neighbors.classification.KNeighborsClassifier'> test set: 0.8888888888888888\n",
      "The training accuracy-score for <class 'sklearn.neighbors.classification.KNeighborsClassifier'> is: \n",
      "[0.95953757 0.89756253 0.84017279 0.88918558]\n",
      "The testing accuracy-score for <class 'sklearn.neighbors.classification.KNeighborsClassifier'> is: \n",
      "[0.93517357 0.82509506 0.78443114 0.85714286]\n",
      "\n",
      "R2 scores for <class 'sklearn.ensemble.bagging.BaggingClassifier'> train set: 0.9838765905525536\n",
      "R2 scores for <class 'sklearn.ensemble.bagging.BaggingClassifier'> test set: 0.9041975308641975\n",
      "The training accuracy-score for <class 'sklearn.ensemble.bagging.BaggingClassifier'> is: \n",
      "[0.98759305 0.97838963 0.97662062 0.98289474]\n",
      "The testing accuracy-score for <class 'sklearn.ensemble.bagging.BaggingClassifier'> is: \n",
      "[0.94526144 0.85207101 0.76971609 0.88560886]\n",
      "\n",
      "R2 scores for <class 'sklearn.ensemble.forest.RandomForestClassifier'> train set: 0.9846609726337807\n",
      "R2 scores for <class 'sklearn.ensemble.forest.RandomForestClassifier'> test set: 0.8962962962962963\n",
      "The training accuracy-score for <class 'sklearn.ensemble.forest.RandomForestClassifier'> is: \n",
      "[0.98773791 0.97885971 0.98037135 0.98689384]\n",
      "The testing accuracy-score for <class 'sklearn.ensemble.forest.RandomForestClassifier'> is: \n",
      "[0.94050062 0.83839373 0.77258567 0.86346863]\n",
      "\n"
     ]
    }
   ],
   "source": [
    "# With 2014 Kaggle Dataset\n",
    "for model in [logreg_class_pca, knn_class_pca, bagged_class_pca, random_forest_class_pca] :\n",
    "    accuracy_scorer(model, Z_train, Z_test, y_train, y_test)"
   ]
  },
  {
   "cell_type": "code",
   "execution_count": 72,
   "metadata": {},
   "outputs": [],
   "source": [
    "# Scaler and pca transform already fit with 2014 Kaggle X_train\n",
    "X_test_scaled0 = ss.transform(Xtrain_2nd_cities)\n",
    "X_test_scaled3 = ss.transform(X3)\n",
    "\n",
    "Z_test0 = pca.transform(X_test_scaled0)\n",
    "Z_test3 = pca.transform(X_test_scaled3)"
   ]
  },
  {
   "cell_type": "code",
   "execution_count": 73,
   "metadata": {},
   "outputs": [
    {
     "name": "stdout",
     "output_type": "stream",
     "text": [
      "R2 scores for <class 'sklearn.linear_model.logistic.LogisticRegression'> train set: 0.36434434855819825\n",
      "R2 scores for <class 'sklearn.linear_model.logistic.LogisticRegression'> test set: 0.1488896978522024\n",
      "The training accuracy-score for <class 'sklearn.linear_model.logistic.LogisticRegression'> is: \n",
      "[0.50082663 0.18214826 0.17015819 0.32190343]\n",
      "The testing accuracy-score for <class 'sklearn.linear_model.logistic.LogisticRegression'> is: \n",
      "[0.03975704 0.25378347 0.19174434 0.18154312]\n",
      "\n",
      "R2 scores for <class 'sklearn.ensemble.forest.RandomForestClassifier'> train set: 0.3779204378025679\n",
      "R2 scores for <class 'sklearn.ensemble.forest.RandomForestClassifier'> test set: 0.10556971241354204\n",
      "The training accuracy-score for <class 'sklearn.ensemble.forest.RandomForestClassifier'> is: \n",
      "[0.56383749 0.23706378 0.06562848 0.16804083]\n",
      "The testing accuracy-score for <class 'sklearn.ensemble.forest.RandomForestClassifier'> is: \n",
      "[0.02275449 0.2366782  0.07592752 0.09180328]\n",
      "\n"
     ]
    },
    {
     "name": "stderr",
     "output_type": "stream",
     "text": [
      "C:\\Users\\Jason\\AppData\\Local\\conda\\conda\\envs\\DSI-6\\lib\\site-packages\\sklearn\\metrics\\classification.py:1137: UndefinedMetricWarning: F-score is ill-defined and being set to 0.0 in labels with no true samples.\n",
      "  'recall', 'true', average, warn_for)\n",
      "C:\\Users\\Jason\\AppData\\Local\\conda\\conda\\envs\\DSI-6\\lib\\site-packages\\sklearn\\metrics\\classification.py:1137: UndefinedMetricWarning: F-score is ill-defined and being set to 0.0 in labels with no true samples.\n",
      "  'recall', 'true', average, warn_for)\n"
     ]
    },
    {
     "name": "stdout",
     "output_type": "stream",
     "text": [
      "R2 scores for <class 'sklearn.tree.tree.DecisionTreeClassifier'> train set: 0.20953483477162702\n",
      "R2 scores for <class 'sklearn.tree.tree.DecisionTreeClassifier'> test set: 0.15835456862031308\n",
      "The training accuracy-score for <class 'sklearn.tree.tree.DecisionTreeClassifier'> is: \n",
      "[0.36431691 0.16623377 0.15948963 0.18060837 0.         0.\n",
      " 0.         0.        ]\n",
      "The testing accuracy-score for <class 'sklearn.tree.tree.DecisionTreeClassifier'> is: \n",
      "[0.01733478 0.17826618 0.24242424 0.24895105 0.         0.\n",
      " 0.         0.        ]\n",
      "\n",
      "R2 scores for <class 'sklearn.ensemble.bagging.BaggingClassifier'> train set: 0.3886550199957904\n",
      "R2 scores for <class 'sklearn.ensemble.bagging.BaggingClassifier'> test set: 0.14051692755733527\n",
      "The training accuracy-score for <class 'sklearn.ensemble.bagging.BaggingClassifier'> is: \n",
      "[0.56000848 0.2995015  0.08054393 0.16937618]\n",
      "The testing accuracy-score for <class 'sklearn.ensemble.bagging.BaggingClassifier'> is: \n",
      "[0.04801097 0.24666243 0.09437086 0.15936255]\n",
      "\n",
      "R2 scores for <class 'sklearn.neighbors.classification.KNeighborsClassifier'> train set: 0.35434645337823617\n",
      "R2 scores for <class 'sklearn.neighbors.classification.KNeighborsClassifier'> test set: 0.15289406625409538\n",
      "The training accuracy-score for <class 'sklearn.neighbors.classification.KNeighborsClassifier'> is: \n",
      "[0.51953365 0.22238514 0.0827719  0.18717277]\n",
      "The testing accuracy-score for <class 'sklearn.neighbors.classification.KNeighborsClassifier'> is: \n",
      "[0.03969129 0.3046729  0.11010682 0.22110553]\n",
      "\n"
     ]
    }
   ],
   "source": [
    "# Models below already trained with 2014 Kaggle X_train and 7 brackets of income\n",
    "for model in [logreg_class_pca, random_forest_class_pca, bagged_class_pca, knn_class_pca] :\n",
    "    accuracy_scorer(model, Z_test0, Z_test3, make_4brackets(ytrain_2nd_cities), make_4brackets(y3))\n"
   ]
  },
  {
   "cell_type": "code",
   "execution_count": 74,
   "metadata": {},
   "outputs": [],
   "source": [
    "X_test_scaled1 = ss.transform(X1)\n",
    "X_test_scaled2 = ss.transform(X2)\n",
    "\n",
    "Z_test1 = pca.transform(X_test_scaled1)\n",
    "Z_test2 = pca.transform(X_test_scaled2)"
   ]
  },
  {
   "cell_type": "code",
   "execution_count": 75,
   "metadata": {},
   "outputs": [
    {
     "name": "stdout",
     "output_type": "stream",
     "text": [
      "R2 scores for <class 'sklearn.linear_model.logistic.LogisticRegression'> train set: 0.42625\n",
      "R2 scores for <class 'sklearn.linear_model.logistic.LogisticRegression'> test set: 0.4661308840413318\n",
      "The training accuracy-score for <class 'sklearn.linear_model.logistic.LogisticRegression'> is: \n",
      "[0.37873357 0.25508318 0.22175732 0.65772669]\n",
      "The testing accuracy-score for <class 'sklearn.linear_model.logistic.LogisticRegression'> is: \n",
      "[0.68682892 0.07917889 0.01114206 0.07862759]\n",
      "\n",
      "R2 scores for <class 'sklearn.ensemble.forest.RandomForestClassifier'> train set: 0.32375\n",
      "R2 scores for <class 'sklearn.ensemble.forest.RandomForestClassifier'> test set: 0.5795637198622273\n",
      "The training accuracy-score for <class 'sklearn.ensemble.forest.RandomForestClassifier'> is: \n",
      "[0.45454545 0.25701239 0.0668693  0.26577438]\n",
      "The testing accuracy-score for <class 'sklearn.ensemble.forest.RandomForestClassifier'> is: \n",
      "[0.74554083 0.22211155 0.02580645 0.13523132]\n",
      "\n"
     ]
    },
    {
     "name": "stderr",
     "output_type": "stream",
     "text": [
      "C:\\Users\\Jason\\AppData\\Local\\conda\\conda\\envs\\DSI-6\\lib\\site-packages\\sklearn\\metrics\\classification.py:1137: UndefinedMetricWarning: F-score is ill-defined and being set to 0.0 in labels with no true samples.\n",
      "  'recall', 'true', average, warn_for)\n",
      "C:\\Users\\Jason\\AppData\\Local\\conda\\conda\\envs\\DSI-6\\lib\\site-packages\\sklearn\\metrics\\classification.py:1137: UndefinedMetricWarning: F-score is ill-defined and being set to 0.0 in labels with no true samples.\n",
      "  'recall', 'true', average, warn_for)\n"
     ]
    },
    {
     "name": "stdout",
     "output_type": "stream",
     "text": [
      "R2 scores for <class 'sklearn.tree.tree.DecisionTreeClassifier'> train set: 0.17916666666666667\n",
      "R2 scores for <class 'sklearn.tree.tree.DecisionTreeClassifier'> test set: 0.25855338691159585\n",
      "The training accuracy-score for <class 'sklearn.tree.tree.DecisionTreeClassifier'> is: \n",
      "[0.3250215  0.16591928 0.15620999 0.19757689 0.         0.\n",
      " 0.         0.        ]\n",
      "The testing accuracy-score for <class 'sklearn.tree.tree.DecisionTreeClassifier'> is: \n",
      "[0.44891355 0.16077537 0.02882483 0.00306279 0.         0.\n",
      " 0.         0.        ]\n",
      "\n",
      "R2 scores for <class 'sklearn.ensemble.bagging.BaggingClassifier'> train set: 0.28708333333333336\n",
      "R2 scores for <class 'sklearn.ensemble.bagging.BaggingClassifier'> test set: 0.6011481056257175\n",
      "The training accuracy-score for <class 'sklearn.ensemble.bagging.BaggingClassifier'> is: \n",
      "[0.35430297 0.32916973 0.00540541 0.20702403]\n",
      "The testing accuracy-score for <class 'sklearn.ensemble.bagging.BaggingClassifier'> is: \n",
      "[0.75296476 0.32003844 0.11377246 0.07792208]\n",
      "\n",
      "R2 scores for <class 'sklearn.neighbors.classification.KNeighborsClassifier'> train set: 0.28791666666666665\n",
      "R2 scores for <class 'sklearn.neighbors.classification.KNeighborsClassifier'> test set: 0.5180252583237658\n",
      "The training accuracy-score for <class 'sklearn.neighbors.classification.KNeighborsClassifier'> is: \n",
      "[0.38403234 0.31158864 0.0688172  0.17473884]\n",
      "The testing accuracy-score for <class 'sklearn.neighbors.classification.KNeighborsClassifier'> is: \n",
      "[0.70977444 0.10354857 0.01515152 0.13114754]\n",
      "\n"
     ]
    }
   ],
   "source": [
    "for model in [logreg_class_pca, random_forest_class_pca, cart_class_pca, knn_class_pca] :\n",
    "    accuracy_scorer(model, Z_test1, Z_test2, make_4brackets(y1), make_4brackets(y2))\n"
   ]
  },
  {
   "cell_type": "code",
   "execution_count": 78,
   "metadata": {},
   "outputs": [
    {
     "name": "stdout",
     "output_type": "stream",
     "text": [
      "[[0.27794149 0.11229215 0.01357609 0.01715428]\n",
      " [0.10839823 0.07903599 0.01136603 0.02799411]\n",
      " [0.08408756 0.05041044 0.00810356 0.01220796]\n",
      " [0.10124184 0.05925068 0.01336561 0.02357398]]\n",
      "\n",
      "[[0.51756602 0.17956372 0.01354765 0.02411022]\n",
      " [0.09299656 0.07646383 0.00895522 0.02250287]\n",
      " [0.02801378 0.01056257 0.0043628  0.00619977]\n",
      " [0.00137773 0.01033295 0.00068886 0.00275545]]\n"
     ]
    }
   ],
   "source": [
    "y_pred_bag = bagged_class_pca.predict(Z_test0)\n",
    "print(confusion_matrix(make_4brackets(ytrain_2nd_cities), y_pred_bag) / len(y_pred_bag))\n",
    "print()\n",
    "y_pred_bag = bagged_class_pca.predict(Z_test2)\n",
    "print(confusion_matrix(make_4brackets(y2), y_pred_bag)  / len(y_pred_bag))"
   ]
  },
  {
   "cell_type": "code",
   "execution_count": 79,
   "metadata": {},
   "outputs": [
    {
     "name": "stdout",
     "output_type": "stream",
     "text": [
      "[[0.28699221 0.11534414 0.00557777 0.01304988]\n",
      " [0.12881499 0.06219743 0.0128394  0.02294254]\n",
      " [0.09261208 0.0438855  0.00620922 0.01210272]\n",
      " [0.08861292 0.07651021 0.00978741 0.02252157]]\n",
      "\n",
      "[[0.52307692 0.1836969  0.00964409 0.01836969]\n",
      " [0.11595867 0.05120551 0.01079219 0.02296211]\n",
      " [0.02525832 0.01928817 0.00091848 0.00367394]\n",
      " [0.00413318 0.00597015 0.00068886 0.0043628 ]]\n"
     ]
    }
   ],
   "source": [
    "y_pred_bag = random_forest_class_pca.predict(Z_test0)\n",
    "print(confusion_matrix(make_4brackets(ytrain_2nd_cities), y_pred_bag) / len(y_pred_bag))\n",
    "print()\n",
    "y_pred_bag = random_forest_class_pca.predict(Z_test2)\n",
    "print(confusion_matrix(make_4brackets(y2), y_pred_bag) / len(y_pred_bag))"
   ]
  },
  {
   "cell_type": "markdown",
   "metadata": {},
   "source": [
    "### Testing of 6 Cities X_train, 4 brackets of Income on Last City: Miami"
   ]
  },
  {
   "cell_type": "code",
   "execution_count": 23,
   "metadata": {},
   "outputs": [
    {
     "data": {
      "text/plain": [
       "(18646, 1482)"
      ]
     },
     "execution_count": 23,
     "metadata": {},
     "output_type": "execute_result"
    }
   ],
   "source": [
    "X_allcities = X_allcities.append(X1).append(X3)\n",
    "X_allcities.shape"
   ]
  },
  {
   "cell_type": "code",
   "execution_count": 37,
   "metadata": {},
   "outputs": [
    {
     "data": {
      "text/plain": [
       "(23793,)"
      ]
     },
     "execution_count": 37,
     "metadata": {},
     "output_type": "execute_result"
    }
   ],
   "source": [
    "y_allcities = y_allcities.append(y1).append(y3)\n",
    "y_allcities.shape"
   ]
  },
  {
   "cell_type": "code",
   "execution_count": 27,
   "metadata": {},
   "outputs": [],
   "source": [
    "y_train_class3 = make_4brackets(y_allcities)"
   ]
  },
  {
   "cell_type": "code",
   "execution_count": 28,
   "metadata": {},
   "outputs": [
    {
     "data": {
      "text/plain": [
       "(4355,)"
      ]
     },
     "execution_count": 28,
     "metadata": {},
     "output_type": "execute_result"
    }
   ],
   "source": [
    "make_4brackets(y2).shape"
   ]
  },
  {
   "cell_type": "code",
   "execution_count": 29,
   "metadata": {},
   "outputs": [],
   "source": [
    "X_train, X_test, y_train, y_test = train_test_split(X_allcities, y_train_class3, \n",
    "                                                    test_size=.15, random_state=42) \n",
    "\n",
    "ss = StandardScaler()\n",
    "X_train_scaled = ss.fit_transform(X_train)\n",
    "X_test_scaled = ss.transform(X_test)\n",
    "\n",
    "## Applying PCA to Xs\n",
    "pca = PCA(n_components=200)\n",
    "pca = pca.fit(X_train_scaled)\n",
    "Z_train = pca.transform(X_train_scaled)\n",
    "Z_test =pca.transform(X_test_scaled)"
   ]
  },
  {
   "cell_type": "code",
   "execution_count": 41,
   "metadata": {},
   "outputs": [
    {
     "data": {
      "text/plain": [
       "(18646,)"
      ]
     },
     "execution_count": 41,
     "metadata": {},
     "output_type": "execute_result"
    }
   ],
   "source": [
    "y_train_class3.shape"
   ]
  },
  {
   "cell_type": "code",
   "execution_count": 40,
   "metadata": {
    "scrolled": true
   },
   "outputs": [
    {
     "name": "stdout",
     "output_type": "stream",
     "text": [
      "R2 scores for <class 'sklearn.linear_model.logistic.LogisticRegression'> train set: 0.7030096536059057\n",
      "R2 scores for <class 'sklearn.linear_model.logistic.LogisticRegression'> test set: 0.6914551304969611\n",
      "The training accuracy-score for <class 'sklearn.linear_model.logistic.LogisticRegression'> is: \n",
      "[0.79217864 0.54782489 0.52730109 0.74614306]\n",
      "The testing accuracy-score for <class 'sklearn.linear_model.logistic.LogisticRegression'> is: \n",
      "[0.79413681 0.50488599 0.5035461  0.71857923]\n",
      "\n"
     ]
    },
    {
     "data": {
      "text/plain": [
       "(array([0.79217864, 0.54782489, 0.52730109, 0.74614306]),\n",
       " array([0.79413681, 0.50488599, 0.5035461 , 0.71857923]))"
      ]
     },
     "execution_count": 40,
     "metadata": {},
     "output_type": "execute_result"
    }
   ],
   "source": [
    "accuracy_scorer(logreg_class_pca, Z_train, Z_test, y_train, y_test)"
   ]
  },
  {
   "cell_type": "code",
   "execution_count": 43,
   "metadata": {},
   "outputs": [
    {
     "data": {
      "text/plain": [
       "['4brackets_PCA.joblib']"
      ]
     },
     "execution_count": 43,
     "metadata": {},
     "output_type": "execute_result"
    }
   ],
   "source": [
    "joblib.dump(ss, '4brackets_StandardScaler.joblib', compress=9)\n",
    "joblib.dump(pca, '4brackets_PCA.joblib', compress=9)"
   ]
  },
  {
   "cell_type": "code",
   "execution_count": 42,
   "metadata": {},
   "outputs": [
    {
     "data": {
      "text/plain": [
       "['mediocre_logistic_4brackets.joblib']"
      ]
     },
     "execution_count": 42,
     "metadata": {},
     "output_type": "execute_result"
    }
   ],
   "source": [
    "joblib.dump(logreg_class_pca, 'mediocre_logistic_4brackets.joblib', compress=9)"
   ]
  },
  {
   "cell_type": "code",
   "execution_count": null,
   "metadata": {},
   "outputs": [],
   "source": [
    "logreg_class_pca = LogisticRegression()\n",
    "logreg_class_pca.fit(Z_train, y_train)"
   ]
  },
  {
   "cell_type": "code",
   "execution_count": 84,
   "metadata": {},
   "outputs": [
    {
     "data": {
      "text/plain": [
       "RandomForestClassifier(bootstrap=True, class_weight=None, criterion='gini',\n",
       "            max_depth=None, max_features='auto', max_leaf_nodes=None,\n",
       "            min_impurity_decrease=0.0, min_impurity_split=None,\n",
       "            min_samples_leaf=1, min_samples_split=2,\n",
       "            min_weight_fraction_leaf=0.0, n_estimators=10, n_jobs=1,\n",
       "            oob_score=False, random_state=None, verbose=0,\n",
       "            warm_start=False)"
      ]
     },
     "execution_count": 84,
     "metadata": {},
     "output_type": "execute_result"
    }
   ],
   "source": [
    "knn_class_pca = KNeighborsClassifier()\n",
    "knn_class_pca.fit(Z_train, y_train)\n",
    "\n",
    "bagged_class_pca = BaggingClassifier()\n",
    "bagged_class_pca.fit(Z_train, y_train)\n",
    "\n",
    "random_forest_class_pca = RandomForestClassifier()\n",
    "random_forest_class_pca.fit(Z_train, y_train)"
   ]
  },
  {
   "cell_type": "code",
   "execution_count": 86,
   "metadata": {},
   "outputs": [
    {
     "name": "stdout",
     "output_type": "stream",
     "text": [
      "R2 scores for <class 'sklearn.linear_model.logistic.LogisticRegression'> train set: 0.699917975897533\n",
      "R2 scores for <class 'sklearn.linear_model.logistic.LogisticRegression'> test set: 0.6893099749731856\n",
      "The training accuracy-score for <class 'sklearn.linear_model.logistic.LogisticRegression'> is: \n",
      "[0.79493701 0.53593514 0.52009895 0.73925234]\n",
      "The testing accuracy-score for <class 'sklearn.linear_model.logistic.LogisticRegression'> is: \n",
      "[0.79648323 0.49301561 0.48601399 0.72479564]\n",
      "\n",
      "R2 scores for <class 'sklearn.neighbors.classification.KNeighborsClassifier'> train set: 0.9200580478263612\n",
      "R2 scores for <class 'sklearn.neighbors.classification.KNeighborsClassifier'> test set: 0.8823739721129782\n",
      "The training accuracy-score for <class 'sklearn.neighbors.classification.KNeighborsClassifier'> is: \n",
      "[0.95070614 0.89021765 0.86698043 0.92277401]\n",
      "The testing accuracy-score for <class 'sklearn.neighbors.classification.KNeighborsClassifier'> is: \n",
      "[0.93318318 0.84195997 0.7826087  0.87231353]\n",
      "\n",
      "R2 scores for <class 'sklearn.ensemble.bagging.BaggingClassifier'> train set: 0.9853618524828065\n",
      "R2 scores for <class 'sklearn.ensemble.bagging.BaggingClassifier'> test set: 0.9048981051126207\n",
      "The training accuracy-score for <class 'sklearn.ensemble.bagging.BaggingClassifier'> is: \n",
      "[0.98655382 0.97957245 0.98379456 0.99350087]\n",
      "The testing accuracy-score for <class 'sklearn.ensemble.bagging.BaggingClassifier'> is: \n",
      "[0.94227188 0.86795048 0.83013294 0.91002571]\n",
      "\n",
      "R2 scores for <class 'sklearn.ensemble.forest.RandomForestClassifier'> train set: 0.9866868572149663\n",
      "R2 scores for <class 'sklearn.ensemble.forest.RandomForestClassifier'> test set: 0.9063282087951376\n",
      "The training accuracy-score for <class 'sklearn.ensemble.forest.RandomForestClassifier'> is: \n",
      "[0.98763914 0.98167539 0.98634219 0.99307958]\n",
      "The testing accuracy-score for <class 'sklearn.ensemble.forest.RandomForestClassifier'> is: \n",
      "[0.94200222 0.88121547 0.82105263 0.90180879]\n",
      "\n"
     ]
    }
   ],
   "source": [
    "for model in [logreg_class_pca, knn_class_pca, bagged_class_pca, random_forest_class_pca] :\n",
    "    accuracy_scorer(model, Z_train, Z_test, y_train, y_test)"
   ]
  },
  {
   "cell_type": "code",
   "execution_count": 87,
   "metadata": {},
   "outputs": [],
   "source": [
    "# Scaler and pca transform already fit with 2014 Kaggle X_train\n",
    "X_test_scaled0 = ss.transform(Xtrain_2nd_cities)\n",
    "X_test_scaled2 = ss.transform(X2)\n",
    "\n",
    "Z_test0 = pca.transform(X_test_scaled0)\n",
    "Z_test2 = pca.transform(X_test_scaled2)"
   ]
  },
  {
   "cell_type": "code",
   "execution_count": 88,
   "metadata": {},
   "outputs": [
    {
     "name": "stdout",
     "output_type": "stream",
     "text": [
      "R2 scores for <class 'sklearn.linear_model.logistic.LogisticRegression'> train set: 0.6442854135971374\n",
      "R2 scores for <class 'sklearn.linear_model.logistic.LogisticRegression'> test set: 0.5412169919632607\n",
      "The training accuracy-score for <class 'sklearn.linear_model.logistic.LogisticRegression'> is: \n",
      "[0.72422486 0.49401579 0.57536286 0.67594255]\n",
      "The testing accuracy-score for <class 'sklearn.linear_model.logistic.LogisticRegression'> is: \n",
      "[0.73228737 0.1036036  0.09324009 0.11409396]\n",
      "\n",
      "R2 scores for <class 'sklearn.ensemble.forest.RandomForestClassifier'> train set: 0.7323721321826984\n",
      "R2 scores for <class 'sklearn.ensemble.forest.RandomForestClassifier'> test set: 0.43283582089552236\n",
      "The training accuracy-score for <class 'sklearn.ensemble.forest.RandomForestClassifier'> is: \n",
      "[0.6898442  0.63751051 0.83008731 0.83725219]\n",
      "The testing accuracy-score for <class 'sklearn.ensemble.forest.RandomForestClassifier'> is: \n",
      "[0.60003757 0.22619048 0.04175365 0.08563536]\n",
      "\n",
      "R2 scores for <class 'sklearn.ensemble.bagging.BaggingClassifier'> train set: 0.7480530414649548\n",
      "R2 scores for <class 'sklearn.ensemble.bagging.BaggingClassifier'> test set: 0.4691159586681975\n",
      "The training accuracy-score for <class 'sklearn.ensemble.bagging.BaggingClassifier'> is: \n",
      "[0.71604593 0.6119797  0.82500827 0.91824221]\n",
      "The testing accuracy-score for <class 'sklearn.ensemble.bagging.BaggingClassifier'> is: \n",
      "[0.63810557 0.20663265 0.07677543 0.09836066]\n",
      "\n",
      "R2 scores for <class 'sklearn.neighbors.classification.KNeighborsClassifier'> train set: 0.6830141022942539\n",
      "R2 scores for <class 'sklearn.neighbors.classification.KNeighborsClassifier'> test set: 0.40551090700344433\n",
      "The training accuracy-score for <class 'sklearn.neighbors.classification.KNeighborsClassifier'> is: \n",
      "[0.65109078 0.54227642 0.76975945 0.84689113]\n",
      "The testing accuracy-score for <class 'sklearn.neighbors.classification.KNeighborsClassifier'> is: \n",
      "[0.56902849 0.15849057 0.00997506 0.07589286]\n",
      "\n"
     ]
    }
   ],
   "source": [
    "for model in [logreg_class_pca, random_forest_class_pca, bagged_class_pca, knn_class_pca] :\n",
    "    accuracy_scorer(model, Z_test0, Z_test2, make_4brackets(ytrain_2nd_cities), make_4brackets(y2))\n"
   ]
  },
  {
   "cell_type": "code",
   "execution_count": 26,
   "metadata": {},
   "outputs": [
    {
     "name": "stdout",
     "output_type": "stream",
     "text": [
      "R2 scores for <class 'sklearn.linear_model.logistic.LogisticRegression'> train set: 0.8705720630221\n",
      "R2 scores for <class 'sklearn.linear_model.logistic.LogisticRegression'> test set: 0.8579988016776513\n",
      "The training accuracy-score for <class 'sklearn.linear_model.logistic.LogisticRegression'> is: \n",
      "[0.92443411 0.65917843 0.76085106]\n",
      "The testing accuracy-score for <class 'sklearn.linear_model.logistic.LogisticRegression'> is: \n",
      "[0.92110377 0.62611807 0.69902913]\n",
      "\n",
      "R2 scores for <class 'sklearn.neighbors.classification.KNeighborsClassifier'> train set: 0.9405731204398858\n",
      "R2 scores for <class 'sklearn.neighbors.classification.KNeighborsClassifier'> test set: 0.9185140802875974\n",
      "The training accuracy-score for <class 'sklearn.neighbors.classification.KNeighborsClassifier'> is: \n",
      "[0.9671062  0.85779685 0.87585682]\n",
      "The testing accuracy-score for <class 'sklearn.neighbors.classification.KNeighborsClassifier'> is: \n",
      "[0.95683453 0.7960199  0.82403433]\n",
      "\n",
      "R2 scores for <class 'sklearn.ensemble.bagging.BaggingClassifier'> train set: 0.9870995030136407\n",
      "R2 scores for <class 'sklearn.ensemble.bagging.BaggingClassifier'> test set: 0.9227082085080887\n",
      "The training accuracy-score for <class 'sklearn.ensemble.bagging.BaggingClassifier'> is: \n",
      "[0.99181553 0.97053824 0.98124531]\n",
      "The testing accuracy-score for <class 'sklearn.ensemble.bagging.BaggingClassifier'> is: \n",
      "[0.95971564 0.79310345 0.84070796]\n",
      "\n",
      "R2 scores for <class 'sklearn.ensemble.forest.RandomForestClassifier'> train set: 0.9878396954636777\n",
      "R2 scores for <class 'sklearn.ensemble.forest.RandomForestClassifier'> test set: 0.9155182744158179\n",
      "The training accuracy-score for <class 'sklearn.ensemble.forest.RandomForestClassifier'> is: \n",
      "[0.99237729 0.97263752 0.98048048]\n",
      "The testing accuracy-score for <class 'sklearn.ensemble.forest.RandomForestClassifier'> is: \n",
      "[0.95279308 0.7848537  0.82790698]\n",
      "\n",
      "R2 scores for <class 'sklearn.ensemble.weight_boosting.AdaBoostClassifier'> train set: 0.8107222163476789\n",
      "R2 scores for <class 'sklearn.ensemble.weight_boosting.AdaBoostClassifier'> test set: 0.8034751348112642\n",
      "The training accuracy-score for <class 'sklearn.ensemble.weight_boosting.AdaBoostClassifier'> is: \n",
      "[0.89539523 0.44963905 0.64473684]\n",
      "The testing accuracy-score for <class 'sklearn.ensemble.weight_boosting.AdaBoostClassifier'> is: \n",
      "[0.89697434 0.41960784 0.58064516]\n",
      "\n"
     ]
    }
   ],
   "source": [
    "for model in [logreg_class_pca, knn_class_pca, bagged_class_pca, random_forest_class_pca] :\n",
    "    accuracy_scorer(model, Z_train, Z_test, y_train, y_test)"
   ]
  },
  {
   "cell_type": "markdown",
   "metadata": {},
   "source": [
    "### Final Testing Using 6 City X_train with 3 brackets of Income (0-20k, 20k-50k, 51k+) on Last City: Miami"
   ]
  },
  {
   "cell_type": "code",
   "execution_count": 22,
   "metadata": {},
   "outputs": [
    {
     "name": "stdout",
     "output_type": "stream",
     "text": [
      "(7410,)\n",
      "(4684,)\n",
      "(1405,)\n"
     ]
    }
   ],
   "source": [
    "print(y_allcities[y_allcities < 20000].shape)\n",
    "print(y_allcities[(y_allcities >= 20000) & (y_allcities < 50000)].shape)\n",
    "print(y_allcities[y_allcities >= 50000].shape)"
   ]
  },
  {
   "cell_type": "code",
   "execution_count": 93,
   "metadata": {},
   "outputs": [],
   "source": [
    "## Creating column y_train_class3\n",
    "\n",
    "y_train = y_allcities\n",
    "\n",
    "def make_3brackets(y_train) :\n",
    "\n",
    "    y_train_class3 = pd.Series(['NaN' for i in range(len(y_train)) ])\n",
    "\n",
    "    ## Creating y_train for classification\n",
    "\n",
    "    brackets ={'$0-$20k': 0,'$20-$50k':1, '$50+k':2}\n",
    "\n",
    "    for index, value in enumerate(y_train):\n",
    "        if y_train.iloc[index] < 20000:\n",
    "            y_train_class3.iloc[index] = brackets['$0-$20k']\n",
    "        elif y_train.iloc[index] < 50000:\n",
    "            y_train_class3.iloc[index] = brackets['$20-$50k']\n",
    "        elif y_train.iloc[index] >= 50000:\n",
    "            y_train_class3.iloc[index] = brackets['$50+k']\n",
    "        else:\n",
    "            y_train_class3.iloc[index] = np.nan\n",
    "            \n",
    "    return y_train_class3"
   ]
  },
  {
   "cell_type": "code",
   "execution_count": 94,
   "metadata": {},
   "outputs": [],
   "source": [
    "y_train_class4 = make_3brackets(y_train)"
   ]
  },
  {
   "cell_type": "code",
   "execution_count": 95,
   "metadata": {},
   "outputs": [],
   "source": [
    "X_train, X_test, y_train, y_test = train_test_split(X_allcities, y_train_class4, \n",
    "                                                    test_size=.15, random_state=42) \n",
    "\n",
    "ss = StandardScaler()\n",
    "X_train_scaled = ss.fit_transform(X_train)\n",
    "X_test_scaled = ss.transform(X_test)\n",
    "\n",
    "## Applying PCA to Xs\n",
    "pca = PCA(n_components=200)\n",
    "pca = pca.fit(X_train_scaled)\n",
    "Z_train = pca.transform(X_train_scaled)\n",
    "Z_test =pca.transform(X_test_scaled)"
   ]
  },
  {
   "cell_type": "code",
   "execution_count": 96,
   "metadata": {},
   "outputs": [
    {
     "data": {
      "text/plain": [
       "RandomForestClassifier(bootstrap=True, class_weight=None, criterion='gini',\n",
       "            max_depth=None, max_features='auto', max_leaf_nodes=None,\n",
       "            min_impurity_decrease=0.0, min_impurity_split=None,\n",
       "            min_samples_leaf=1, min_samples_split=2,\n",
       "            min_weight_fraction_leaf=0.0, n_estimators=10, n_jobs=1,\n",
       "            oob_score=False, random_state=None, verbose=0,\n",
       "            warm_start=False)"
      ]
     },
     "execution_count": 96,
     "metadata": {},
     "output_type": "execute_result"
    }
   ],
   "source": [
    "logreg_class_pca = LogisticRegression()\n",
    "logreg_class_pca.fit(Z_train, y_train)\n",
    "\n",
    "knn_class_pca = KNeighborsClassifier()\n",
    "knn_class_pca.fit(Z_train, y_train)\n",
    "\n",
    "bagged_class_pca = BaggingClassifier()\n",
    "bagged_class_pca.fit(Z_train, y_train)\n",
    "\n",
    "random_forest_class_pca = RandomForestClassifier()\n",
    "random_forest_class_pca.fit(Z_train, y_train)"
   ]
  },
  {
   "cell_type": "code",
   "execution_count": 97,
   "metadata": {},
   "outputs": [
    {
     "name": "stdout",
     "output_type": "stream",
     "text": [
      "R2 scores for <class 'sklearn.linear_model.logistic.LogisticRegression'> train set: 0.7357561991292826\n",
      "R2 scores for <class 'sklearn.linear_model.logistic.LogisticRegression'> test set: 0.7247050411154808\n",
      "The training accuracy-score for <class 'sklearn.linear_model.logistic.LogisticRegression'> is: \n",
      "[0.78350384 0.65131579 0.757777  ]\n",
      "The testing accuracy-score for <class 'sklearn.linear_model.logistic.LogisticRegression'> is: \n",
      "[0.78128323 0.62422535 0.74348697]\n",
      "\n",
      "R2 scores for <class 'sklearn.neighbors.classification.KNeighborsClassifier'> train set: 0.9363997728563316\n",
      "R2 scores for <class 'sklearn.neighbors.classification.KNeighborsClassifier'> test set: 0.9095459420808009\n",
      "The training accuracy-score for <class 'sklearn.neighbors.classification.KNeighborsClassifier'> is: \n",
      "[0.95148267 0.919898   0.93270142]\n",
      "The testing accuracy-score for <class 'sklearn.neighbors.classification.KNeighborsClassifier'> is: \n",
      "[0.93591772 0.88346056 0.8955495 ]\n",
      "\n",
      "R2 scores for <class 'sklearn.ensemble.bagging.BaggingClassifier'> train set: 0.9871285254590195\n",
      "R2 scores for <class 'sklearn.ensemble.bagging.BaggingClassifier'> test set: 0.9224168752234537\n",
      "The training accuracy-score for <class 'sklearn.ensemble.bagging.BaggingClassifier'> is: \n",
      "[0.98693467 0.98395441 0.99324218]\n",
      "The testing accuracy-score for <class 'sklearn.ensemble.bagging.BaggingClassifier'> is: \n",
      "[0.94645669 0.89847716 0.9095941 ]\n",
      "\n",
      "R2 scores for <class 'sklearn.ensemble.forest.RandomForestClassifier'> train set: 0.9871916209224557\n",
      "R2 scores for <class 'sklearn.ensemble.forest.RandomForestClassifier'> test set: 0.9259921344297461\n",
      "The training accuracy-score for <class 'sklearn.ensemble.forest.RandomForestClassifier'> is: \n",
      "[0.98722549 0.98395722 0.99292119]\n",
      "The testing accuracy-score for <class 'sklearn.ensemble.forest.RandomForestClassifier'> is: \n",
      "[0.94691647 0.90322581 0.91751622]\n",
      "\n"
     ]
    }
   ],
   "source": [
    "for model in [logreg_class_pca, knn_class_pca, bagged_class_pca, random_forest_class_pca] :\n",
    "    accuracy_scorer(model, Z_train, Z_test, y_train, y_test)"
   ]
  },
  {
   "cell_type": "code",
   "execution_count": 98,
   "metadata": {},
   "outputs": [],
   "source": [
    "X_test_scaled0 = ss.transform(Xtrain_2nd_cities)\n",
    "X_test_scaled2 = ss.transform(X2)\n",
    "\n",
    "Z_test0 = pca.transform(X_test_scaled0)\n",
    "Z_test2 = pca.transform(X_test_scaled2)"
   ]
  },
  {
   "cell_type": "code",
   "execution_count": 100,
   "metadata": {},
   "outputs": [
    {
     "name": "stdout",
     "output_type": "stream",
     "text": [
      "R2 scores for <class 'sklearn.linear_model.logistic.LogisticRegression'> train set: 0.6545990317827826\n",
      "R2 scores for <class 'sklearn.linear_model.logistic.LogisticRegression'> test set: 0.46498277841561425\n",
      "The training accuracy-score for <class 'sklearn.linear_model.logistic.LogisticRegression'> is: \n",
      "[0.64839927 0.5728972  0.7593445 ]\n",
      "The testing accuracy-score for <class 'sklearn.linear_model.logistic.LogisticRegression'> is: \n",
      "[0.63501805 0.1825226  0.12750885]\n",
      "\n",
      "R2 scores for <class 'sklearn.ensemble.forest.RandomForestClassifier'> train set: 0.717006945906125\n",
      "R2 scores for <class 'sklearn.ensemble.forest.RandomForestClassifier'> test set: 0.39196326061997705\n",
      "The training accuracy-score for <class 'sklearn.ensemble.forest.RandomForestClassifier'> is: \n",
      "[0.61838352 0.6907387  0.86649503]\n",
      "The testing accuracy-score for <class 'sklearn.ensemble.forest.RandomForestClassifier'> is: \n",
      "[0.50782537 0.28709677 0.07692308]\n",
      "\n",
      "R2 scores for <class 'sklearn.ensemble.bagging.BaggingClassifier'> train set: 0.7256367080614607\n",
      "R2 scores for <class 'sklearn.ensemble.bagging.BaggingClassifier'> test set: 0.4133180252583238\n",
      "The training accuracy-score for <class 'sklearn.ensemble.bagging.BaggingClassifier'> is: \n",
      "[0.63685723 0.69516526 0.86937269]\n",
      "The testing accuracy-score for <class 'sklearn.ensemble.bagging.BaggingClassifier'> is: \n",
      "[0.53058677 0.30759494 0.10483871]\n",
      "\n",
      "R2 scores for <class 'sklearn.neighbors.classification.KNeighborsClassifier'> train set: 0.7047989896863818\n",
      "R2 scores for <class 'sklearn.neighbors.classification.KNeighborsClassifier'> test set: 0.41285878300803674\n",
      "The training accuracy-score for <class 'sklearn.neighbors.classification.KNeighborsClassifier'> is: \n",
      "[0.6330491  0.65105522 0.8675246 ]\n",
      "The testing accuracy-score for <class 'sklearn.neighbors.classification.KNeighborsClassifier'> is: \n",
      "[0.5520345  0.20572256 0.13636364]\n",
      "\n"
     ]
    }
   ],
   "source": [
    "for model in [logreg_class_pca, random_forest_class_pca, bagged_class_pca, knn_class_pca] :\n",
    "    accuracy_scorer(model, Z_test0, Z_test2, make_3brackets(ytrain_2nd_cities), make_3brackets(y2))\n"
   ]
  },
  {
   "cell_type": "code",
   "execution_count": null,
   "metadata": {},
   "outputs": [],
   "source": []
  },
  {
   "cell_type": "code",
   "execution_count": 107,
   "metadata": {},
   "outputs": [
    {
     "name": "stdout",
     "output_type": "stream",
     "text": [
      "[array([25., 11.,  5.]), array([10., 20.,  6.]), array([ 2.,  3., 22.])]\n",
      "\n",
      "[array([41., 21.,  9.]), array([16.,  5.,  7.]), array([1., 1., 2.])]\n"
     ]
    }
   ],
   "source": [
    "y_pred_bag = logreg_class_pca.predict(Z_test0)\n",
    "print(list(map(np.ceil, \n",
    "          confusion_matrix(make_3brackets(ytrain_2nd_cities), y_pred_bag) / len(y_pred_bag) * 100)))\n",
    "print()\n",
    "y_pred_bag = logreg_class_pca.predict(Z_test2)\n",
    "print(list(map(np.ceil, \n",
    "          confusion_matrix(make_3brackets(y2), y_pred_bag) / len(y_pred_bag) * 100)))"
   ]
  },
  {
   "cell_type": "code",
   "execution_count": 106,
   "metadata": {},
   "outputs": [
    {
     "name": "stdout",
     "output_type": "stream",
     "text": [
      "[array([23., 14.,  4.]), array([ 9., 24.,  3.]), array([ 1.,  1., 25.])]\n",
      "\n",
      "[array([34., 30.,  7.]), array([18.,  7.,  4.]), array([2., 1., 1.])]\n"
     ]
    }
   ],
   "source": [
    "y_pred_bag = knn_class_pca.predict(Z_test0)\n",
    "print(list(map(np.ceil, \n",
    "          confusion_matrix(make_3brackets(ytrain_2nd_cities), y_pred_bag) / len(y_pred_bag) * 100)))\n",
    "print()\n",
    "y_pred_bag = knn_class_pca.predict(Z_test2)\n",
    "print(list(map(np.ceil, \n",
    "          confusion_matrix(make_3brackets(y2), y_pred_bag) / len(y_pred_bag) * 100)))"
   ]
  },
  {
   "cell_type": "code",
   "execution_count": null,
   "metadata": {},
   "outputs": [],
   "source": []
  }
 ],
 "metadata": {
  "kernelspec": {
   "display_name": "Python 3",
   "language": "python",
   "name": "python3"
  },
  "language_info": {
   "codemirror_mode": {
    "name": "ipython",
    "version": 3
   },
   "file_extension": ".py",
   "mimetype": "text/x-python",
   "name": "python",
   "nbconvert_exporter": "python",
   "pygments_lexer": "ipython3",
   "version": "3.6.6"
  }
 },
 "nbformat": 4,
 "nbformat_minor": 2
}
