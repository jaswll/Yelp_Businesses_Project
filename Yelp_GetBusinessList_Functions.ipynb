{
 "cells": [
  {
   "cell_type": "code",
   "execution_count": 1,
   "metadata": {},
   "outputs": [
    {
     "name": "stderr",
     "output_type": "stream",
     "text": [
      "C:\\Users\\Jason\\AppData\\Local\\conda\\conda\\envs\\DSI-6\\lib\\site-packages\\sklearn\\ensemble\\weight_boosting.py:29: DeprecationWarning: numpy.core.umath_tests is an internal NumPy module and should not be imported. It will be removed in a future NumPy release.\n",
      "  from numpy.core.umath_tests import inner1d\n"
     ]
    }
   ],
   "source": [
    "%run imports_and_functions.ipynb"
   ]
  },
  {
   "cell_type": "markdown",
   "metadata": {
    "heading_collapsed": true
   },
   "source": [
    "### Jupyter-Gmaps Copyright"
   ]
  },
  {
   "cell_type": "code",
   "execution_count": 18,
   "metadata": {
    "hidden": true
   },
   "outputs": [
    {
     "name": "stdout",
     "output_type": "stream",
     "text": [
      "Requirement already satisfied: yelpapi in c:\\users\\jason\\appdata\\local\\conda\\conda\\envs\\dsi-6\\lib\\site-packages (2.3.0)\n",
      "Requirement already satisfied: requests in c:\\users\\jason\\appdata\\local\\conda\\conda\\envs\\dsi-6\\lib\\site-packages (from yelpapi) (2.19.1)\n",
      "Requirement already satisfied: chardet<3.1.0,>=3.0.2 in c:\\users\\jason\\appdata\\local\\conda\\conda\\envs\\dsi-6\\lib\\site-packages (from requests->yelpapi) (3.0.4)\n",
      "Requirement already satisfied: urllib3<1.24,>=1.21.1 in c:\\users\\jason\\appdata\\local\\conda\\conda\\envs\\dsi-6\\lib\\site-packages (from requests->yelpapi) (1.23)\n",
      "Requirement already satisfied: idna<2.8,>=2.5 in c:\\users\\jason\\appdata\\local\\conda\\conda\\envs\\dsi-6\\lib\\site-packages (from requests->yelpapi) (2.7)\n",
      "Requirement already satisfied: certifi>=2017.4.17 in c:\\users\\jason\\appdata\\local\\conda\\conda\\envs\\dsi-6\\lib\\site-packages (from requests->yelpapi) (2018.8.24)\n"
     ]
    },
    {
     "data": {
      "text/plain": [
       "'\\n    Copyright (c) 2013, Los Alamos National Security, LLC\\n    All rights reserved.\\n    Redistribution and use in source and binary forms, with or without modification, are permitted provided that the\\n    following conditions are met:\\n    * Redistributions of source code must retain the above copyright notice, this list of conditions and the following\\n      disclaimer.\\n    * Redistributions in binary form must reproduce the above copyright notice, this list of conditions and the\\n      following disclaimer in the documentation and/or other materials provided with the distribution.\\n    * Neither the name of Los Alamos National Security, LLC nor the names of its contributors may be used to endorse or\\n      promote products derived from this software without specific prior written permission.\\n    THIS SOFTWARE IS PROVIDED BY THE COPYRIGHT HOLDERS AND CONTRIBUTORS \"AS IS\" AND ANY EXPRESS OR IMPLIED WARRANTIES,\\n    INCLUDING, BUT NOT LIMITED TO, THE IMPLIED WARRANTIES OF MERCHANTABILITY AND FITNESS FOR A PARTICULAR PURPOSE ARE\\n    DISCLAIMED. IN NO EVENT SHALL THE COPYRIGHT HOLDER OR CONTRIBUTORS BE LIABLE FOR ANY DIRECT, INDIRECT, INCIDENTAL,\\n    SPECIAL, EXEMPLARY, OR CONSEQUENTIAL DAMAGES (INCLUDING, BUT NOT LIMITED TO, PROCUREMENT OF SUBSTITUTE GOODS OR\\n    SERVICES; LOSS OF USE, DATA, OR PROFITS; OR BUSINESS INTERRUPTION) HOWEVER CAUSED AND ON ANY THEORY OF LIABILITY,\\n    WHETHER IN CONTRACT, STRICT LIABILITY, OR TORT (INCLUDING NEGLIGENCE OR OTHERWISE) ARISING IN ANY WAY OUT OF THE USE\\n    OF THIS SOFTWARE, EVEN IF ADVISED OF THE POSSIBILITY OF SUCH DAMAGE.\\n'"
      ]
     },
     "execution_count": 18,
     "metadata": {},
     "output_type": "execute_result"
    }
   ],
   "source": [
    "# Connection with yelp api managed through github sourced yelpapi, author gfairchild, permitted with\n",
    "# display of copyright notice below.\n",
    "\"\"\"\n",
    "    Copyright (c) 2013, Los Alamos National Security, LLC\n",
    "    All rights reserved.\n",
    "    Redistribution and use in source and binary forms, with or without modification, are permitted provided that the\n",
    "    following conditions are met:\n",
    "    * Redistributions of source code must retain the above copyright notice, this list of conditions and the following\n",
    "      disclaimer.\n",
    "    * Redistributions in binary form must reproduce the above copyright notice, this list of conditions and the\n",
    "      following disclaimer in the documentation and/or other materials provided with the distribution.\n",
    "    * Neither the name of Los Alamos National Security, LLC nor the names of its contributors may be used to endorse or\n",
    "      promote products derived from this software without specific prior written permission.\n",
    "    THIS SOFTWARE IS PROVIDED BY THE COPYRIGHT HOLDERS AND CONTRIBUTORS \"AS IS\" AND ANY EXPRESS OR IMPLIED WARRANTIES,\n",
    "    INCLUDING, BUT NOT LIMITED TO, THE IMPLIED WARRANTIES OF MERCHANTABILITY AND FITNESS FOR A PARTICULAR PURPOSE ARE\n",
    "    DISCLAIMED. IN NO EVENT SHALL THE COPYRIGHT HOLDER OR CONTRIBUTORS BE LIABLE FOR ANY DIRECT, INDIRECT, INCIDENTAL,\n",
    "    SPECIAL, EXEMPLARY, OR CONSEQUENTIAL DAMAGES (INCLUDING, BUT NOT LIMITED TO, PROCUREMENT OF SUBSTITUTE GOODS OR\n",
    "    SERVICES; LOSS OF USE, DATA, OR PROFITS; OR BUSINESS INTERRUPTION) HOWEVER CAUSED AND ON ANY THEORY OF LIABILITY,\n",
    "    WHETHER IN CONTRACT, STRICT LIABILITY, OR TORT (INCLUDING NEGLIGENCE OR OTHERWISE) ARISING IN ANY WAY OUT OF THE USE\n",
    "    OF THIS SOFTWARE, EVEN IF ADVISED OF THE POSSIBILITY OF SUCH DAMAGE.\n",
    "\"\"\""
   ]
  },
  {
   "cell_type": "markdown",
   "metadata": {},
   "source": [
    "## Global Variables"
   ]
  },
  {
   "cell_type": "code",
   "execution_count": 2,
   "metadata": {},
   "outputs": [],
   "source": [
    "from yelpapi import YelpAPI\n",
    "\n",
    "API_KEY1 = \"G1-37Mu0IHzYjviLF5gdpXJ_GdNZhKBCVuVLCfwJ5oRLivMCKpWrQMYTurfGuihavP0K7gOiLpH-0Ze75L96RjthUEoMukghlMqexUaziQ4agkeu6MfdtW5enpgvXHYx\"\n",
    "API_KEY2 = \"fKGT-oiIvnk4B4rtfQsKTzQerIG6rtyC-qthL6COtUYxFJuioNn_sn_ty6l3FlIZidNg0uBZBvgwN4kudHJ4GtiQoOpcEu3U11Is0yI5neN7y1kTk0KKOuoqtMkvXHYx\"\n",
    "\n",
    "yelp_api = YelpAPI(API_KEY1)"
   ]
  },
  {
   "cell_type": "markdown",
   "metadata": {},
   "source": [
    "## Extracting Area Data from Yelp"
   ]
  },
  {
   "cell_type": "markdown",
   "metadata": {},
   "source": [
    "### Storing data for one Yelp Search"
   ]
  },
  {
   "cell_type": "code",
   "execution_count": 3,
   "metadata": {},
   "outputs": [],
   "source": [
    "class SearchData(object) :\n",
    "    \n",
    "    # Search parameters must always be given a location, for this project always a street address\n",
    "    # For one location and one main_category of business\n",
    "    \n",
    "    def __init__(self, name, main_category, location=None, coords=(90,90), \n",
    "                 limit = 50, offset = 0, radius=search_radius, df=None) :\n",
    "        self.name = name\n",
    "        self.main_category = main_category\n",
    "        self.coords = coords\n",
    "        self.location = location # assume input of either text location and if not lat/long coords\n",
    "        self.limit = limit\n",
    "        self.offset = offset\n",
    "        self.radius = radius  # radius (meters) to search within, yelp sometimes grabs outside the radius\n",
    "        if df == None :\n",
    "            self.df = pd.DataFrame(columns = features)\n",
    "        else : self.df = df\n",
    "        self.sort_by = 'distance'\n",
    "\n",
    "    # other optional parameters\n",
    "    #     term    # user inputted search term\n",
    "    #     sort_by # default is best_match, other options include distance and review_count but these may \n",
    "    # limit max search results returned to only 40, per yelp documentation\n",
    "\n",
    "    def printparams(self) :\n",
    "        print('location: ', self.location, ', coords: ', self.coords, ', offset: ', self.offset, \n",
    "        ', radius: ', self.radius, ', main_category: ', self.main_category)\n",
    "        print('Dataframe size:', self.df.shape)\n",
    "    \n",
    "    def add50rows(self) :\n",
    "        latlong = None\n",
    "        if self.location == None :  \n",
    "            lat, long = self.coords\n",
    "            latlong = str(lat) + ', ' + str(long)\n",
    "            location = latlong\n",
    "        else : location = self.location\n",
    "        search_results = yelp_api.search_query(location=location, \n",
    "                                               limit=self.limit, offset=self.offset,\n",
    "                                               categories=self.main_category, sort_by=self.sort_by)\n",
    "        prev_count = self.df.shape[0]\n",
    "        max_distance = 0\n",
    "        for business in search_results['businesses'] :\n",
    "            self.df = self.df.append({tupl[0] : tupl[1] for tupl in business.items() if tupl[0] in features},\n",
    "                                    ignore_index=True, sort=True)\n",
    "            if  business['distance'] > max_distance : max_distance = business['distance']\n",
    "#         print(self.df.shape[0] - prev_count, 'rows added to', self.name, ' for ', self.main_category)\n",
    "        return max_distance\n",
    "    \n",
    "    def addyelpdata(self) :\n",
    "        end = False\n",
    "        max_distance = 0\n",
    "        while (self.offset < 1000) & (not end) :\n",
    "            try :\n",
    "                max_distance = self.add50rows()\n",
    "                if max_distance > self.radius : end = True\n",
    "                self.offset += self.limit\n",
    "            except : # usually this means at end of yelp search results or hit 1000 result hard limit\n",
    "                end = True\n",
    "        \n",
    "        self.df['latitude'] = self.df['coordinates'].map((lambda x : x['latitude']))\n",
    "        self.df['longitude'] = self.df['coordinates'].map((lambda x : x['longitude']))\n",
    "        self.df['main_category'] = self.main_category\n",
    "#         print(self.main_category, ' done, size: ', self.df.shape, ' max_dist = ', max_distance)"
   ]
  },
  {
   "cell_type": "markdown",
   "metadata": {},
   "source": [
    "### Functions for One City Searches for Every Business Category "
   ]
  },
  {
   "cell_type": "code",
   "execution_count": 4,
   "metadata": {},
   "outputs": [],
   "source": [
    "class AreaData(object) :\n",
    "\n",
    "    def __init__(self, name, coords=(90,90), location=None, radius=search_radius,\n",
    "                df=pd.DataFrame()) :\n",
    "        self.name = name\n",
    "        self.coords = coords\n",
    "        self.location = location\n",
    "        self.radius = radius  # radius (meters) to search within, yelp sometimes grabs outside the radius\n",
    "        self.df = df\n",
    "        self.searches = []\n",
    "\n",
    "    def extract_yelp_businesses(self, location=None, coords=(90,90)) :\n",
    "        for category in main_alias :\n",
    "            search = SearchData('boston1', category, location=location, coords=coords, radius=self.radius)\n",
    "            search.addyelpdata()\n",
    "            self.df = self.df.append(search.df, ignore_index = True, sort=True)\n",
    "            self.searches.append(search)\n",
    "        return self.df"
   ]
  },
  {
   "cell_type": "code",
   "execution_count": 26,
   "metadata": {},
   "outputs": [],
   "source": [
    "def yelp_extra_square_search(main_category, lat, long, df=pd.DataFrame()) :\n",
    "    lat1000m = -115.161605-(-115.172713)\n",
    "    scale = 5\n",
    "    corner1 = (lat-lat1000m*scale, long-lat1000m*scale)\n",
    "    corner2 = (lat+lat1000m*scale, long-lat1000m*scale)\n",
    "    corner3 = (lat+lat1000m*scale, long+lat1000m*scale)\n",
    "    corner4 = (lat-lat1000m*scale, long+lat1000m*scale)\n",
    "    top = lat+lat1000m*scale, long\n",
    "    bottom = lat-lat1000m*scale, long\n",
    "    left = lat, long-lat1000m*scale\n",
    "    right = lat, long+lat1000m*scale\n",
    "    coordlist = [corner1, left, corner2, top, corner3, right, corner4, bottom]\n",
    "    for coord in coordlist :\n",
    "        search = SearchData('subsets', main_category, coords=coord, radius=1000*scale*0.7)\n",
    "        search.addyelpdata()\n",
    "        df = df.append(search.df, ignore_index = True, sort=True)\n",
    "    display = df.shape\n",
    "    dropmask = df[['alias','latitude','longitude','review_count']].duplicated(keep='first')\n",
    "    df = df[~dropmask]\n",
    "#     print(display, ' dropped to ', df.shape)\n",
    "    return df"
   ]
  },
  {
   "cell_type": "code",
   "execution_count": 9,
   "metadata": {},
   "outputs": [],
   "source": []
  },
  {
   "cell_type": "code",
   "execution_count": 7,
   "metadata": {},
   "outputs": [
    {
     "name": "stdout",
     "output_type": "stream",
     "text": [
      "active  done, size:  (800, 12)  max_dist =  5067.800938992921\n",
      "arts  done, size:  (600, 12)  max_dist =  6190.962542694475\n",
      "automotive  done, size:  (500, 12)  max_dist =  5266.645117196608\n",
      "beautysvc  done, size:  (1000, 12)  max_dist =  4512.937708552031\n",
      "education  done, size:  (450, 12)  max_dist =  5130.022659200853\n",
      "eventservices  done, size:  (800, 12)  max_dist =  5058.790089764473\n",
      "financialservices  done, size:  (400, 12)  max_dist =  5268.37530991864\n",
      "food  done, size:  (1000, 12)  max_dist =  3339.691995487489\n",
      "health  done, size:  (1000, 12)  max_dist =  3035.3559560361236\n",
      "homeservices  done, size:  (1000, 12)  max_dist =  3078.7656519261473\n",
      "hotelstravel  done, size:  (700, 12)  max_dist =  5329.777458536324\n",
      "localservices  done, size:  (1000, 12)  max_dist =  4309.098729159692\n",
      "massmedia  done, size:  (88, 12)  max_dist =  11352.053314398836\n",
      "nightlife  done, size:  (750, 12)  max_dist =  5266.345251586332\n",
      "pets  done, size:  (200, 12)  max_dist =  5746.45478686026\n",
      "professional  done, size:  (800, 12)  max_dist =  5112.120492123615\n",
      "publicservicesgovt  done, size:  (300, 12)  max_dist =  6230.449227221733\n",
      "realestate  done, size:  (1000, 12)  max_dist =  5379.95829400427\n",
      "religiousorgs  done, size:  (150, 12)  max_dist =  5429.376240227661\n",
      "restaurants  done, size:  (1000, 12)  max_dist =  2620.8715604255667\n",
      "shopping  done, size:  (1000, 12)  max_dist =  2734.679278884479\n"
     ]
    },
    {
     "data": {
      "text/plain": [
       "(14538, 12)"
      ]
     },
     "execution_count": 7,
     "metadata": {},
     "output_type": "execute_result"
    }
   ],
   "source": [
    "# boston1 = AreaData('Boston1', coords=(startlat, startlong), radius=maxradius)\n",
    "# df = boston1.extract_yelp_businesses(coords=(testlat, testlong))\n",
    "# df.shape"
   ]
  }
 ],
 "metadata": {
  "kernelspec": {
   "display_name": "Python 3",
   "language": "python",
   "name": "python3"
  },
  "language_info": {
   "codemirror_mode": {
    "name": "ipython",
    "version": 3
   },
   "file_extension": ".py",
   "mimetype": "text/x-python",
   "name": "python",
   "nbconvert_exporter": "python",
   "pygments_lexer": "ipython3",
   "version": "3.6.6"
  }
 },
 "nbformat": 4,
 "nbformat_minor": 2
}
