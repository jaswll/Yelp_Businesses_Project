{
 "cells": [
  {
   "cell_type": "code",
   "execution_count": 2,
   "metadata": {},
   "outputs": [
    {
     "name": "stderr",
     "output_type": "stream",
     "text": [
      "C:\\Users\\Jason\\AppData\\Local\\conda\\conda\\envs\\DSI-6\\lib\\site-packages\\sklearn\\ensemble\\weight_boosting.py:29: DeprecationWarning: numpy.core.umath_tests is an internal NumPy module and should not be imported. It will be removed in a future NumPy release.\n",
      "  from numpy.core.umath_tests import inner1d\n"
     ]
    }
   ],
   "source": [
    "import gmaps, json\n",
    "from sklearn.decomposition import PCA\n",
    "import requests, datetime, time, h5py\n",
    "from sklearn.externals import joblib\n",
    "import missingno as msno, geopy.distance\n",
    "from uszipcode import Zipcode, SearchEngine\n",
    "import geojson\n",
    "import ipywidgets as widgets \n",
    "import geopy\n",
    "\n",
    "import re, numpy as np, pandas as pd, seaborn as sns, matplotlib.pyplot as plt\n",
    "\n",
    "from sklearn.pipeline import Pipeline\n",
    "from sklearn.preprocessing import StandardScaler\n",
    "from sklearn.neighbors import KNeighborsClassifier\n",
    "from sklearn.linear_model import LogisticRegression, LinearRegression, LassoCV, RidgeCV\n",
    "from sklearn.preprocessing import PolynomialFeatures, StandardScaler\n",
    "from sklearn.model_selection import train_test_split, cross_val_score, cross_val_predict, GridSearchCV\n",
    "from sklearn.metrics import classification_report, confusion_matrix\n",
    "\n",
    "from sklearn.ensemble import RandomForestClassifier, ExtraTreesClassifier, AdaBoostClassifier\n",
    "from sklearn.tree import DecisionTreeClassifier\n",
    "from sklearn import svm\n",
    "from sklearn.naive_bayes import MultinomialNB\n",
    "\n",
    "from bs4 import BeautifulSoup\n",
    "from sklearn.feature_extraction.text import CountVectorizer, TfidfVectorizer\n",
    "from sklearn.feature_extraction import stop_words\n",
    "import nltk\n",
    "from nltk.tokenize import RegexpTokenizer \n",
    "from nltk.stem import WordNetLemmatizer \n",
    "from nltk import pos_tag, word_tokenize\n",
    "\n",
    "%matplotlib inline\n",
    "pd.options.display.max_columns = 90\n",
    "pd.options.display.max_rows = 200"
   ]
  },
  {
   "cell_type": "code",
   "execution_count": 1,
   "metadata": {},
   "outputs": [],
   "source": [
    "features = ['alias', 'name', 'categories', 'coordinates', 'distance', \n",
    "            'price', 'rating', 'review_count', 'attributes']\n",
    "\n",
    "search_radius = 1000  # in meters, 1600m is about 1 mile\n",
    "\n",
    "main_categories = ['Active Life','Arts & Entertainment','Automotive','Beauty & Spas',\n",
    "'Education','Event Planning & Services','Financial Services','Food','Health & Medical',\n",
    "'Home Services','Hotels & Travel','Local Services','Mass Media','Nightlife','Pets',\n",
    "'Professional Services','Public Services & Government','Real estate','Religious Organizations',\n",
    "'Restaurants','Shopping']\n",
    "\n",
    "main_alias = ['active','arts','automotive','beautysvc',\n",
    "'education','eventservices','financialservices',\n",
    "'food','health','homeservices','hotelstravel','localservices',\n",
    "'massmedia','nightlife','pets','professional','publicservicesgovt',\n",
    "'realestate','religiousorgs','restaurants','shopping']"
   ]
  },
  {
   "cell_type": "code",
   "execution_count": 2,
   "metadata": {},
   "outputs": [
    {
     "data": {
      "text/plain": [
       "148"
      ]
     },
     "execution_count": 2,
     "metadata": {},
     "output_type": "execute_result"
    }
   ],
   "source": [
    "top_148 = ['Restaurants','Shopping','Food','Beauty & Spas','Home Services','Health & Medical',\n",
    "'Local Services','Automotive','Nightlife','Bars','Event Planning & Services','Active Life','Fashion',\n",
    "'Coffee & Tea','Sandwiches','Hair Salons','Fast Food','American (Traditional)','Pizza','Home & Garden',\n",
    "'Auto Repair','Hotels & Travel','Arts & Entertainment','Professional Services','Doctors','Real Estate',\n",
    "'Burgers','Breakfast & Brunch','Nail Salons','Fitness & Instruction','Italian','Mexican','Specialty Food',\n",
    "'Chinese','American (New)','Pets','Hair Removal','Bakeries','Dentists','Grocery','Skin Care','Cafes',\n",
    "'Education','Desserts','Financial Services','Contractors',\"Women's Clothing\",'Pet Services',\n",
    "'General Dentistry','Massage','Ice Cream & Frozen Yogurt','Hotels','Japanese','Chicken Wings',\n",
    "'Day Spas','Seafood','Salad','Apartments','Waxing','Gyms','Caterers','Tires','Sushi Bars','Flowers & Gifts',\n",
    "'Venues & Event Spaces','Sports Bars','Oil Change Stations','Accessories','Sporting Goods','Pubs',\n",
    "'Cosmetics & Beauty Supply','Cosmetic Dentists','Hair Stylists','Barbers','Car Dealers',\n",
    "'Auto Parts & Supplies','Home Decor','Beer, Wine & Spirits','Trainers','Delis','Furniture Stores',\n",
    "'Canadian (New)','Asian Fusion','Mediterranean','Convenience Stores','Eyelash Service',\"Men's Clothing\",\n",
    "'Barbeque','Massage Therapy','Jewelry','Arts & Crafts','Drugstores','Medical Centers','Department Stores',\n",
    "'Juice Bars & Smoothies','Steakhouses','Heating & Air Conditioning/HVAC','Electronics','Lounges',\n",
    "'Pet Groomers','IT Services & Computer Repair','Real Estate Services','Gas Stations','Specialty Schools',\n",
    "'Indian','Thai','Dry Cleaning','Laundry Services','Shoe Stores','Diners','Chiropractors',\n",
    "'Books, Mags, Music & Video','Plumbing','Party & Event Planning','Public Services & Government',\n",
    "'Banks & Credit Unions','Veterinarians','Pet Sitting','Optometrists','Vietnamese','Real Estate Agents',\n",
    "'Body Shops','Home Cleaning','Makeup Artists','Mobile Phones','Middle Eastern','Medical Spas','Yoga',\n",
    "'Landscaping','Pet Stores','Cocktail Bars','Car Wash','Wine Bars','Eyewear & Opticians','Printing Services',\n",
    "'Florists','Movers','Auto Detailing','Greek','Vegetarian','Photographers','Transportation',\n",
    "'Performing Arts','Hair Extensions','Lawyers','French','Self Storage','Physical Therapy']"
   ]
  },
  {
   "cell_type": "code",
   "execution_count": null,
   "metadata": {},
   "outputs": [],
   "source": [
    "def getPriceRange(string) :\n",
    "    regex = re.compile(\"RestaurantsPriceRange2\\\\': \\\\'(\\d)\")\n",
    "    try :\n",
    "        match = regex.search(string)\n",
    "        return int(match.groups(0)[0])\n",
    "    except : return 0"
   ]
  },
  {
   "cell_type": "code",
   "execution_count": 2,
   "metadata": {},
   "outputs": [],
   "source": [
    "def calcDist(lat1, long1, lat2, long2) :  # returns distance in meters\n",
    "    try : d = geopy.distance.distance((lat1,long1), (lat2,long2)).m\n",
    "    except : d = np.nan\n",
    "    return d"
   ]
  },
  {
   "cell_type": "code",
   "execution_count": null,
   "metadata": {},
   "outputs": [],
   "source": [
    "def calcDistances(lat, long, citydf) :\n",
    "    distances = pd.Series(index=citydf.index)\n",
    "    for index in citydf.index :\n",
    "        distances[index] = calcDist(lat, long, citydf.loc[index,'latitude'], citydf.loc[index,'longitude'])\n",
    "    return distances"
   ]
  },
  {
   "cell_type": "code",
   "execution_count": null,
   "metadata": {},
   "outputs": [],
   "source": [
    "def latlong_tozipcode(tupl) :\n",
    "    try :\n",
    "        (lat, long) = tupl\n",
    "        result = search.by_coordinates(lat, long, radius=10, returns=1)\n",
    "        int(result[0].to_dict()['zipcode'])\n",
    "    except : return 0\n",
    "    return int(result[0].to_dict()['zipcode'])"
   ]
  },
  {
   "cell_type": "code",
   "execution_count": null,
   "metadata": {},
   "outputs": [],
   "source": []
  }
 ],
 "metadata": {
  "kernelspec": {
   "display_name": "Python 3",
   "language": "python",
   "name": "python3"
  },
  "language_info": {
   "codemirror_mode": {
    "name": "ipython",
    "version": 3
   },
   "file_extension": ".py",
   "mimetype": "text/x-python",
   "name": "python",
   "nbconvert_exporter": "python",
   "pygments_lexer": "ipython3",
   "version": "3.6.6"
  }
 },
 "nbformat": 4,
 "nbformat_minor": 2
}
